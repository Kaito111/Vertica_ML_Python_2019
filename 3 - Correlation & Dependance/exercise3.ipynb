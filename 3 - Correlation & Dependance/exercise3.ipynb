{
 "cells": [
  {
   "cell_type": "markdown",
   "metadata": {},
   "source": [
    "<p align=\"center\">\n",
    "<img src='../../img/VerticaMLPython.png' width=\"180px\">\n",
    "</p>\n",
    "\n",
    "# Vertica ML Python Exercise 3\n",
    "\n",
    "During this exercice, we will:\n",
    "<ul>\n",
    "    <li> Draw correlation matrix\n",
    "    <li> Understand the difference between dependance and correlation\n",
    "    <li> Understand how to use the correct correlation method\n",
    "</ul>\n",
    "## Initialization\n",
    "\n",
    "Let's create a cursor using the vertica_cursor function"
   ]
  },
  {
   "cell_type": "code",
   "execution_count": 1,
   "metadata": {
    "scrolled": true
   },
   "outputs": [],
   "source": [
    "from vertica_ml_python.utilities import vertica_cursor\n",
    "cur = vertica_cursor(\"VerticaDSN\")"
   ]
  },
  {
   "cell_type": "markdown",
   "metadata": {},
   "source": [
    "During this study, we will work with the churn dataset. You'll need to read the 'churn.csv' file."
   ]
  },
  {
   "cell_type": "code",
   "execution_count": 2,
   "metadata": {},
   "outputs": [
    {
     "name": "stdout",
     "output_type": "stream",
     "text": [
      "The table churn was successfully dropped.\n",
      "The table public.churn has been successfully created.\n"
     ]
    },
    {
     "data": {
      "text/html": [
       "<table style=\"border-collapse: collapse; border: 2px solid white\"><tr style=\"{border: 1px solid white;}\"><td style=\"border-bottom: 1px solid #DDD;font-size:1.02em;background-color:#214579;color:white\"><b></b></td><td style=\"font-size:1.02em;background-color:#214579;color:white\"><b>Partner</b></td><td style=\"font-size:1.02em;background-color:#214579;color:white\"><b>Dependents</b></td><td style=\"font-size:1.02em;background-color:#214579;color:white\"><b>StreamingMovies</b></td><td style=\"font-size:1.02em;background-color:#214579;color:white\"><b>PhoneService</b></td><td style=\"font-size:1.02em;background-color:#214579;color:white\"><b>TotalCharges</b></td><td style=\"font-size:1.02em;background-color:#214579;color:white\"><b>tenure</b></td><td style=\"font-size:1.02em;background-color:#214579;color:white\"><b>MonthlyCharges</b></td><td style=\"font-size:1.02em;background-color:#214579;color:white\"><b>Contract</b></td><td style=\"font-size:1.02em;background-color:#214579;color:white\"><b>gender</b></td><td style=\"font-size:1.02em;background-color:#214579;color:white\"><b>PaymentMethod</b></td><td style=\"font-size:1.02em;background-color:#214579;color:white\"><b>PaperlessBilling</b></td><td style=\"font-size:1.02em;background-color:#214579;color:white\"><b>StreamingTV</b></td><td style=\"font-size:1.02em;background-color:#214579;color:white\"><b>Churn</b></td><td style=\"font-size:1.02em;background-color:#214579;color:white\"><b>InternetService</b></td><td style=\"font-size:1.02em;background-color:#214579;color:white\"><b>DeviceProtection</b></td><td style=\"font-size:1.02em;background-color:#214579;color:white\"><b>SeniorCitizen</b></td><td style=\"font-size:1.02em;background-color:#214579;color:white\"><b>OnlineSecurity</b></td><td style=\"font-size:1.02em;background-color:#214579;color:white\"><b>customerID</b></td><td style=\"font-size:1.02em;background-color:#214579;color:white\"><b>OnlineBackup</b></td><td style=\"font-size:1.02em;background-color:#214579;color:white\"><b>MultipleLines</b></td><td style=\"font-size:1.02em;background-color:#214579;color:white\"><b>TechSupport</b></td></tr><tr style=\"{border: 1px solid white;}\"><td style=\"border-bottom: 1px solid #DDD;font-size:1.02em;background-color:#214579;color:white\"><b>0</b></td><td style=\"border: 1px solid white;\">True</td><td style=\"border: 1px solid white;\">False</td><td style=\"border: 1px solid white;\">No</td><td style=\"border: 1px solid white;\">False</td><td style=\"border: 1px solid white;\">29.850</td><td style=\"border: 1px solid white;\">1</td><td style=\"border: 1px solid white;\">29.850</td><td style=\"border: 1px solid white;\">Month-to-month</td><td style=\"border: 1px solid white;\">Female</td><td style=\"border: 1px solid white;\">Electronic check</td><td style=\"border: 1px solid white;\">True</td><td style=\"border: 1px solid white;\">No</td><td style=\"border: 1px solid white;\">False</td><td style=\"border: 1px solid white;\">DSL</td><td style=\"border: 1px solid white;\">No</td><td style=\"border: 1px solid white;\">0</td><td style=\"border: 1px solid white;\">No</td><td style=\"border: 1px solid white;\">7590-VHVEG</td><td style=\"border: 1px solid white;\">Yes</td><td style=\"border: 1px solid white;\">No phone service</td><td style=\"border: 1px solid white;\">No</td></tr><tr style=\"{border: 1px solid white;}\"><td style=\"border-bottom: 1px solid #DDD;font-size:1.02em;background-color:#214579;color:white\"><b>1</b></td><td style=\"border: 1px solid white;\">False</td><td style=\"border: 1px solid white;\">False</td><td style=\"border: 1px solid white;\">No</td><td style=\"border: 1px solid white;\">True</td><td style=\"border: 1px solid white;\">1889.500</td><td style=\"border: 1px solid white;\">34</td><td style=\"border: 1px solid white;\">56.950</td><td style=\"border: 1px solid white;\">One year</td><td style=\"border: 1px solid white;\">Male</td><td style=\"border: 1px solid white;\">Mailed check</td><td style=\"border: 1px solid white;\">False</td><td style=\"border: 1px solid white;\">No</td><td style=\"border: 1px solid white;\">False</td><td style=\"border: 1px solid white;\">DSL</td><td style=\"border: 1px solid white;\">Yes</td><td style=\"border: 1px solid white;\">0</td><td style=\"border: 1px solid white;\">Yes</td><td style=\"border: 1px solid white;\">5575-GNVDE</td><td style=\"border: 1px solid white;\">No</td><td style=\"border: 1px solid white;\">No</td><td style=\"border: 1px solid white;\">No</td></tr><tr style=\"{border: 1px solid white;}\"><td style=\"border-bottom: 1px solid #DDD;font-size:1.02em;background-color:#214579;color:white\"><b>2</b></td><td style=\"border: 1px solid white;\">False</td><td style=\"border: 1px solid white;\">False</td><td style=\"border: 1px solid white;\">No</td><td style=\"border: 1px solid white;\">True</td><td style=\"border: 1px solid white;\">108.150</td><td style=\"border: 1px solid white;\">2</td><td style=\"border: 1px solid white;\">53.850</td><td style=\"border: 1px solid white;\">Month-to-month</td><td style=\"border: 1px solid white;\">Male</td><td style=\"border: 1px solid white;\">Mailed check</td><td style=\"border: 1px solid white;\">True</td><td style=\"border: 1px solid white;\">No</td><td style=\"border: 1px solid white;\">True</td><td style=\"border: 1px solid white;\">DSL</td><td style=\"border: 1px solid white;\">No</td><td style=\"border: 1px solid white;\">0</td><td style=\"border: 1px solid white;\">Yes</td><td style=\"border: 1px solid white;\">3668-QPYBK</td><td style=\"border: 1px solid white;\">Yes</td><td style=\"border: 1px solid white;\">No</td><td style=\"border: 1px solid white;\">No</td></tr><tr style=\"{border: 1px solid white;}\"><td style=\"border-bottom: 1px solid #DDD;font-size:1.02em;background-color:#214579;color:white\"><b>3</b></td><td style=\"border: 1px solid white;\">False</td><td style=\"border: 1px solid white;\">False</td><td style=\"border: 1px solid white;\">No</td><td style=\"border: 1px solid white;\">False</td><td style=\"border: 1px solid white;\">1840.750</td><td style=\"border: 1px solid white;\">45</td><td style=\"border: 1px solid white;\">42.300</td><td style=\"border: 1px solid white;\">One year</td><td style=\"border: 1px solid white;\">Male</td><td style=\"border: 1px solid white;\">Bank transfer (automatic)</td><td style=\"border: 1px solid white;\">False</td><td style=\"border: 1px solid white;\">No</td><td style=\"border: 1px solid white;\">False</td><td style=\"border: 1px solid white;\">DSL</td><td style=\"border: 1px solid white;\">Yes</td><td style=\"border: 1px solid white;\">0</td><td style=\"border: 1px solid white;\">Yes</td><td style=\"border: 1px solid white;\">7795-CFOCW</td><td style=\"border: 1px solid white;\">No</td><td style=\"border: 1px solid white;\">No phone service</td><td style=\"border: 1px solid white;\">Yes</td></tr><tr style=\"{border: 1px solid white;}\"><td style=\"border-bottom: 1px solid #DDD;font-size:1.02em;background-color:#214579;color:white\"><b>4</b></td><td style=\"border: 1px solid white;\">False</td><td style=\"border: 1px solid white;\">False</td><td style=\"border: 1px solid white;\">No</td><td style=\"border: 1px solid white;\">True</td><td style=\"border: 1px solid white;\">151.650</td><td style=\"border: 1px solid white;\">2</td><td style=\"border: 1px solid white;\">70.700</td><td style=\"border: 1px solid white;\">Month-to-month</td><td style=\"border: 1px solid white;\">Female</td><td style=\"border: 1px solid white;\">Electronic check</td><td style=\"border: 1px solid white;\">True</td><td style=\"border: 1px solid white;\">No</td><td style=\"border: 1px solid white;\">True</td><td style=\"border: 1px solid white;\">Fiber optic</td><td style=\"border: 1px solid white;\">No</td><td style=\"border: 1px solid white;\">0</td><td style=\"border: 1px solid white;\">No</td><td style=\"border: 1px solid white;\">9237-HQITU</td><td style=\"border: 1px solid white;\">No</td><td style=\"border: 1px solid white;\">No</td><td style=\"border: 1px solid white;\">No</td></tr><tr><td style=\"border-top: 1px solid white;background-color:#214579;color:white\"></td><td style=\"border: 1px solid white;\">...</td><td style=\"border: 1px solid white;\">...</td><td style=\"border: 1px solid white;\">...</td><td style=\"border: 1px solid white;\">...</td><td style=\"border: 1px solid white;\">...</td><td style=\"border: 1px solid white;\">...</td><td style=\"border: 1px solid white;\">...</td><td style=\"border: 1px solid white;\">...</td><td style=\"border: 1px solid white;\">...</td><td style=\"border: 1px solid white;\">...</td><td style=\"border: 1px solid white;\">...</td><td style=\"border: 1px solid white;\">...</td><td style=\"border: 1px solid white;\">...</td><td style=\"border: 1px solid white;\">...</td><td style=\"border: 1px solid white;\">...</td><td style=\"border: 1px solid white;\">...</td><td style=\"border: 1px solid white;\">...</td><td style=\"border: 1px solid white;\">...</td><td style=\"border: 1px solid white;\">...</td><td style=\"border: 1px solid white;\">...</td><td style=\"border: 1px solid white;\">...</td></tr></table>"
      ],
      "text/plain": [
       "<IPython.core.display.HTML object>"
      ]
     },
     "metadata": {},
     "output_type": "display_data"
    },
    {
     "name": "stdout",
     "output_type": "stream",
     "text": [
      "<object>  Name: churn, Number of rows: 7043, Number of columns: 21\n"
     ]
    }
   ],
   "source": [
    "from vertica_ml_python.utilities import read_csv\n",
    "from vertica_ml_python.utilities import drop_table\n",
    "drop_table('churn', cur)\n",
    "churn = read_csv('churn.csv', cur)\n",
    "print(churn)"
   ]
  },
  {
   "cell_type": "markdown",
   "metadata": {},
   "source": [
    "This dataset contains many information of 7043 customers including:\n",
    "<ul>\n",
    "    <li><b>customerID: </b>Customer ID\n",
    "    <li><b>gender: </b>Whether the customer is a male or a female\n",
    "    <li><b>SeniorCitizen: </b>Whether the customer is a senior citizen or not (1, 0)\n",
    "    <li><b>Partner: </b>Whether the customer has a partner or not (Yes, No)\n",
    "    <li><b>Dependents: </b>Whether the customer has dependents or not (Yes, No)\n",
    "    <li><b>tenure: </b>Number of months the customer has stayed with the company\n",
    "    <li><b>PhoneService: </b>Whether the customer has a phone service or not (Yes, No)\n",
    "    <li><b>MultipleLines: </b>Whether the customer has multiple lines or not (Yes, No, No phone service)\n",
    "    <li><b>InternetService: </b>Customer’s internet service provider (DSL, Fiber optic, No)\n",
    "    <li><b>OnlineSecurity: </b>Whether the customer has online security or not (Yes, No, No internet service)\n",
    "    <li><b>OnlineBackup: </b>Whether the customer has online backup or not (Yes, No, No internet service)\n",
    "    <li><b>DeviceProtection: </b>Whether the customer has device protection or not (Yes, No, No internet service)\n",
    "    <li><b>TechSupport: </b>Whether the customer has tech support or not (Yes, No, No internet service)\n",
    "    <li><b>StreamingTV: </b>Whether the customer has streaming TV or not (Yes, No, No internet service)\n",
    "    <li><b>StreamingMovies: </b>Whether the customer has streaming movies or not (Yes, No, No internet service)\n",
    "    <li><b>Contract: </b>The contract term of the customer (Month-to-month, One year, Two year)\n",
    "    <li><b>PaperlessBilling: </b>Whether the customer has paperless billing or not (Yes, No)\n",
    "    <li><b>PaymentMethod: </b>The customer’s payment method (Electronic check, Mailed check, Bank transfer (automatic), Credit card (automatic))\n",
    "    <li><b>MonthlyCharges: </b>The amount charged to the customer monthly\n",
    "    <li><b>TotalCharges: </b>The total amount charged to the customer\n",
    "    <li><b>Churn: </b>Whether the customer churned or not (Yes or No)\n",
    "</ul>\n",
    "The purpose is to understand the correlations and dependances between all these variables."
   ]
  },
  {
   "cell_type": "markdown",
   "metadata": {},
   "source": [
    "## Correlations and Dependances\n",
    "\n",
    "Let's explore the data by displaying descriptive statistics of all the columns."
   ]
  },
  {
   "cell_type": "code",
   "execution_count": 3,
   "metadata": {},
   "outputs": [
    {
     "data": {
      "text/html": [
       "<table style=\"border-collapse: collapse; border: 2px solid white\"><tr style=\"{border: 1px solid white;}\"><td style=\"border-bottom: 1px solid #DDD;font-size:1.02em;background-color:#214579;color:white\"><b></b></td><td style=\"font-size:1.02em;background-color:#214579;color:white\"><b>dtype</b></td><td style=\"font-size:1.02em;background-color:#214579;color:white\"><b>unique</b></td><td style=\"font-size:1.02em;background-color:#214579;color:white\"><b>count</b></td><td style=\"font-size:1.02em;background-color:#214579;color:white\"><b>top</b></td><td style=\"font-size:1.02em;background-color:#214579;color:white\"><b>top_percent</b></td></tr><tr style=\"{border: 1px solid white;}\"><td style=\"border-bottom: 1px solid #DDD;font-size:1.02em;background-color:#214579;color:white\"><b>\"Partner\"</b></td><td style=\"border: 1px solid white;\">boolean</td><td style=\"border: 1px solid white;\">2</td><td style=\"border: 1px solid white;\">7043</td><td style=\"border: 1px solid white;\">f</td><td style=\"border: 1px solid white;\">51.697</td></tr><tr style=\"{border: 1px solid white;}\"><td style=\"border-bottom: 1px solid #DDD;font-size:1.02em;background-color:#214579;color:white\"><b>\"Dependents\"</b></td><td style=\"border: 1px solid white;\">boolean</td><td style=\"border: 1px solid white;\">2</td><td style=\"border: 1px solid white;\">7043</td><td style=\"border: 1px solid white;\">f</td><td style=\"border: 1px solid white;\">70.041</td></tr><tr style=\"{border: 1px solid white;}\"><td style=\"border-bottom: 1px solid #DDD;font-size:1.02em;background-color:#214579;color:white\"><b>\"StreamingMovies\"</b></td><td style=\"border: 1px solid white;\">varchar(38)</td><td style=\"border: 1px solid white;\">3</td><td style=\"border: 1px solid white;\">7043</td><td style=\"border: 1px solid white;\">No</td><td style=\"border: 1px solid white;\">39.543</td></tr><tr style=\"{border: 1px solid white;}\"><td style=\"border-bottom: 1px solid #DDD;font-size:1.02em;background-color:#214579;color:white\"><b>\"PhoneService\"</b></td><td style=\"border: 1px solid white;\">boolean</td><td style=\"border: 1px solid white;\">2</td><td style=\"border: 1px solid white;\">7043</td><td style=\"border: 1px solid white;\">t</td><td style=\"border: 1px solid white;\">90.317</td></tr><tr style=\"{border: 1px solid white;}\"><td style=\"border-bottom: 1px solid #DDD;font-size:1.02em;background-color:#214579;color:white\"><b>\"TotalCharges\"</b></td><td style=\"border: 1px solid white;\">numeric(9,3)</td><td style=\"border: 1px solid white;\">6530</td><td style=\"border: 1px solid white;\">7032</td><td style=\"border: 1px solid white;\">20.200</td><td style=\"border: 1px solid white;\">0.156</td></tr><tr style=\"{border: 1px solid white;}\"><td style=\"border-bottom: 1px solid #DDD;font-size:1.02em;background-color:#214579;color:white\"><b>\"tenure\"</b></td><td style=\"border: 1px solid white;\">int</td><td style=\"border: 1px solid white;\">73</td><td style=\"border: 1px solid white;\">7043</td><td style=\"border: 1px solid white;\">1</td><td style=\"border: 1px solid white;\">8.704</td></tr><tr style=\"{border: 1px solid white;}\"><td style=\"border-bottom: 1px solid #DDD;font-size:1.02em;background-color:#214579;color:white\"><b>\"MonthlyCharges\"</b></td><td style=\"border: 1px solid white;\">numeric(8,3)</td><td style=\"border: 1px solid white;\">1585</td><td style=\"border: 1px solid white;\">7043</td><td style=\"border: 1px solid white;\">20.050</td><td style=\"border: 1px solid white;\">0.866</td></tr><tr style=\"{border: 1px solid white;}\"><td style=\"border-bottom: 1px solid #DDD;font-size:1.02em;background-color:#214579;color:white\"><b>\"Contract\"</b></td><td style=\"border: 1px solid white;\">varchar(28)</td><td style=\"border: 1px solid white;\">3</td><td style=\"border: 1px solid white;\">7043</td><td style=\"border: 1px solid white;\">Month-to-month</td><td style=\"border: 1px solid white;\">55.019</td></tr><tr style=\"{border: 1px solid white;}\"><td style=\"border-bottom: 1px solid #DDD;font-size:1.02em;background-color:#214579;color:white\"><b>\"gender\"</b></td><td style=\"border: 1px solid white;\">varchar(20)</td><td style=\"border: 1px solid white;\">2</td><td style=\"border: 1px solid white;\">7043</td><td style=\"border: 1px solid white;\">Male</td><td style=\"border: 1px solid white;\">50.476</td></tr><tr style=\"{border: 1px solid white;}\"><td style=\"border-bottom: 1px solid #DDD;font-size:1.02em;background-color:#214579;color:white\"><b>\"PaymentMethod\"</b></td><td style=\"border: 1px solid white;\">varchar(50)</td><td style=\"border: 1px solid white;\">4</td><td style=\"border: 1px solid white;\">7043</td><td style=\"border: 1px solid white;\">Electronic check</td><td style=\"border: 1px solid white;\">33.579</td></tr><tr style=\"{border: 1px solid white;}\"><td style=\"border-bottom: 1px solid #DDD;font-size:1.02em;background-color:#214579;color:white\"><b>\"PaperlessBilling\"</b></td><td style=\"border: 1px solid white;\">boolean</td><td style=\"border: 1px solid white;\">2</td><td style=\"border: 1px solid white;\">7043</td><td style=\"border: 1px solid white;\">t</td><td style=\"border: 1px solid white;\">59.222</td></tr><tr style=\"{border: 1px solid white;}\"><td style=\"border-bottom: 1px solid #DDD;font-size:1.02em;background-color:#214579;color:white\"><b>\"StreamingTV\"</b></td><td style=\"border: 1px solid white;\">varchar(38)</td><td style=\"border: 1px solid white;\">3</td><td style=\"border: 1px solid white;\">7043</td><td style=\"border: 1px solid white;\">No</td><td style=\"border: 1px solid white;\">39.898</td></tr><tr style=\"{border: 1px solid white;}\"><td style=\"border-bottom: 1px solid #DDD;font-size:1.02em;background-color:#214579;color:white\"><b>\"Churn\"</b></td><td style=\"border: 1px solid white;\">boolean</td><td style=\"border: 1px solid white;\">2</td><td style=\"border: 1px solid white;\">7043</td><td style=\"border: 1px solid white;\">f</td><td style=\"border: 1px solid white;\">73.463</td></tr><tr style=\"{border: 1px solid white;}\"><td style=\"border-bottom: 1px solid #DDD;font-size:1.02em;background-color:#214579;color:white\"><b>\"InternetService\"</b></td><td style=\"border: 1px solid white;\">varchar(22)</td><td style=\"border: 1px solid white;\">3</td><td style=\"border: 1px solid white;\">7043</td><td style=\"border: 1px solid white;\">Fiber optic</td><td style=\"border: 1px solid white;\">43.959</td></tr><tr style=\"{border: 1px solid white;}\"><td style=\"border-bottom: 1px solid #DDD;font-size:1.02em;background-color:#214579;color:white\"><b>\"DeviceProtection\"</b></td><td style=\"border: 1px solid white;\">varchar(38)</td><td style=\"border: 1px solid white;\">3</td><td style=\"border: 1px solid white;\">7043</td><td style=\"border: 1px solid white;\">No</td><td style=\"border: 1px solid white;\">43.944</td></tr><tr style=\"{border: 1px solid white;}\"><td style=\"border-bottom: 1px solid #DDD;font-size:1.02em;background-color:#214579;color:white\"><b>\"SeniorCitizen\"</b></td><td style=\"border: 1px solid white;\">int</td><td style=\"border: 1px solid white;\">2</td><td style=\"border: 1px solid white;\">7043</td><td style=\"border: 1px solid white;\">0</td><td style=\"border: 1px solid white;\">83.785</td></tr><tr style=\"{border: 1px solid white;}\"><td style=\"border-bottom: 1px solid #DDD;font-size:1.02em;background-color:#214579;color:white\"><b>\"OnlineSecurity\"</b></td><td style=\"border: 1px solid white;\">varchar(38)</td><td style=\"border: 1px solid white;\">3</td><td style=\"border: 1px solid white;\">7043</td><td style=\"border: 1px solid white;\">No</td><td style=\"border: 1px solid white;\">49.666</td></tr><tr style=\"{border: 1px solid white;}\"><td style=\"border-bottom: 1px solid #DDD;font-size:1.02em;background-color:#214579;color:white\"><b>\"customerID\"</b></td><td style=\"border: 1px solid white;\">varchar(20)</td><td style=\"border: 1px solid white;\">7043</td><td style=\"border: 1px solid white;\">7043</td><td style=\"border: 1px solid white;\">0002-ORFBO</td><td style=\"border: 1px solid white;\">0.014</td></tr><tr style=\"{border: 1px solid white;}\"><td style=\"border-bottom: 1px solid #DDD;font-size:1.02em;background-color:#214579;color:white\"><b>\"OnlineBackup\"</b></td><td style=\"border: 1px solid white;\">varchar(38)</td><td style=\"border: 1px solid white;\">3</td><td style=\"border: 1px solid white;\">7043</td><td style=\"border: 1px solid white;\">No</td><td style=\"border: 1px solid white;\">43.845</td></tr><tr style=\"{border: 1px solid white;}\"><td style=\"border-bottom: 1px solid #DDD;font-size:1.02em;background-color:#214579;color:white\"><b>\"MultipleLines\"</b></td><td style=\"border: 1px solid white;\">varchar(100)</td><td style=\"border: 1px solid white;\">3</td><td style=\"border: 1px solid white;\">7043</td><td style=\"border: 1px solid white;\">No</td><td style=\"border: 1px solid white;\">48.133</td></tr><tr style=\"{border: 1px solid white;}\"><td style=\"border-bottom: 1px solid #DDD;font-size:1.02em;background-color:#214579;color:white\"><b>\"TechSupport\"</b></td><td style=\"border: 1px solid white;\">varchar(38)</td><td style=\"border: 1px solid white;\">3</td><td style=\"border: 1px solid white;\">7043</td><td style=\"border: 1px solid white;\">No</td><td style=\"border: 1px solid white;\">49.311</td></tr></table>"
      ],
      "text/plain": [
       "<IPython.core.display.HTML object>"
      ]
     },
     "metadata": {},
     "output_type": "display_data"
    },
    {
     "data": {
      "text/plain": [
       "<object>"
      ]
     },
     "execution_count": 3,
     "metadata": {},
     "output_type": "execute_result"
    }
   ],
   "source": [
    "churn.describe(method = \"categorical\")"
   ]
  },
  {
   "cell_type": "markdown",
   "metadata": {},
   "source": [
    "Many features are categorical and need to be encoded first. However, it is not needed during this exercice as the main purpose is to understand the different type of correlations. "
   ]
  },
  {
   "cell_type": "markdown",
   "metadata": {},
   "source": [
    "<b>Question 1: </b>The linear correlation is computed using the 'pearson' method. Draw the Correlation Matrix using the Pearson coefficient. Explain the linear correlations and dependences between the different features."
   ]
  },
  {
   "cell_type": "markdown",
   "metadata": {},
   "source": [
    "<b>Question 2: </b>There is no perfect way to deal with non-linear correlations between the different features. Spearman coefficients will identify Monotonic relationships between variables. Draw the Correlation Matrix using the Spearman coefficient. Explain the monotonic relationships between the different features."
   ]
  },
  {
   "cell_type": "markdown",
   "metadata": {},
   "source": [
    "<b>Question 3: </b>Kendall coefficients can be very expensive to compute but they will bring very useful information. They can explain complex relationship between the different features. Draw the Correlation Matrix using the Kendall coefficient. Explain the relationships between the different features."
   ]
  },
  {
   "cell_type": "markdown",
   "metadata": {},
   "source": [
    "<b>Question 4: </b>The point Biserial method explains the link between a binary variable and a numerical feature. It can be used only if one of the feature is binary, otherwise it will return 0. Draw the Correlation Matrix using the the point Biserial. In this use-case this method is not very efficient, however do not forget that it is always a possibility."
   ]
  },
  {
   "cell_type": "markdown",
   "metadata": {},
   "source": [
    "<b>Question 5: </b>The last technique is the Cramer's V which can explain link between categorical columns. It will range only between 0 and 1. This technique is very important as it helps to understand the link between the categorical features which can represent a huge part of the dataset. Draw the Correlation Matrix using the Cramer's V coefficient. Explain the relationships between the different features."
   ]
  },
  {
   "cell_type": "markdown",
   "metadata": {},
   "source": [
    "<b>Question 6: </b>Explain which features will be useful to predict churn and what type of ML algorithms you will probably not use for the prediction."
   ]
  }
 ],
 "metadata": {
  "kernelspec": {
   "display_name": "Python 3",
   "language": "python",
   "name": "python3"
  },
  "language_info": {
   "codemirror_mode": {
    "name": "ipython",
    "version": 3
   },
   "file_extension": ".py",
   "mimetype": "text/x-python",
   "name": "python",
   "nbconvert_exporter": "python",
   "pygments_lexer": "ipython3",
   "version": "3.6.3"
  }
 },
 "nbformat": 4,
 "nbformat_minor": 2
}
