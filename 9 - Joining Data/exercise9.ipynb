{
 "cells": [
  {
   "attachments": {},
   "cell_type": "markdown",
   "metadata": {},
   "source": [
    "<p align=\"center\">\n",
    "<img src='../../img/VerticaMLPython.png' width=\"180px\">\n",
    "</p>\n",
    "\n",
    "# Vertica ML Python Exercise 9\n",
    "\n",
    "During this exercice, we will:\n",
    "<ul>\n",
    "    <li> Join Multiple Tables\n",
    "    <li> Extract information from the new created dataset\n",
    "</ul>\n",
    "## Initialization\n",
    "\n",
    "Let's create a cursor using the vertica_cursor function."
   ]
  },
  {
   "cell_type": "code",
   "execution_count": 1,
   "metadata": {},
   "outputs": [],
   "source": [
    "from vertica_ml_python.utilities import vertica_cursor\n",
    "cur = vertica_cursor(\"VerticaDSN\")"
   ]
  },
  {
   "cell_type": "markdown",
   "metadata": {},
   "source": [
    "During this study, we will work with the flight delays dataset."
   ]
  },
  {
   "cell_type": "code",
   "execution_count": 2,
   "metadata": {},
   "outputs": [],
   "source": [
    "from vertica_ml_python import vDataframe\n",
    "flights = vDataframe('flights', cur)"
   ]
  },
  {
   "cell_type": "markdown",
   "metadata": {},
   "source": [
    "We can add data from other data source. We have information on the different airports and airlines."
   ]
  },
  {
   "cell_type": "code",
   "execution_count": 3,
   "metadata": {},
   "outputs": [
    {
     "name": "stdout",
     "output_type": "stream",
     "text": [
      "The table airlines was successfully dropped.\n",
      "The table airports was successfully dropped.\n",
      "The table public.airlines has been successfully created.\n",
      "The table public.airports has been successfully created.\n"
     ]
    }
   ],
   "source": [
    "from vertica_ml_python.utilities import drop_table\n",
    "drop_table(\"airlines\", cur)\n",
    "drop_table(\"airports\", cur)\n",
    "from vertica_ml_python.utilities import read_csv\n",
    "airlines = read_csv(\"flights/airlines.csv\", cur)\n",
    "airports = read_csv(\"flights/airports.csv\", cur)"
   ]
  },
  {
   "cell_type": "markdown",
   "metadata": {},
   "source": [
    "We can create the feature of exercise 8 (= 1 if the flight has a departure delay of more than 10 minutes, 0 otherwise)"
   ]
  },
  {
   "cell_type": "code",
   "execution_count": 4,
   "metadata": {},
   "outputs": [
    {
     "name": "stdout",
     "output_type": "stream",
     "text": [
      "The new vColumn \"is_dep_delay\" was added to the vDataframe.\n"
     ]
    },
    {
     "data": {
      "text/html": [
       "<table style=\"border-collapse: collapse; border: 2px solid white\"><tr style=\"{border: 1px solid white;}\"><td style=\"border-bottom: 1px solid #DDD;font-size:1.02em;background-color:#214579;color:white\"><b></b></td><td style=\"font-size:1.02em;background-color:#214579;color:white\"><b>destination_airport</b></td><td style=\"font-size:1.02em;background-color:#214579;color:white\"><b>scheduled_departure</b></td><td style=\"font-size:1.02em;background-color:#214579;color:white\"><b>departure_delay</b></td><td style=\"font-size:1.02em;background-color:#214579;color:white\"><b>arrival_delay</b></td><td style=\"font-size:1.02em;background-color:#214579;color:white\"><b>origin_airport</b></td><td style=\"font-size:1.02em;background-color:#214579;color:white\"><b>airline</b></td><td style=\"font-size:1.02em;background-color:#214579;color:white\"><b>is_dep_delay</b></td></tr><tr style=\"{border: 1px solid white;}\"><td style=\"border-bottom: 1px solid #DDD;font-size:1.02em;background-color:#214579;color:white\"><b>0</b></td><td style=\"border: 1px solid white;\">ABE</td><td style=\"border: 1px solid white;\">2015-03-26 20:26:00</td><td style=\"border: 1px solid white;\">-6</td><td style=\"border: 1px solid white;\">-5</td><td style=\"border: 1px solid white;\">DTW</td><td style=\"border: 1px solid white;\">EV</td><td style=\"border: 1px solid white;\">0</td></tr><tr style=\"{border: 1px solid white;}\"><td style=\"border-bottom: 1px solid #DDD;font-size:1.02em;background-color:#214579;color:white\"><b>1</b></td><td style=\"border: 1px solid white;\">ABE</td><td style=\"border: 1px solid white;\">2015-03-26 20:46:00</td><td style=\"border: 1px solid white;\">0</td><td style=\"border: 1px solid white;\">-2</td><td style=\"border: 1px solid white;\">ATL</td><td style=\"border: 1px solid white;\">DL</td><td style=\"border: 1px solid white;\">0</td></tr><tr style=\"{border: 1px solid white;}\"><td style=\"border-bottom: 1px solid #DDD;font-size:1.02em;background-color:#214579;color:white\"><b>2</b></td><td style=\"border: 1px solid white;\">ABE</td><td style=\"border: 1px solid white;\">2015-03-26 21:00:00</td><td style=\"border: 1px solid white;\">-9</td><td style=\"border: 1px solid white;\">-17</td><td style=\"border: 1px solid white;\">ORD</td><td style=\"border: 1px solid white;\">EV</td><td style=\"border: 1px solid white;\">0</td></tr><tr style=\"{border: 1px solid white;}\"><td style=\"border-bottom: 1px solid #DDD;font-size:1.02em;background-color:#214579;color:white\"><b>3</b></td><td style=\"border: 1px solid white;\">ABE</td><td style=\"border: 1px solid white;\">2015-03-27 10:05:00</td><td style=\"border: 1px solid white;\">8</td><td style=\"border: 1px solid white;\">16</td><td style=\"border: 1px solid white;\">DTW</td><td style=\"border: 1px solid white;\">EV</td><td style=\"border: 1px solid white;\">0</td></tr><tr style=\"{border: 1px solid white;}\"><td style=\"border-bottom: 1px solid #DDD;font-size:1.02em;background-color:#214579;color:white\"><b>4</b></td><td style=\"border: 1px solid white;\">ABE</td><td style=\"border: 1px solid white;\">2015-03-27 10:26:00</td><td style=\"border: 1px solid white;\">-4</td><td style=\"border: 1px solid white;\">-17</td><td style=\"border: 1px solid white;\">ATL</td><td style=\"border: 1px solid white;\">EV</td><td style=\"border: 1px solid white;\">0</td></tr><tr><td style=\"border-top: 1px solid white;background-color:#214579;color:white\"></td><td style=\"border: 1px solid white;\">...</td><td style=\"border: 1px solid white;\">...</td><td style=\"border: 1px solid white;\">...</td><td style=\"border: 1px solid white;\">...</td><td style=\"border: 1px solid white;\">...</td><td style=\"border: 1px solid white;\">...</td><td style=\"border: 1px solid white;\">...</td></tr></table>"
      ],
      "text/plain": [
       "<IPython.core.display.HTML object>"
      ]
     },
     "metadata": {},
     "output_type": "display_data"
    },
    {
     "data": {
      "text/plain": [
       "<object>  Name: flights, Number of rows: 4068736, Number of columns: 7"
      ]
     },
     "execution_count": 4,
     "metadata": {},
     "output_type": "execute_result"
    }
   ],
   "source": [
    "flights.eval(\"is_dep_delay\", \"(CASE WHEN departure_delay > 10 THEN 1 ELSE 0 END)\")"
   ]
  },
  {
   "cell_type": "markdown",
   "metadata": {},
   "source": [
    "## Joins\n",
    "\n",
    "Let's explore the different data sources by displaying descriptive statistics of all the columns."
   ]
  },
  {
   "cell_type": "code",
   "execution_count": 5,
   "metadata": {},
   "outputs": [
    {
     "data": {
      "text/html": [
       "<table style=\"border-collapse: collapse; border: 2px solid white\"><tr style=\"{border: 1px solid white;}\"><td style=\"border-bottom: 1px solid #DDD;font-size:1.02em;background-color:#214579;color:white\"><b></b></td><td style=\"font-size:1.02em;background-color:#214579;color:white\"><b>dtype</b></td><td style=\"font-size:1.02em;background-color:#214579;color:white\"><b>unique</b></td><td style=\"font-size:1.02em;background-color:#214579;color:white\"><b>count</b></td><td style=\"font-size:1.02em;background-color:#214579;color:white\"><b>top</b></td><td style=\"font-size:1.02em;background-color:#214579;color:white\"><b>top_percent</b></td></tr><tr style=\"{border: 1px solid white;}\"><td style=\"border-bottom: 1px solid #DDD;font-size:1.02em;background-color:#214579;color:white\"><b>\"destination_airport\"</b></td><td style=\"border: 1px solid white;\">varchar(20)</td><td style=\"border: 1px solid white;\">629</td><td style=\"border: 1px solid white;\">4068736</td><td style=\"border: 1px solid white;\">ATL</td><td style=\"border: 1px solid white;\">5.46</td></tr><tr style=\"{border: 1px solid white;}\"><td style=\"border-bottom: 1px solid #DDD;font-size:1.02em;background-color:#214579;color:white\"><b>\"scheduled_departure\"</b></td><td style=\"border: 1px solid white;\">timestamp</td><td style=\"border: 1px solid white;\">286101</td><td style=\"border: 1px solid white;\">4068736</td><td style=\"border: 1px solid white;\">2015-04-06 13:45:00</td><td style=\"border: 1px solid white;\">0.003</td></tr><tr style=\"{border: 1px solid white;}\"><td style=\"border-bottom: 1px solid #DDD;font-size:1.02em;background-color:#214579;color:white\"><b>\"departure_delay\"</b></td><td style=\"border: 1px solid white;\">int</td><td style=\"border: 1px solid white;\">1108</td><td style=\"border: 1px solid white;\">4068736</td><td style=\"border: 1px solid white;\">-3</td><td style=\"border: 1px solid white;\">7.178</td></tr><tr style=\"{border: 1px solid white;}\"><td style=\"border-bottom: 1px solid #DDD;font-size:1.02em;background-color:#214579;color:white\"><b>\"arrival_delay\"</b></td><td style=\"border: 1px solid white;\">int</td><td style=\"border: 1px solid white;\">1135</td><td style=\"border: 1px solid white;\">4068736</td><td style=\"border: 1px solid white;\">-8</td><td style=\"border: 1px solid white;\">2.926</td></tr><tr style=\"{border: 1px solid white;}\"><td style=\"border-bottom: 1px solid #DDD;font-size:1.02em;background-color:#214579;color:white\"><b>\"origin_airport\"</b></td><td style=\"border: 1px solid white;\">varchar(20)</td><td style=\"border: 1px solid white;\">621</td><td style=\"border: 1px solid white;\">4068736</td><td style=\"border: 1px solid white;\">ATL</td><td style=\"border: 1px solid white;\">6.744</td></tr><tr style=\"{border: 1px solid white;}\"><td style=\"border-bottom: 1px solid #DDD;font-size:1.02em;background-color:#214579;color:white\"><b>\"airline\"</b></td><td style=\"border: 1px solid white;\">varchar(20)</td><td style=\"border: 1px solid white;\">14</td><td style=\"border: 1px solid white;\">4068736</td><td style=\"border: 1px solid white;\">WN</td><td style=\"border: 1px solid white;\">21.818</td></tr><tr style=\"{border: 1px solid white;}\"><td style=\"border-bottom: 1px solid #DDD;font-size:1.02em;background-color:#214579;color:white\"><b>\"is_dep_delay\"</b></td><td style=\"border: 1px solid white;\">int</td><td style=\"border: 1px solid white;\">2</td><td style=\"border: 1px solid white;\">4068736</td><td style=\"border: 1px solid white;\">0</td><td style=\"border: 1px solid white;\">74.355</td></tr></table>"
      ],
      "text/plain": [
       "<IPython.core.display.HTML object>"
      ]
     },
     "metadata": {},
     "output_type": "display_data"
    },
    {
     "data": {
      "text/plain": [
       "<object>"
      ]
     },
     "execution_count": 5,
     "metadata": {},
     "output_type": "execute_result"
    }
   ],
   "source": [
    "flights.describe(method = \"categorical\")"
   ]
  },
  {
   "cell_type": "code",
   "execution_count": 6,
   "metadata": {},
   "outputs": [
    {
     "data": {
      "text/html": [
       "<table style=\"border-collapse: collapse; border: 2px solid white\"><tr style=\"{border: 1px solid white;}\"><td style=\"border-bottom: 1px solid #DDD;font-size:1.02em;background-color:#214579;color:white\"><b></b></td><td style=\"font-size:1.02em;background-color:#214579;color:white\"><b>dtype</b></td><td style=\"font-size:1.02em;background-color:#214579;color:white\"><b>unique</b></td><td style=\"font-size:1.02em;background-color:#214579;color:white\"><b>count</b></td><td style=\"font-size:1.02em;background-color:#214579;color:white\"><b>top</b></td><td style=\"font-size:1.02em;background-color:#214579;color:white\"><b>top_percent</b></td></tr><tr style=\"{border: 1px solid white;}\"><td style=\"border-bottom: 1px solid #DDD;font-size:1.02em;background-color:#214579;color:white\"><b>\"AIRLINE\"</b></td><td style=\"border: 1px solid white;\">varchar(56)</td><td style=\"border: 1px solid white;\">14</td><td style=\"border: 1px solid white;\">14</td><td style=\"border: 1px solid white;\">Alaska Airlines Inc.</td><td style=\"border: 1px solid white;\">7.143</td></tr><tr style=\"{border: 1px solid white;}\"><td style=\"border-bottom: 1px solid #DDD;font-size:1.02em;background-color:#214579;color:white\"><b>\"IATA_CODE\"</b></td><td style=\"border: 1px solid white;\">varchar(20)</td><td style=\"border: 1px solid white;\">14</td><td style=\"border: 1px solid white;\">14</td><td style=\"border: 1px solid white;\">AA</td><td style=\"border: 1px solid white;\">7.143</td></tr></table>"
      ],
      "text/plain": [
       "<IPython.core.display.HTML object>"
      ]
     },
     "metadata": {},
     "output_type": "display_data"
    },
    {
     "data": {
      "text/plain": [
       "<object>"
      ]
     },
     "execution_count": 6,
     "metadata": {},
     "output_type": "execute_result"
    }
   ],
   "source": [
    "airlines.describe(method = \"categorical\")"
   ]
  },
  {
   "cell_type": "code",
   "execution_count": 7,
   "metadata": {},
   "outputs": [
    {
     "data": {
      "text/html": [
       "<table style=\"border-collapse: collapse; border: 2px solid white\"><tr style=\"{border: 1px solid white;}\"><td style=\"border-bottom: 1px solid #DDD;font-size:1.02em;background-color:#214579;color:white\"><b></b></td><td style=\"font-size:1.02em;background-color:#214579;color:white\"><b>dtype</b></td><td style=\"font-size:1.02em;background-color:#214579;color:white\"><b>unique</b></td><td style=\"font-size:1.02em;background-color:#214579;color:white\"><b>count</b></td><td style=\"font-size:1.02em;background-color:#214579;color:white\"><b>top</b></td><td style=\"font-size:1.02em;background-color:#214579;color:white\"><b>top_percent</b></td></tr><tr style=\"{border: 1px solid white;}\"><td style=\"border-bottom: 1px solid #DDD;font-size:1.02em;background-color:#214579;color:white\"><b>\"AIRPORT\"</b></td><td style=\"border: 1px solid white;\">varchar(156)</td><td style=\"border: 1px solid white;\">322</td><td style=\"border: 1px solid white;\">322</td><td style=\"border: 1px solid white;\">Aberdeen Regional Airport</td><td style=\"border: 1px solid white;\">0.311</td></tr><tr style=\"{border: 1px solid white;}\"><td style=\"border-bottom: 1px solid #DDD;font-size:1.02em;background-color:#214579;color:white\"><b>\"CITY\"</b></td><td style=\"border: 1px solid white;\">varchar(60)</td><td style=\"border: 1px solid white;\">308</td><td style=\"border: 1px solid white;\">322</td><td style=\"border: 1px solid white;\">Jacksonville</td><td style=\"border: 1px solid white;\">0.621</td></tr><tr style=\"{border: 1px solid white;}\"><td style=\"border-bottom: 1px solid #DDD;font-size:1.02em;background-color:#214579;color:white\"><b>\"COUNTRY\"</b></td><td style=\"border: 1px solid white;\">varchar(20)</td><td style=\"border: 1px solid white;\">1</td><td style=\"border: 1px solid white;\">322</td><td style=\"border: 1px solid white;\">USA</td><td style=\"border: 1px solid white;\">100.0</td></tr><tr style=\"{border: 1px solid white;}\"><td style=\"border-bottom: 1px solid #DDD;font-size:1.02em;background-color:#214579;color:white\"><b>\"STATE\"</b></td><td style=\"border: 1px solid white;\">varchar(20)</td><td style=\"border: 1px solid white;\">54</td><td style=\"border: 1px solid white;\">322</td><td style=\"border: 1px solid white;\">TX</td><td style=\"border: 1px solid white;\">7.453</td></tr><tr style=\"{border: 1px solid white;}\"><td style=\"border-bottom: 1px solid #DDD;font-size:1.02em;background-color:#214579;color:white\"><b>\"IATA_CODE\"</b></td><td style=\"border: 1px solid white;\">varchar(20)</td><td style=\"border: 1px solid white;\">322</td><td style=\"border: 1px solid white;\">322</td><td style=\"border: 1px solid white;\">ABE</td><td style=\"border: 1px solid white;\">0.311</td></tr><tr style=\"{border: 1px solid white;}\"><td style=\"border-bottom: 1px solid #DDD;font-size:1.02em;background-color:#214579;color:white\"><b>\"LATITUDE\"</b></td><td style=\"border: 1px solid white;\">numeric(10,6)</td><td style=\"border: 1px solid white;\">319</td><td style=\"border: 1px solid white;\">319</td><td style=\"border: 1px solid white;\">13.483450</td><td style=\"border: 1px solid white;\">0.313</td></tr><tr style=\"{border: 1px solid white;}\"><td style=\"border-bottom: 1px solid #DDD;font-size:1.02em;background-color:#214579;color:white\"><b>\"LONGITUDE\"</b></td><td style=\"border: 1px solid white;\">numeric(11,6)</td><td style=\"border: 1px solid white;\">319</td><td style=\"border: 1px solid white;\">319</td><td style=\"border: 1px solid white;\">-100.496310</td><td style=\"border: 1px solid white;\">0.313</td></tr></table>"
      ],
      "text/plain": [
       "<IPython.core.display.HTML object>"
      ]
     },
     "metadata": {},
     "output_type": "display_data"
    },
    {
     "data": {
      "text/plain": [
       "<object>"
      ]
     },
     "execution_count": 7,
     "metadata": {},
     "output_type": "execute_result"
    }
   ],
   "source": [
    "airports.describe(method = \"categorical\")"
   ]
  },
  {
   "cell_type": "markdown",
   "metadata": {},
   "source": [
    "<b>Question 1: </b>Compute the averaged number of delays per airline the entire year. Find which company is less subject to delays than the others. Explain why."
   ]
  },
  {
   "cell_type": "markdown",
   "metadata": {},
   "source": [
    "<b>Question 2: </b>Compute the distance between all the airports."
   ]
  },
  {
   "cell_type": "markdown",
   "metadata": {},
   "source": [
    "<b>Question 3: </b>By computing the correlation between the distance and the arrival delays, look at the influence of the distance on the global delay."
   ]
  }
 ],
 "metadata": {
  "kernelspec": {
   "display_name": "Python 3",
   "language": "python",
   "name": "python3"
  },
  "language_info": {
   "codemirror_mode": {
    "name": "ipython",
    "version": 3
   },
   "file_extension": ".py",
   "mimetype": "text/x-python",
   "name": "python",
   "nbconvert_exporter": "python",
   "pygments_lexer": "ipython3",
   "version": "3.6.3"
  }
 },
 "nbformat": 4,
 "nbformat_minor": 2
}
