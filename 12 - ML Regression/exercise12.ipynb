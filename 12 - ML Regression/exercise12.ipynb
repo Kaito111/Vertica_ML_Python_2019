{
 "cells": [
  {
   "cell_type": "markdown",
   "metadata": {},
   "source": [
    "<p align=\"center\">\n",
    "<img src='../../img/VerticaMLPython.png' width=\"180px\">\n",
    "</p>\n",
    "\n",
    "# Vertica ML Python Exercise 12\n",
    "\n",
    "During this exercice, we will:\n",
    "<ul>\n",
    "    <li> Build a Linear Regression model\n",
    "    <li> Split the data\n",
    "    <li> Evaluate the model with different metrics\n",
    "    <li> Compute the model features importance\n",
    "</ul>\n",
    "## Initialization\n",
    "\n",
    "Let's create a cursor using the vertica_cursor function."
   ]
  },
  {
   "cell_type": "code",
   "execution_count": 1,
   "metadata": {},
   "outputs": [],
   "source": [
    "from vertica_ml_python.utilities import vertica_cursor\n",
    "cur = vertica_cursor(\"VerticaDSN\")"
   ]
  },
  {
   "cell_type": "markdown",
   "metadata": {},
   "source": [
    "During this study, we will work with the winequality dataset, already available in VERTICA ML PYTHON. "
   ]
  },
  {
   "cell_type": "code",
   "execution_count": 2,
   "metadata": {},
   "outputs": [],
   "source": [
    "from vertica_ml_python.learn.datasets import load_winequality\n",
    "winequality = load_winequality(cur)"
   ]
  },
  {
   "cell_type": "markdown",
   "metadata": {},
   "source": [
    "The purpose is to rate wines thanks to their composition."
   ]
  },
  {
   "cell_type": "markdown",
   "metadata": {},
   "source": [
    "## Regression\n",
    "\n",
    "Let's explore the dataset by displaying descriptive statistics of all the columns."
   ]
  },
  {
   "cell_type": "code",
   "execution_count": 3,
   "metadata": {},
   "outputs": [
    {
     "data": {
      "text/html": [
       "<table style=\"border-collapse: collapse; border: 2px solid white\"><tr style=\"{border: 1px solid white;}\"><td style=\"border-bottom: 1px solid #DDD;font-size:1.02em;background-color:#214579;color:white\"><b></b></td><td style=\"font-size:1.02em;background-color:#214579;color:white\"><b>count</b></td><td style=\"font-size:1.02em;background-color:#214579;color:white\"><b>mean</b></td><td style=\"font-size:1.02em;background-color:#214579;color:white\"><b>std</b></td><td style=\"font-size:1.02em;background-color:#214579;color:white\"><b>min</b></td><td style=\"font-size:1.02em;background-color:#214579;color:white\"><b>25%</b></td><td style=\"font-size:1.02em;background-color:#214579;color:white\"><b>50%</b></td><td style=\"font-size:1.02em;background-color:#214579;color:white\"><b>75%</b></td><td style=\"font-size:1.02em;background-color:#214579;color:white\"><b>max</b></td><td style=\"font-size:1.02em;background-color:#214579;color:white\"><b>unique</b></td></tr><tr style=\"{border: 1px solid white;}\"><td style=\"border-bottom: 1px solid #DDD;font-size:1.02em;background-color:#214579;color:white\"><b>alcohol</b></td><td style=\"border: 1px solid white;\">6497</td><td style=\"border: 1px solid white;\">10.4918008311529</td><td style=\"border: 1px solid white;\">1.192711748871</td><td style=\"border: 1px solid white;\">8.0</td><td style=\"border: 1px solid white;\">9.5</td><td style=\"border: 1px solid white;\">10.3</td><td style=\"border: 1px solid white;\">11.3</td><td style=\"border: 1px solid white;\">14.9</td><td style=\"border: 1px solid white;\">112</td></tr><tr style=\"{border: 1px solid white;}\"><td style=\"border-bottom: 1px solid #DDD;font-size:1.02em;background-color:#214579;color:white\"><b>chlorides</b></td><td style=\"border: 1px solid white;\">6497</td><td style=\"border: 1px solid white;\">0.0560338617823611</td><td style=\"border: 1px solid white;\">0.0350336013724591</td><td style=\"border: 1px solid white;\">0.009</td><td style=\"border: 1px solid white;\">0.038</td><td style=\"border: 1px solid white;\">0.047</td><td style=\"border: 1px solid white;\">0.065</td><td style=\"border: 1px solid white;\">0.611</td><td style=\"border: 1px solid white;\">241</td></tr><tr style=\"{border: 1px solid white;}\"><td style=\"border-bottom: 1px solid #DDD;font-size:1.02em;background-color:#214579;color:white\"><b>citric_acid</b></td><td style=\"border: 1px solid white;\">6497</td><td style=\"border: 1px solid white;\">0.318633215330153</td><td style=\"border: 1px solid white;\">0.145317864897591</td><td style=\"border: 1px solid white;\">0.0</td><td style=\"border: 1px solid white;\">0.25</td><td style=\"border: 1px solid white;\">0.31</td><td style=\"border: 1px solid white;\">0.39</td><td style=\"border: 1px solid white;\">1.66</td><td style=\"border: 1px solid white;\">89</td></tr><tr style=\"{border: 1px solid white;}\"><td style=\"border-bottom: 1px solid #DDD;font-size:1.02em;background-color:#214579;color:white\"><b>density</b></td><td style=\"border: 1px solid white;\">6497</td><td style=\"border: 1px solid white;\">0.994696633831</td><td style=\"border: 1px solid white;\">0.00299867300371915</td><td style=\"border: 1px solid white;\">0.98711</td><td style=\"border: 1px solid white;\">0.99234</td><td style=\"border: 1px solid white;\">0.99489</td><td style=\"border: 1px solid white;\">0.99699</td><td style=\"border: 1px solid white;\">1.03898</td><td style=\"border: 1px solid white;\">1103</td></tr><tr style=\"{border: 1px solid white;}\"><td style=\"border-bottom: 1px solid #DDD;font-size:1.02em;background-color:#214579;color:white\"><b>fixed_acidity</b></td><td style=\"border: 1px solid white;\">6497</td><td style=\"border: 1px solid white;\">7.21530706479914</td><td style=\"border: 1px solid white;\">1.29643375779982</td><td style=\"border: 1px solid white;\">3.8</td><td style=\"border: 1px solid white;\">6.4</td><td style=\"border: 1px solid white;\">7.0</td><td style=\"border: 1px solid white;\">7.7</td><td style=\"border: 1px solid white;\">15.9</td><td style=\"border: 1px solid white;\">106</td></tr><tr style=\"{border: 1px solid white;}\"><td style=\"border-bottom: 1px solid #DDD;font-size:1.02em;background-color:#214579;color:white\"><b>free_sulfur_dioxide</b></td><td style=\"border: 1px solid white;\">6497</td><td style=\"border: 1px solid white;\">30.5253193781746</td><td style=\"border: 1px solid white;\">17.7493997720025</td><td style=\"border: 1px solid white;\">1.0</td><td style=\"border: 1px solid white;\">17.0</td><td style=\"border: 1px solid white;\">29.0</td><td style=\"border: 1px solid white;\">41.0</td><td style=\"border: 1px solid white;\">289.0</td><td style=\"border: 1px solid white;\">135</td></tr><tr style=\"{border: 1px solid white;}\"><td style=\"border-bottom: 1px solid #DDD;font-size:1.02em;background-color:#214579;color:white\"><b>good</b></td><td style=\"border: 1px solid white;\">6497</td><td style=\"border: 1px solid white;\">0.19655225488687</td><td style=\"border: 1px solid white;\">0.397421408895367</td><td style=\"border: 1px solid white;\">0.0</td><td style=\"border: 1px solid white;\">0.0</td><td style=\"border: 1px solid white;\">0.0</td><td style=\"border: 1px solid white;\">0.0</td><td style=\"border: 1px solid white;\">1.0</td><td style=\"border: 1px solid white;\">2</td></tr><tr style=\"{border: 1px solid white;}\"><td style=\"border-bottom: 1px solid #DDD;font-size:1.02em;background-color:#214579;color:white\"><b>pH</b></td><td style=\"border: 1px solid white;\">6497</td><td style=\"border: 1px solid white;\">3.21850084654456</td><td style=\"border: 1px solid white;\">0.160787202103987</td><td style=\"border: 1px solid white;\">2.72</td><td style=\"border: 1px solid white;\">3.11</td><td style=\"border: 1px solid white;\">3.21</td><td style=\"border: 1px solid white;\">3.32</td><td style=\"border: 1px solid white;\">4.01</td><td style=\"border: 1px solid white;\">108</td></tr><tr style=\"{border: 1px solid white;}\"><td style=\"border-bottom: 1px solid #DDD;font-size:1.02em;background-color:#214579;color:white\"><b>quality</b></td><td style=\"border: 1px solid white;\">6497</td><td style=\"border: 1px solid white;\">5.81837771279051</td><td style=\"border: 1px solid white;\">0.873255271531123</td><td style=\"border: 1px solid white;\">3.0</td><td style=\"border: 1px solid white;\">5.0</td><td style=\"border: 1px solid white;\">6.0</td><td style=\"border: 1px solid white;\">6.0</td><td style=\"border: 1px solid white;\">9.0</td><td style=\"border: 1px solid white;\">7</td></tr><tr style=\"{border: 1px solid white;}\"><td style=\"border-bottom: 1px solid #DDD;font-size:1.02em;background-color:#214579;color:white\"><b>residual_sugar</b></td><td style=\"border: 1px solid white;\">6497</td><td style=\"border: 1px solid white;\">5.44323533938742</td><td style=\"border: 1px solid white;\">4.75780374314741</td><td style=\"border: 1px solid white;\">0.6</td><td style=\"border: 1px solid white;\">1.8</td><td style=\"border: 1px solid white;\">3.0</td><td style=\"border: 1px solid white;\">8.1</td><td style=\"border: 1px solid white;\">65.8</td><td style=\"border: 1px solid white;\">316</td></tr><tr style=\"{border: 1px solid white;}\"><td style=\"border-bottom: 1px solid #DDD;font-size:1.02em;background-color:#214579;color:white\"><b>sulphates</b></td><td style=\"border: 1px solid white;\">6497</td><td style=\"border: 1px solid white;\">0.531268277666614</td><td style=\"border: 1px solid white;\">0.14880587361449</td><td style=\"border: 1px solid white;\">0.22</td><td style=\"border: 1px solid white;\">0.43</td><td style=\"border: 1px solid white;\">0.51</td><td style=\"border: 1px solid white;\">0.6</td><td style=\"border: 1px solid white;\">2.0</td><td style=\"border: 1px solid white;\">111</td></tr><tr style=\"{border: 1px solid white;}\"><td style=\"border-bottom: 1px solid #DDD;font-size:1.02em;background-color:#214579;color:white\"><b>total_sulfur_dioxide</b></td><td style=\"border: 1px solid white;\">6497</td><td style=\"border: 1px solid white;\">115.744574418963</td><td style=\"border: 1px solid white;\">56.5218545226304</td><td style=\"border: 1px solid white;\">6.0</td><td style=\"border: 1px solid white;\">77.0</td><td style=\"border: 1px solid white;\">118.0</td><td style=\"border: 1px solid white;\">156.0</td><td style=\"border: 1px solid white;\">440.0</td><td style=\"border: 1px solid white;\">276</td></tr><tr style=\"{border: 1px solid white;}\"><td style=\"border-bottom: 1px solid #DDD;font-size:1.02em;background-color:#214579;color:white\"><b>volatile_acidity</b></td><td style=\"border: 1px solid white;\">6497</td><td style=\"border: 1px solid white;\">0.339665999692165</td><td style=\"border: 1px solid white;\">0.164636474084679</td><td style=\"border: 1px solid white;\">0.08</td><td style=\"border: 1px solid white;\">0.23</td><td style=\"border: 1px solid white;\">0.29</td><td style=\"border: 1px solid white;\">0.4</td><td style=\"border: 1px solid white;\">1.58</td><td style=\"border: 1px solid white;\">187</td></tr></table>"
      ],
      "text/plain": [
       "<IPython.core.display.HTML object>"
      ]
     },
     "metadata": {},
     "output_type": "display_data"
    },
    {
     "data": {
      "text/plain": [
       "<object>"
      ]
     },
     "execution_count": 3,
     "metadata": {},
     "output_type": "execute_result"
    }
   ],
   "source": [
    "winequality.describe()"
   ]
  },
  {
   "cell_type": "markdown",
   "metadata": {},
   "source": [
    "<b>Question 1: </b>Split the dataset into a training and a testing."
   ]
  },
  {
   "cell_type": "markdown",
   "metadata": {},
   "source": [
    "<b>Question 2: </b>Create a Linear Regression model to rate the wines."
   ]
  },
  {
   "cell_type": "markdown",
   "metadata": {},
   "source": [
    "<b>Question 3: </b>Look at the model coef attribute and see what features you should eliminate if you decide to build another Linear Regression model. "
   ]
  },
  {
   "cell_type": "markdown",
   "metadata": {},
   "source": [
    "<b>Question 4: </b>Look at the features importance and confirm the hypothesis."
   ]
  },
  {
   "cell_type": "markdown",
   "metadata": {},
   "source": [
    "<b>Question 5: </b>Compute a regression report. What can you say about your model ? Which type of model you should probably consider to rate wines ?"
   ]
  }
 ],
 "metadata": {
  "kernelspec": {
   "display_name": "Python 3",
   "language": "python",
   "name": "python3"
  },
  "language_info": {
   "codemirror_mode": {
    "name": "ipython",
    "version": 3
   },
   "file_extension": ".py",
   "mimetype": "text/x-python",
   "name": "python",
   "nbconvert_exporter": "python",
   "pygments_lexer": "ipython3",
   "version": "3.6.3"
  }
 },
 "nbformat": 4,
 "nbformat_minor": 2
}
