{
 "cells": [
  {
   "cell_type": "markdown",
   "metadata": {},
   "source": [
    "<p align=\"center\">\n",
    "<img src='../../img/VerticaMLPython.png' width=\"180px\">\n",
    "</p>\n",
    "\n",
    "# Vertica ML Python Exercise 12\n",
    "\n",
    "During this exercice, we will:\n",
    "<ul>\n",
    "    <li> Build a Linear Regression model\n",
    "    <li> Split the data\n",
    "    <li> Evaluate the model with different metrics\n",
    "    <li> Compute the model features importance\n",
    "</ul>\n",
    "## Initialization\n",
    "\n",
    "Let's create a cursor using the vertica_cursor function."
   ]
  },
  {
   "cell_type": "code",
   "execution_count": 1,
   "metadata": {},
   "outputs": [],
   "source": [
    "from vertica_ml_python.utilities import vertica_cursor\n",
    "cur = vertica_cursor(\"VerticaDSN\")"
   ]
  },
  {
   "cell_type": "markdown",
   "metadata": {},
   "source": [
    "During this study, we will work with the winequality dataset, already available in VERTICA ML PYTHON. "
   ]
  },
  {
   "cell_type": "code",
   "execution_count": 2,
   "metadata": {},
   "outputs": [],
   "source": [
    "from vertica_ml_python.learn.datasets import load_winequality\n",
    "winequality = load_winequality(cur)"
   ]
  },
  {
   "cell_type": "markdown",
   "metadata": {},
   "source": [
    "The purpose is to rate wines thanks to their composition."
   ]
  },
  {
   "cell_type": "markdown",
   "metadata": {},
   "source": [
    "## Regression\n",
    "\n",
    "Let's explore the dataset by displaying descriptive statistics of all the columns."
   ]
  },
  {
   "cell_type": "code",
   "execution_count": 3,
   "metadata": {},
   "outputs": [
    {
     "data": {
      "text/html": [
       "<table style=\"border-collapse: collapse; border: 2px solid white\"><tr style=\"{border: 1px solid white;}\"><td style=\"border-bottom: 1px solid #DDD;font-size:1.02em;background-color:#214579;color:white\"><b></b></td><td style=\"font-size:1.02em;background-color:#214579;color:white\"><b>count</b></td><td style=\"font-size:1.02em;background-color:#214579;color:white\"><b>mean</b></td><td style=\"font-size:1.02em;background-color:#214579;color:white\"><b>std</b></td><td style=\"font-size:1.02em;background-color:#214579;color:white\"><b>min</b></td><td style=\"font-size:1.02em;background-color:#214579;color:white\"><b>25%</b></td><td style=\"font-size:1.02em;background-color:#214579;color:white\"><b>50%</b></td><td style=\"font-size:1.02em;background-color:#214579;color:white\"><b>75%</b></td><td style=\"font-size:1.02em;background-color:#214579;color:white\"><b>max</b></td><td style=\"font-size:1.02em;background-color:#214579;color:white\"><b>unique</b></td></tr><tr style=\"{border: 1px solid white;}\"><td style=\"border-bottom: 1px solid #DDD;font-size:1.02em;background-color:#214579;color:white\"><b>alcohol</b></td><td style=\"border: 1px solid white;\">6497</td><td style=\"border: 1px solid white;\">10.4918008311529</td><td style=\"border: 1px solid white;\">1.192711748871</td><td style=\"border: 1px solid white;\">8.0</td><td style=\"border: 1px solid white;\">9.5</td><td style=\"border: 1px solid white;\">10.3</td><td style=\"border: 1px solid white;\">11.3</td><td style=\"border: 1px solid white;\">14.9</td><td style=\"border: 1px solid white;\">112</td></tr><tr style=\"{border: 1px solid white;}\"><td style=\"border-bottom: 1px solid #DDD;font-size:1.02em;background-color:#214579;color:white\"><b>chlorides</b></td><td style=\"border: 1px solid white;\">6497</td><td style=\"border: 1px solid white;\">0.0560338617823611</td><td style=\"border: 1px solid white;\">0.0350336013724591</td><td style=\"border: 1px solid white;\">0.009</td><td style=\"border: 1px solid white;\">0.038</td><td style=\"border: 1px solid white;\">0.047</td><td style=\"border: 1px solid white;\">0.065</td><td style=\"border: 1px solid white;\">0.611</td><td style=\"border: 1px solid white;\">241</td></tr><tr style=\"{border: 1px solid white;}\"><td style=\"border-bottom: 1px solid #DDD;font-size:1.02em;background-color:#214579;color:white\"><b>citric_acid</b></td><td style=\"border: 1px solid white;\">6497</td><td style=\"border: 1px solid white;\">0.318633215330153</td><td style=\"border: 1px solid white;\">0.145317864897591</td><td style=\"border: 1px solid white;\">0.0</td><td style=\"border: 1px solid white;\">0.25</td><td style=\"border: 1px solid white;\">0.31</td><td style=\"border: 1px solid white;\">0.39</td><td style=\"border: 1px solid white;\">1.66</td><td style=\"border: 1px solid white;\">89</td></tr><tr style=\"{border: 1px solid white;}\"><td style=\"border-bottom: 1px solid #DDD;font-size:1.02em;background-color:#214579;color:white\"><b>density</b></td><td style=\"border: 1px solid white;\">6497</td><td style=\"border: 1px solid white;\">0.994696633831</td><td style=\"border: 1px solid white;\">0.00299867300371915</td><td style=\"border: 1px solid white;\">0.98711</td><td style=\"border: 1px solid white;\">0.99234</td><td style=\"border: 1px solid white;\">0.99489</td><td style=\"border: 1px solid white;\">0.99699</td><td style=\"border: 1px solid white;\">1.03898</td><td style=\"border: 1px solid white;\">1103</td></tr><tr style=\"{border: 1px solid white;}\"><td style=\"border-bottom: 1px solid #DDD;font-size:1.02em;background-color:#214579;color:white\"><b>fixed_acidity</b></td><td style=\"border: 1px solid white;\">6497</td><td style=\"border: 1px solid white;\">7.21530706479914</td><td style=\"border: 1px solid white;\">1.29643375779982</td><td style=\"border: 1px solid white;\">3.8</td><td style=\"border: 1px solid white;\">6.4</td><td style=\"border: 1px solid white;\">7.0</td><td style=\"border: 1px solid white;\">7.7</td><td style=\"border: 1px solid white;\">15.9</td><td style=\"border: 1px solid white;\">106</td></tr><tr style=\"{border: 1px solid white;}\"><td style=\"border-bottom: 1px solid #DDD;font-size:1.02em;background-color:#214579;color:white\"><b>free_sulfur_dioxide</b></td><td style=\"border: 1px solid white;\">6497</td><td style=\"border: 1px solid white;\">30.5253193781746</td><td style=\"border: 1px solid white;\">17.7493997720025</td><td style=\"border: 1px solid white;\">1.0</td><td style=\"border: 1px solid white;\">17.0</td><td style=\"border: 1px solid white;\">29.0</td><td style=\"border: 1px solid white;\">41.0</td><td style=\"border: 1px solid white;\">289.0</td><td style=\"border: 1px solid white;\">135</td></tr><tr style=\"{border: 1px solid white;}\"><td style=\"border-bottom: 1px solid #DDD;font-size:1.02em;background-color:#214579;color:white\"><b>good</b></td><td style=\"border: 1px solid white;\">6497</td><td style=\"border: 1px solid white;\">0.19655225488687</td><td style=\"border: 1px solid white;\">0.397421408895367</td><td style=\"border: 1px solid white;\">0.0</td><td style=\"border: 1px solid white;\">0.0</td><td style=\"border: 1px solid white;\">0.0</td><td style=\"border: 1px solid white;\">0.0</td><td style=\"border: 1px solid white;\">1.0</td><td style=\"border: 1px solid white;\">2</td></tr><tr style=\"{border: 1px solid white;}\"><td style=\"border-bottom: 1px solid #DDD;font-size:1.02em;background-color:#214579;color:white\"><b>pH</b></td><td style=\"border: 1px solid white;\">6497</td><td style=\"border: 1px solid white;\">3.21850084654456</td><td style=\"border: 1px solid white;\">0.160787202103987</td><td style=\"border: 1px solid white;\">2.72</td><td style=\"border: 1px solid white;\">3.11</td><td style=\"border: 1px solid white;\">3.21</td><td style=\"border: 1px solid white;\">3.32</td><td style=\"border: 1px solid white;\">4.01</td><td style=\"border: 1px solid white;\">108</td></tr><tr style=\"{border: 1px solid white;}\"><td style=\"border-bottom: 1px solid #DDD;font-size:1.02em;background-color:#214579;color:white\"><b>quality</b></td><td style=\"border: 1px solid white;\">6497</td><td style=\"border: 1px solid white;\">5.81837771279051</td><td style=\"border: 1px solid white;\">0.873255271531123</td><td style=\"border: 1px solid white;\">3.0</td><td style=\"border: 1px solid white;\">5.0</td><td style=\"border: 1px solid white;\">6.0</td><td style=\"border: 1px solid white;\">6.0</td><td style=\"border: 1px solid white;\">9.0</td><td style=\"border: 1px solid white;\">7</td></tr><tr style=\"{border: 1px solid white;}\"><td style=\"border-bottom: 1px solid #DDD;font-size:1.02em;background-color:#214579;color:white\"><b>residual_sugar</b></td><td style=\"border: 1px solid white;\">6497</td><td style=\"border: 1px solid white;\">5.44323533938742</td><td style=\"border: 1px solid white;\">4.75780374314741</td><td style=\"border: 1px solid white;\">0.6</td><td style=\"border: 1px solid white;\">1.8</td><td style=\"border: 1px solid white;\">3.0</td><td style=\"border: 1px solid white;\">8.1</td><td style=\"border: 1px solid white;\">65.8</td><td style=\"border: 1px solid white;\">316</td></tr><tr style=\"{border: 1px solid white;}\"><td style=\"border-bottom: 1px solid #DDD;font-size:1.02em;background-color:#214579;color:white\"><b>sulphates</b></td><td style=\"border: 1px solid white;\">6497</td><td style=\"border: 1px solid white;\">0.531268277666614</td><td style=\"border: 1px solid white;\">0.14880587361449</td><td style=\"border: 1px solid white;\">0.22</td><td style=\"border: 1px solid white;\">0.43</td><td style=\"border: 1px solid white;\">0.51</td><td style=\"border: 1px solid white;\">0.6</td><td style=\"border: 1px solid white;\">2.0</td><td style=\"border: 1px solid white;\">111</td></tr><tr style=\"{border: 1px solid white;}\"><td style=\"border-bottom: 1px solid #DDD;font-size:1.02em;background-color:#214579;color:white\"><b>total_sulfur_dioxide</b></td><td style=\"border: 1px solid white;\">6497</td><td style=\"border: 1px solid white;\">115.744574418963</td><td style=\"border: 1px solid white;\">56.5218545226304</td><td style=\"border: 1px solid white;\">6.0</td><td style=\"border: 1px solid white;\">77.0</td><td style=\"border: 1px solid white;\">118.0</td><td style=\"border: 1px solid white;\">156.0</td><td style=\"border: 1px solid white;\">440.0</td><td style=\"border: 1px solid white;\">276</td></tr><tr style=\"{border: 1px solid white;}\"><td style=\"border-bottom: 1px solid #DDD;font-size:1.02em;background-color:#214579;color:white\"><b>volatile_acidity</b></td><td style=\"border: 1px solid white;\">6497</td><td style=\"border: 1px solid white;\">0.339665999692165</td><td style=\"border: 1px solid white;\">0.164636474084679</td><td style=\"border: 1px solid white;\">0.08</td><td style=\"border: 1px solid white;\">0.23</td><td style=\"border: 1px solid white;\">0.29</td><td style=\"border: 1px solid white;\">0.4</td><td style=\"border: 1px solid white;\">1.58</td><td style=\"border: 1px solid white;\">187</td></tr></table>"
      ],
      "text/plain": [
       "<IPython.core.display.HTML object>"
      ]
     },
     "metadata": {},
     "output_type": "display_data"
    },
    {
     "data": {
      "text/plain": [
       "<object>"
      ]
     },
     "execution_count": 3,
     "metadata": {},
     "output_type": "execute_result"
    }
   ],
   "source": [
    "winequality.describe()"
   ]
  },
  {
   "cell_type": "markdown",
   "metadata": {},
   "source": [
    "<b>Question 1: </b>Split the dataset into a training and a testing."
   ]
  },
  {
   "cell_type": "code",
   "execution_count": 4,
   "metadata": {},
   "outputs": [],
   "source": [
    "from vertica_ml_python.learn.model_selection import train_test_split\n",
    "train, test = train_test_split(\"winequality\", cur)"
   ]
  },
  {
   "cell_type": "markdown",
   "metadata": {},
   "source": [
    "<b>Question 2: </b>Create a Linear Regression model to rate the wines."
   ]
  },
  {
   "cell_type": "code",
   "execution_count": 5,
   "metadata": {},
   "outputs": [
    {
     "name": "stdout",
     "output_type": "stream",
     "text": [
      "The model linear_winequality was successfully dropped.\n"
     ]
    },
    {
     "data": {
      "text/plain": [
       "\n",
       "\n",
       "=======\n",
       "details\n",
       "=======\n",
       "     predictor      |coefficient|std_err | t_value |p_value \n",
       "--------------------+-----------+--------+---------+--------\n",
       "     Intercept      | 64.37917  |15.34351| 4.19586 | 0.00003\n",
       "      alcohol       |  0.26020  | 0.02159|12.05077 | 0.00000\n",
       "     chlorides      | -0.52430  | 0.40334|-1.29990 | 0.19371\n",
       "    citric_acid     | -0.13753  | 0.09873|-1.39293 | 0.16371\n",
       "      density       | -63.86943 |15.64629|-4.08208 | 0.00005\n",
       "   fixed_acidity    |  0.08232  | 0.01970| 4.17808 | 0.00003\n",
       "free_sulfur_dioxide |  0.00690  | 0.00094| 7.35331 | 0.00000\n",
       "         ph         |  0.49161  | 0.11254| 4.36817 | 0.00001\n",
       "   residual_sugar   |  0.04809  | 0.00644| 7.46467 | 0.00000\n",
       "     sulphates      |  0.74842  | 0.09417| 7.94722 | 0.00000\n",
       "total_sulfur_dioxide| -0.00268  | 0.00034|-7.85332 | 0.00000\n",
       "  volatile_acidity  | -1.21489  | 0.09534|-12.74274| 0.00000\n",
       "\n",
       "\n",
       "==============\n",
       "regularization\n",
       "==============\n",
       "type| lambda \n",
       "----+--------\n",
       "none| 1.00000\n",
       "\n",
       "\n",
       "===========\n",
       "call_string\n",
       "===========\n",
       "linear_reg('public.linear_winequality', 'vpython_train_test_split_winequality_67', '\"quality\"', '\"alcohol\", \"chlorides\", \"citric_acid\", \"density\", \"fixed_acidity\", \"free_sulfur_dioxide\", \"pH\", \"residual_sugar\", \"sulphates\", \"total_sulfur_dioxide\", \"volatile_acidity\"'\n",
       "USING PARAMETERS optimizer='newton', epsilon=0.0001, max_iterations=100, regularization='none', lambda=1, alpha=0.5)\n",
       "\n",
       "===============\n",
       "Additional Info\n",
       "===============\n",
       "       Name       |Value\n",
       "------------------+-----\n",
       " iteration_count  |  1  \n",
       "rejected_row_count|  0  \n",
       "accepted_row_count|4294 "
      ]
     },
     "execution_count": 5,
     "metadata": {},
     "output_type": "execute_result"
    }
   ],
   "source": [
    "from vertica_ml_python.learn.linear_model import LinearRegression\n",
    "from vertica_ml_python.utilities import drop_model\n",
    "\n",
    "drop_model(\"linear_winequality\", cur)\n",
    "model = LinearRegression(name = \"linear_winequality\", cursor = cur)\n",
    "model.fit(train, [\"alcohol\", \"chlorides\", \"citric_acid\", \"density\", \"fixed_acidity\", \"free_sulfur_dioxide\", \"pH\", \"residual_sugar\", \"sulphates\", \"total_sulfur_dioxide\", \"volatile_acidity\"], \"quality\", test)"
   ]
  },
  {
   "cell_type": "markdown",
   "metadata": {},
   "source": [
    "<b>Question 3: </b>Look at the model coef attribute and see what features you should eliminate if you decide to build another Linear Regression model. "
   ]
  },
  {
   "cell_type": "code",
   "execution_count": 6,
   "metadata": {},
   "outputs": [
    {
     "data": {
      "text/html": [
       "<table style=\"border-collapse: collapse; border: 2px solid white\"><tr style=\"{border: 1px solid white;}\"><td style=\"border-bottom: 1px solid #DDD;font-size:1.02em;background-color:#214579;color:white\"><b></b></td><td style=\"font-size:1.02em;background-color:#214579;color:white\"><b>predictor</b></td><td style=\"font-size:1.02em;background-color:#214579;color:white\"><b>coefficient</b></td><td style=\"font-size:1.02em;background-color:#214579;color:white\"><b>std_err</b></td><td style=\"font-size:1.02em;background-color:#214579;color:white\"><b>t_value</b></td><td style=\"font-size:1.02em;background-color:#214579;color:white\"><b>p_value</b></td></tr><tr style=\"{border: 1px solid white;}\"><td style=\"border-bottom: 1px solid #DDD;font-size:1.02em;background-color:#214579;color:white\"><b>0</b></td><td style=\"border: 1px solid white;\">Intercept</td><td style=\"border: 1px solid white;\">64.3791659407461</td><td style=\"border: 1px solid white;\">15.3435100118218</td><td style=\"border: 1px solid white;\">4.19585648206595</td><td style=\"border: 1px solid white;\">2.7735001981708e-05</td></tr><tr style=\"{border: 1px solid white;}\"><td style=\"border-bottom: 1px solid #DDD;font-size:1.02em;background-color:#214579;color:white\"><b>1</b></td><td style=\"border: 1px solid white;\">alcohol</td><td style=\"border: 1px solid white;\">0.260195999656982</td><td style=\"border: 1px solid white;\">0.0215916497441285</td><td style=\"border: 1px solid white;\">12.0507697531421</td><td style=\"border: 1px solid white;\">6.51319664510253e-33</td></tr><tr style=\"{border: 1px solid white;}\"><td style=\"border-bottom: 1px solid #DDD;font-size:1.02em;background-color:#214579;color:white\"><b>2</b></td><td style=\"border: 1px solid white;\">chlorides</td><td style=\"border: 1px solid white;\">-0.524298553394445</td><td style=\"border: 1px solid white;\">0.403338469043869</td><td style=\"border: 1px solid white;\">-1.29989721693871</td><td style=\"border: 1px solid white;\">0.193706167848557</td></tr><tr style=\"{border: 1px solid white;}\"><td style=\"border-bottom: 1px solid #DDD;font-size:1.02em;background-color:#214579;color:white\"><b>3</b></td><td style=\"border: 1px solid white;\">citric_acid</td><td style=\"border: 1px solid white;\">-0.137526116614396</td><td style=\"border: 1px solid white;\">0.0987316651203362</td><td style=\"border: 1px solid white;\">-1.39292815984392</td><td style=\"border: 1px solid white;\">0.163713826574941</td></tr><tr style=\"{border: 1px solid white;}\"><td style=\"border-bottom: 1px solid #DDD;font-size:1.02em;background-color:#214579;color:white\"><b>4</b></td><td style=\"border: 1px solid white;\">density</td><td style=\"border: 1px solid white;\">-63.8694283858422</td><td style=\"border: 1px solid white;\">15.6462893245892</td><td style=\"border: 1px solid white;\">-4.08208151216193</td><td style=\"border: 1px solid white;\">4.54481144657238e-05</td></tr><tr style=\"{border: 1px solid white;}\"><td style=\"border-bottom: 1px solid #DDD;font-size:1.02em;background-color:#214579;color:white\"><b>5</b></td><td style=\"border: 1px solid white;\">fixed_acidity</td><td style=\"border: 1px solid white;\">0.082322223433505</td><td style=\"border: 1px solid white;\">0.0197033772561481</td><td style=\"border: 1px solid white;\">4.1780768019258</td><td style=\"border: 1px solid white;\">2.99844486056859e-05</td></tr><tr style=\"{border: 1px solid white;}\"><td style=\"border-bottom: 1px solid #DDD;font-size:1.02em;background-color:#214579;color:white\"><b>6</b></td><td style=\"border: 1px solid white;\">free_sulfur_dioxide</td><td style=\"border: 1px solid white;\">0.00689685911897511</td><td style=\"border: 1px solid white;\">0.000937925219244617</td><td style=\"border: 1px solid white;\">7.3533145046784</td><td style=\"border: 1px solid white;\">2.30443446710562e-13</td></tr><tr style=\"{border: 1px solid white;}\"><td style=\"border-bottom: 1px solid #DDD;font-size:1.02em;background-color:#214579;color:white\"><b>7</b></td><td style=\"border: 1px solid white;\">ph</td><td style=\"border: 1px solid white;\">0.491608360622681</td><td style=\"border: 1px solid white;\">0.112543296342059</td><td style=\"border: 1px solid white;\">4.36817097598163</td><td style=\"border: 1px solid white;\">1.28254684780457e-05</td></tr><tr style=\"{border: 1px solid white;}\"><td style=\"border-bottom: 1px solid #DDD;font-size:1.02em;background-color:#214579;color:white\"><b>8</b></td><td style=\"border: 1px solid white;\">residual_sugar</td><td style=\"border: 1px solid white;\">0.0480899891599975</td><td style=\"border: 1px solid white;\">0.00644234781242949</td><td style=\"border: 1px solid white;\">7.46466824830779</td><td style=\"border: 1px solid white;\">1.00594072179275e-13</td></tr><tr style=\"{border: 1px solid white;}\"><td style=\"border-bottom: 1px solid #DDD;font-size:1.02em;background-color:#214579;color:white\"><b>9</b></td><td style=\"border: 1px solid white;\">sulphates</td><td style=\"border: 1px solid white;\">0.748422574993064</td><td style=\"border: 1px solid white;\">0.0941741583577831</td><td style=\"border: 1px solid white;\">7.94721809086612</td><td style=\"border: 1px solid white;\">2.4197654135594e-15</td></tr><tr style=\"{border: 1px solid white;}\"><td style=\"border-bottom: 1px solid #DDD;font-size:1.02em;background-color:#214579;color:white\"><b>10</b></td><td style=\"border: 1px solid white;\">total_sulfur_dioxide</td><td style=\"border: 1px solid white;\">-0.00268491561863536</td><td style=\"border: 1px solid white;\">0.000341882670838287</td><td style=\"border: 1px solid white;\">-7.85332468607437</td><td style=\"border: 1px solid white;\">5.08430126656363e-15</td></tr><tr style=\"{border: 1px solid white;}\"><td style=\"border-bottom: 1px solid #DDD;font-size:1.02em;background-color:#214579;color:white\"><b>11</b></td><td style=\"border: 1px solid white;\">volatile_acidity</td><td style=\"border: 1px solid white;\">-1.21489175291813</td><td style=\"border: 1px solid white;\">0.095339947450566</td><td style=\"border: 1px solid white;\">-12.7427357094785</td><td style=\"border: 1px solid white;\">1.56466739894927e-36</td></tr></table>"
      ],
      "text/plain": [
       "<IPython.core.display.HTML object>"
      ]
     },
     "metadata": {},
     "output_type": "display_data"
    },
    {
     "data": {
      "text/plain": [
       "<object>"
      ]
     },
     "execution_count": 6,
     "metadata": {},
     "output_type": "execute_result"
    }
   ],
   "source": [
    "model.coef"
   ]
  },
  {
   "cell_type": "markdown",
   "metadata": {},
   "source": [
    "<p style=\"color:red\">The p-values of chlorides and citric_acid are really high, we can exclude them in a next similar model.</p>"
   ]
  },
  {
   "cell_type": "markdown",
   "metadata": {},
   "source": [
    "<b>Question 4: </b>Look at the features importance and confirm the hypothesis."
   ]
  },
  {
   "cell_type": "code",
   "execution_count": 7,
   "metadata": {},
   "outputs": [
    {
     "data": {
      "image/png": "[encoded data removed]",
      "text/plain": [
       "<matplotlib.figure.Figure at 0x1052b4898>"
      ]
     },
     "metadata": {},
     "output_type": "display_data"
    },
    {
     "data": {
      "text/html": [
       "<table style=\"border-collapse: collapse; border: 2px solid white\"><tr style=\"{border: 1px solid white;}\"><td style=\"border-bottom: 1px solid #DDD;font-size:1.02em;background-color:#214579;color:white\"><b></b></td><td style=\"font-size:1.02em;background-color:#214579;color:white\"><b>importance</b></td></tr><tr style=\"{border: 1px solid white;}\"><td style=\"border-bottom: 1px solid #DDD;font-size:1.02em;background-color:#214579;color:white\"><b>alcohol</b></td><td style=\"border: 1px solid white;\">13.78</td></tr><tr style=\"{border: 1px solid white;}\"><td style=\"border-bottom: 1px solid #DDD;font-size:1.02em;background-color:#214579;color:white\"><b>volatile_acidity</b></td><td style=\"border: 1px solid white;\">13.29</td></tr><tr style=\"{border: 1px solid white;}\"><td style=\"border-bottom: 1px solid #DDD;font-size:1.02em;background-color:#214579;color:white\"><b>residual_sugar</b></td><td style=\"border: 1px solid white;\">13.05</td></tr><tr style=\"{border: 1px solid white;}\"><td style=\"border-bottom: 1px solid #DDD;font-size:1.02em;background-color:#214579;color:white\"><b>density</b></td><td style=\"border: 1px solid white;\">12.95</td></tr><tr style=\"{border: 1px solid white;}\"><td style=\"border-bottom: 1px solid #DDD;font-size:1.02em;background-color:#214579;color:white\"><b>sulphates</b></td><td style=\"border: 1px solid white;\">11.46</td></tr><tr style=\"{border: 1px solid white;}\"><td style=\"border-bottom: 1px solid #DDD;font-size:1.02em;background-color:#214579;color:white\"><b>free_sulfur_dioxide</b></td><td style=\"border: 1px solid white;\">8.78</td></tr><tr style=\"{border: 1px solid white;}\"><td style=\"border-bottom: 1px solid #DDD;font-size:1.02em;background-color:#214579;color:white\"><b>fixed_acidity</b></td><td style=\"border: 1px solid white;\">8.5</td></tr><tr style=\"{border: 1px solid white;}\"><td style=\"border-bottom: 1px solid #DDD;font-size:1.02em;background-color:#214579;color:white\"><b>total_sulfur_dioxide</b></td><td style=\"border: 1px solid white;\">8.47</td></tr><tr style=\"{border: 1px solid white;}\"><td style=\"border-bottom: 1px solid #DDD;font-size:1.02em;background-color:#214579;color:white\"><b>ph</b></td><td style=\"border: 1px solid white;\">5.46</td></tr><tr style=\"{border: 1px solid white;}\"><td style=\"border-bottom: 1px solid #DDD;font-size:1.02em;background-color:#214579;color:white\"><b>chlorides</b></td><td style=\"border: 1px solid white;\">2.76</td></tr><tr style=\"{border: 1px solid white;}\"><td style=\"border-bottom: 1px solid #DDD;font-size:1.02em;background-color:#214579;color:white\"><b>citric_acid</b></td><td style=\"border: 1px solid white;\">1.48</td></tr></table>"
      ],
      "text/plain": [
       "<IPython.core.display.HTML object>"
      ]
     },
     "metadata": {},
     "output_type": "display_data"
    },
    {
     "data": {
      "text/plain": [
       "<object>"
      ]
     },
     "execution_count": 7,
     "metadata": {},
     "output_type": "execute_result"
    }
   ],
   "source": [
    "%matplotlib inline\n",
    "model.features_importance()"
   ]
  },
  {
   "cell_type": "markdown",
   "metadata": {},
   "source": [
    "<b>Question 5: </b>Compute a regression report. What can you say about your model ? Which type of model you should probably consider to rate wines ?"
   ]
  },
  {
   "cell_type": "code",
   "execution_count": 8,
   "metadata": {},
   "outputs": [
    {
     "data": {
      "text/html": [
       "<table style=\"border-collapse: collapse; border: 2px solid white\"><tr style=\"{border: 1px solid white;}\"><td style=\"border-bottom: 1px solid #DDD;font-size:1.02em;background-color:#214579;color:white\"><b></b></td><td style=\"font-size:1.02em;background-color:#214579;color:white\"><b>value</b></td></tr><tr style=\"{border: 1px solid white;}\"><td style=\"border-bottom: 1px solid #DDD;font-size:1.02em;background-color:#214579;color:white\"><b>explained_variance</b></td><td style=\"border: 1px solid white;\">0.291241699052841</td></tr><tr style=\"{border: 1px solid white;}\"><td style=\"border-bottom: 1px solid #DDD;font-size:1.02em;background-color:#214579;color:white\"><b>max_error</b></td><td style=\"border: 1px solid white;\">3.92862356633749</td></tr><tr style=\"{border: 1px solid white;}\"><td style=\"border-bottom: 1px solid #DDD;font-size:1.02em;background-color:#214579;color:white\"><b>median_absolute_error</b></td><td style=\"border: 1px solid white;\">0.46809063434632</td></tr><tr style=\"{border: 1px solid white;}\"><td style=\"border-bottom: 1px solid #DDD;font-size:1.02em;background-color:#214579;color:white\"><b>mean_absolute_error</b></td><td style=\"border: 1px solid white;\">0.574226384399297</td></tr><tr style=\"{border: 1px solid white;}\"><td style=\"border-bottom: 1px solid #DDD;font-size:1.02em;background-color:#214579;color:white\"><b>mean_squared_error</b></td><td style=\"border: 1px solid white;\">0.549674682365059</td></tr><tr style=\"{border: 1px solid white;}\"><td style=\"border-bottom: 1px solid #DDD;font-size:1.02em;background-color:#214579;color:white\"><b>r2</b></td><td style=\"border: 1px solid white;\">0.290224724177757</td></tr></table>"
      ],
      "text/plain": [
       "<IPython.core.display.HTML object>"
      ]
     },
     "metadata": {},
     "output_type": "display_data"
    },
    {
     "data": {
      "text/plain": [
       "<object>"
      ]
     },
     "execution_count": 8,
     "metadata": {},
     "output_type": "execute_result"
    }
   ],
   "source": [
    "model.regression_report()"
   ]
  },
  {
   "cell_type": "markdown",
   "metadata": {},
   "source": [
    "<p style=\"color:red\">The model is not good enough. We probably need to consider a non-linear model.</p>"
   ]
  }
 ],
 "metadata": {
  "kernelspec": {
   "display_name": "Python 3",
   "language": "python",
   "name": "python3"
  },
  "language_info": {
   "codemirror_mode": {
    "name": "ipython",
    "version": 3
   },
   "file_extension": ".py",
   "mimetype": "text/x-python",
   "name": "python",
   "nbconvert_exporter": "python",
   "pygments_lexer": "ipython3",
   "version": "3.6.3"
  }
 },
 "nbformat": 4,
 "nbformat_minor": 2
}
