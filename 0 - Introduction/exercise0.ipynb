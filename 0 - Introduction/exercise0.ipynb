{
 "cells": [
  {
   "cell_type": "markdown",
   "metadata": {},
   "source": [
    "<p align=\"center\">\n",
    "<img src='../../img/VerticaMLPython.png' width=\"180px\">\n",
    "</p>\n",
    "\n",
    "# Vertica ML Python Exercise 0\n",
    "\n",
    "During this exercice, we will see:\n",
    "<ul>\n",
    "    <li> how to create a connection\n",
    "    <li> load a dataset in the Vertica Database\n",
    "    <li> draw an histogram\n",
    "    <li> draw some time series (cumulative sums for example)\n",
    "</ul>\n",
    "## Initialization\n",
    "\n",
    "If you have a DSN ready. The connection can be done easily with the vertica_cursor function of the VERTICA ML PYTHON library. This one will try to create a connection with pyodbc first and then vertica_python. If one of the two libraries is installed and you successfully settled your DSN, everything should work fine."
   ]
  },
  {
   "cell_type": "code",
   "execution_count": 1,
   "metadata": {
    "scrolled": true
   },
   "outputs": [],
   "source": [
    "from vertica_ml_python.utilities import vertica_cursor\n",
    "cur = vertica_cursor(\"VerticaDSN\")"
   ]
  },
  {
   "cell_type": "markdown",
   "metadata": {},
   "source": [
    "Otherwise, you can try to manually create the connection. With vertica_python:"
   ]
  },
  {
   "cell_type": "code",
   "execution_count": 2,
   "metadata": {},
   "outputs": [],
   "source": [
    "#\n",
    "# vertica_python\n",
    "#\n",
    "import vertica_python\n",
    "\n",
    "'''\n",
    "# Connection using all the DSN information\n",
    "conn_info = {'host': \"10.211.55.14\", 'port': 5433, 'user': \"dbadmin\", 'password': \"XxX\", 'database': \"testdb\"}\n",
    "cur = vertica_python.connect(** conn_info).cursor()\n",
    "'''\n",
    "\n",
    "# Connection using directly the DSN\n",
    "from vertica_ml_python.utilities import to_vertica_python_format # This function will parse the odbc.ini file\n",
    "dsn = \"VerticaDSN\"\n",
    "cur = vertica_python.connect(** to_vertica_python_format(dsn), autocommit = True).cursor()"
   ]
  },
  {
   "cell_type": "markdown",
   "metadata": {},
   "source": [
    "With pyodbc (recommended):"
   ]
  },
  {
   "cell_type": "code",
   "execution_count": 3,
   "metadata": {},
   "outputs": [],
   "source": [
    "#\n",
    "# pyodbc\n",
    "#\n",
    "import pyodbc\n",
    "\n",
    "'''\n",
    "# Connection using all the DSN information\n",
    "driver = \"/Library/Vertica/ODBC/lib/libverticaodbc.dylib\"\n",
    "server = \"10.211.55.14\"\n",
    "database = \"testdb\"\n",
    "port = \"5433\"\n",
    "uid = \"dbadmin\"\n",
    "pwd = \"XxX\"\n",
    "dsn = (\"DRIVER={}; SERVER={}; DATABASE={}; PORT={}; UID={}; PWD={};\").format(driver, server, database, port, uid, pwd)\n",
    "cur = pyodbc.connect(dsn).cursor()\n",
    "'''\n",
    "\n",
    "# Connection using directly the DSN\n",
    "dsn = (\"DSN=VerticaDSN\")\n",
    "cur = pyodbc.connect(dsn, autocommit = True).cursor()"
   ]
  },
  {
   "cell_type": "markdown",
   "metadata": {},
   "source": [
    "With jaydebeapi:"
   ]
  },
  {
   "cell_type": "code",
   "execution_count": 4,
   "metadata": {},
   "outputs": [],
   "source": [
    "#\n",
    "# jaydebeapi\n",
    "#\n",
    "'''\n",
    "import jaydebeapi\n",
    "\n",
    "uid = \"dbadmin\"\n",
    "pwd = \"XxX\"\n",
    "driver = \"/Library/Vertica/JDBC/vertica-jdbc-9.0.1-0.jar\" #Path to JDBC Driver\n",
    "url = 'jdbc:vertica://10.211.55.14:5433/'\n",
    "name = 'com.vertica.jdbc.Driver'\n",
    "cur = jaydebeapi.connect(name, [url, uid, pwd], driver).cursor()\n",
    "'''"
   ]
  },
  {
   "cell_type": "markdown",
   "metadata": {},
   "source": [
    "<br>\n",
    "&#9888; Some functions may never ends because of the \"autocommit\" set to False attribute. If it is the case, please create manually a cursor with this attribute set to True. I really recommend the pyodbc cursor which is more robust than the other cursors.<br>"
   ]
  },
  {
   "cell_type": "markdown",
   "metadata": {},
   "source": [
    "Let's now try to import some data.\n",
    "\n",
    "Forest fires are a serious problem for the preservation of the Tropical Forests. Understanding the frequency of forest fires in a time series can help to take action to prevent them. Brazil has the largest rainforest on the planet that is the Amazon rainforest.\n",
    "\n",
    "The file amazon.csv represents the number of forest fires in Brazil. These time series include the period of approximately 10 years (1998 to 2017). The data were obtained from the official website of the Brazilian government. We will try to explore the data and understand when forest fires are happening. \n",
    "\n",
    "The function read csv can help us to parse easily a CSV file. It is using flex tables to detect the data type. As parsing the different types can be time expensive, it is possible to use the parameter 'parse_n_lines' to limit the number of lines to parse in order to guess the different types. If you already know the columns names and types, the parameters 'header_names' and 'dtype' can be used to make the loading faster."
   ]
  },
  {
   "cell_type": "code",
   "execution_count": 5,
   "metadata": {},
   "outputs": [
    {
     "name": "stdout",
     "output_type": "stream",
     "text": [
      "The table amazon was successfully dropped.\n",
      "The table public.amazon has been successfully created.\n"
     ]
    }
   ],
   "source": [
    "from vertica_ml_python.utilities import read_csv\n",
    "from vertica_ml_python.utilities import drop_table\n",
    "drop_table(\"amazon\", cur)\n",
    "amazon = read_csv(\"amazon.csv\", cur)"
   ]
  },
  {
   "cell_type": "markdown",
   "metadata": {},
   "source": [
    "Many training datasets are available in vertica_ml_python.lear.datasets including the amazon one. A way to import the data can be to call the function."
   ]
  },
  {
   "cell_type": "code",
   "execution_count": 6,
   "metadata": {},
   "outputs": [],
   "source": [
    "from vertica_ml_python.learn.datasets import load_amazon\n",
    "amazon = load_amazon(cur)"
   ]
  },
  {
   "cell_type": "markdown",
   "metadata": {},
   "source": [
    "## Data Exploration of the Dataset\n",
    "\n",
    "Let's explore the data by displaying descriptive statistics of all the columns."
   ]
  },
  {
   "cell_type": "code",
   "execution_count": 7,
   "metadata": {},
   "outputs": [
    {
     "data": {
      "text/html": [
       "<table style=\"border-collapse: collapse; border: 2px solid white\"><tr style=\"{border: 1px solid white;}\"><td style=\"border-bottom: 1px solid #DDD;font-size:1.02em;background-color:#214579;color:white\"><b></b></td><td style=\"font-size:1.02em;background-color:#214579;color:white\"><b>dtype</b></td><td style=\"font-size:1.02em;background-color:#214579;color:white\"><b>unique</b></td><td style=\"font-size:1.02em;background-color:#214579;color:white\"><b>count</b></td><td style=\"font-size:1.02em;background-color:#214579;color:white\"><b>top</b></td><td style=\"font-size:1.02em;background-color:#214579;color:white\"><b>top_percent</b></td></tr><tr style=\"{border: 1px solid white;}\"><td style=\"border-bottom: 1px solid #DDD;font-size:1.02em;background-color:#214579;color:white\"><b>\"year\"</b></td><td style=\"border: 1px solid white;\">int</td><td style=\"border: 1px solid white;\">20</td><td style=\"border: 1px solid white;\">6454</td><td style=\"border: 1px solid white;\">1998</td><td style=\"border: 1px solid white;\">5.02</td></tr><tr style=\"{border: 1px solid white;}\"><td style=\"border-bottom: 1px solid #DDD;font-size:1.02em;background-color:#214579;color:white\"><b>\"number\"</b></td><td style=\"border: 1px solid white;\">int</td><td style=\"border: 1px solid white;\">1475</td><td style=\"border: 1px solid white;\">6454</td><td style=\"border: 1px solid white;\">0</td><td style=\"border: 1px solid white;\">9.56</td></tr><tr style=\"{border: 1px solid white;}\"><td style=\"border-bottom: 1px solid #DDD;font-size:1.02em;background-color:#214579;color:white\"><b>\"date\"</b></td><td style=\"border: 1px solid white;\">date</td><td style=\"border: 1px solid white;\">20</td><td style=\"border: 1px solid white;\">6454</td><td style=\"border: 1px solid white;\">2007-01-01</td><td style=\"border: 1px solid white;\">5.02</td></tr><tr style=\"{border: 1px solid white;}\"><td style=\"border-bottom: 1px solid #DDD;font-size:1.02em;background-color:#214579;color:white\"><b>\"month\"</b></td><td style=\"border: 1px solid white;\">varchar(20)</td><td style=\"border: 1px solid white;\">12</td><td style=\"border: 1px solid white;\">6454</td><td style=\"border: 1px solid white;\">January</td><td style=\"border: 1px solid white;\">8.382</td></tr><tr style=\"{border: 1px solid white;}\"><td style=\"border-bottom: 1px solid #DDD;font-size:1.02em;background-color:#214579;color:white\"><b>\"state\"</b></td><td style=\"border: 1px solid white;\">varchar(32)</td><td style=\"border: 1px solid white;\">23</td><td style=\"border: 1px solid white;\">6454</td><td style=\"border: 1px solid white;\">Rio</td><td style=\"border: 1px solid white;\">11.109</td></tr></table>"
      ],
      "text/plain": [
       "<IPython.core.display.HTML object>"
      ]
     },
     "metadata": {},
     "output_type": "display_data"
    },
    {
     "data": {
      "text/plain": [
       "<object>"
      ]
     },
     "execution_count": 7,
     "metadata": {},
     "output_type": "execute_result"
    }
   ],
   "source": [
    "amazon.describe(method = \"categorical\")"
   ]
  },
  {
   "cell_type": "markdown",
   "metadata": {},
   "source": [
    "We can then look at the number of forest fire per month. Sometimes the graphic will not appear because of a Jupyter issue. You'll have to rerun the cell or write '%matplotlib inline' before the method. You don't have to write this command each time (once is enough to make it work). \n",
    "\n",
    "Besides, as most of the methods will return the Virtual Dataframe itself; You can be bored to always display the output. That's why you can affect a variable with the result of the transformation to avoid redundant outputs."
   ]
  },
  {
   "cell_type": "code",
   "execution_count": 8,
   "metadata": {},
   "outputs": [
    {
     "data": {
      "image/png": "[encoded data removed]",
      "text/plain": [
       "<matplotlib.figure.Figure at 0x10a0eda20>"
      ]
     },
     "metadata": {},
     "output_type": "display_data"
    }
   ],
   "source": [
    "%matplotlib inline\n",
    "x = amazon[\"month\"].hist(method = \"sum\", of = \"number\", max_cardinality = 12)"
   ]
  },
  {
   "cell_type": "markdown",
   "metadata": {},
   "source": [
    "<b>Question 1: </b>Compute the histogram of the number of forest fires per year and the one per state. What do you notice ?"
   ]
  },
  {
   "cell_type": "markdown",
   "metadata": {},
   "source": [
    "<b>Question 2: </b>Compute the cumulative sum of the number of forest fires in Brazil since the start of the dataset. Plot the time series using the 'plot' method. What do you notice?"
   ]
  },
  {
   "cell_type": "markdown",
   "metadata": {},
   "source": [
    "<b>Question 3: </b>Mato Grosso seems to be subject to a lot of forest fires. Filter the data and find all the possible information on this State."
   ]
  },
  {
   "cell_type": "markdown",
   "metadata": {},
   "source": [
    "<b>Question 4: </b>Plot the cumulative sum of the number of forest fires group by state. "
   ]
  }
 ],
 "metadata": {
  "kernelspec": {
   "display_name": "Python 3",
   "language": "python",
   "name": "python3"
  },
  "language_info": {
   "codemirror_mode": {
    "name": "ipython",
    "version": 3
   },
   "file_extension": ".py",
   "mimetype": "text/x-python",
   "name": "python",
   "nbconvert_exporter": "python",
   "pygments_lexer": "ipython3",
   "version": "3.6.3"
  }
 },
 "nbformat": 4,
 "nbformat_minor": 2
}
