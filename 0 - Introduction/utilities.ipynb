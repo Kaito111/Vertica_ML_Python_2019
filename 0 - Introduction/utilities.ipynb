{
 "cells": [
  {
   "attachments": {},
   "cell_type": "markdown",
   "metadata": {},
   "source": [
    "<p align=\"center\">\n",
    "<img src='../../img/VerticaMLPython.png' width=\"180px\">\n",
    "</p>\n",
    "\n",
    "# Vertica ML Python Utilities\n",
    "\n",
    "During this exercice, we will see how:\n",
    "<ul>\n",
    "    <li> to save a Virtual Dataframe\n",
    "    <li> to store a Virtual Dataframe\n",
    "    <li> to load a Virtual Dataframe\n",
    "    <li> to generate the SQL\n",
    "</ul>\n",
    "## Initialization\n",
    "\n",
    "Let's create a cursor to the DB."
   ]
  },
  {
   "cell_type": "code",
   "execution_count": 1,
   "metadata": {
    "scrolled": true
   },
   "outputs": [],
   "source": [
    "from vertica_ml_python.utilities import vertica_cursor\n",
    "cur = vertica_cursor(\"VerticaDSN\")"
   ]
  },
  {
   "cell_type": "markdown",
   "metadata": {},
   "source": [
    "Let's use the amazon dataset introduced in the Exercise 0."
   ]
  },
  {
   "cell_type": "code",
   "execution_count": 2,
   "metadata": {},
   "outputs": [],
   "source": [
    "from vertica_ml_python.learn.datasets import load_amazon\n",
    "amazon = load_amazon(cur)"
   ]
  },
  {
   "cell_type": "markdown",
   "metadata": {},
   "source": [
    "## Utilities\n",
    "\n",
    "Let's apply some transformations to the dataset."
   ]
  },
  {
   "cell_type": "code",
   "execution_count": 3,
   "metadata": {},
   "outputs": [
    {
     "name": "stdout",
     "output_type": "stream",
     "text": [
      "The new vColumn \"cum_sum\" was added to the vDataframe.\n"
     ]
    },
    {
     "data": {
      "text/html": [
       "<table style=\"border-collapse: collapse; border: 2px solid white\"><tr style=\"{border: 1px solid white;}\"><td style=\"border-bottom: 1px solid #DDD;font-size:1.02em;background-color:#214579;color:white\"><b></b></td><td style=\"font-size:1.02em;background-color:#214579;color:white\"><b>year</b></td><td style=\"font-size:1.02em;background-color:#214579;color:white\"><b>number</b></td><td style=\"font-size:1.02em;background-color:#214579;color:white\"><b>date</b></td><td style=\"font-size:1.02em;background-color:#214579;color:white\"><b>month</b></td><td style=\"font-size:1.02em;background-color:#214579;color:white\"><b>state</b></td><td style=\"font-size:1.02em;background-color:#214579;color:white\"><b>cum_sum</b></td></tr><tr style=\"{border: 1px solid white;}\"><td style=\"border-bottom: 1px solid #DDD;font-size:1.02em;background-color:#214579;color:white\"><b>0</b></td><td style=\"border: 1px solid white;\">1998</td><td style=\"border: 1px solid white;\">509</td><td style=\"border: 1px solid white;\">1998-01-01</td><td style=\"border: 1px solid white;\">September</td><td style=\"border: 1px solid white;\">0</td><td style=\"border: 1px solid white;\">509</td></tr><tr style=\"{border: 1px solid white;}\"><td style=\"border-bottom: 1px solid #DDD;font-size:1.02em;background-color:#214579;color:white\"><b>1</b></td><td style=\"border: 1px solid white;\">1998</td><td style=\"border: 1px solid white;\">130</td><td style=\"border: 1px solid white;\">1998-01-01</td><td style=\"border: 1px solid white;\">August</td><td style=\"border: 1px solid white;\">0</td><td style=\"border: 1px solid white;\">639</td></tr><tr style=\"{border: 1px solid white;}\"><td style=\"border-bottom: 1px solid #DDD;font-size:1.02em;background-color:#214579;color:white\"><b>2</b></td><td style=\"border: 1px solid white;\">1998</td><td style=\"border: 1px solid white;\">44</td><td style=\"border: 1px solid white;\">1998-01-01</td><td style=\"border: 1px solid white;\">October</td><td style=\"border: 1px solid white;\">0</td><td style=\"border: 1px solid white;\">683</td></tr><tr style=\"{border: 1px solid white;}\"><td style=\"border-bottom: 1px solid #DDD;font-size:1.02em;background-color:#214579;color:white\"><b>3</b></td><td style=\"border: 1px solid white;\">1998</td><td style=\"border: 1px solid white;\">37</td><td style=\"border: 1px solid white;\">1998-01-01</td><td style=\"border: 1px solid white;\">July</td><td style=\"border: 1px solid white;\">0</td><td style=\"border: 1px solid white;\">720</td></tr><tr style=\"{border: 1px solid white;}\"><td style=\"border-bottom: 1px solid #DDD;font-size:1.02em;background-color:#214579;color:white\"><b>4</b></td><td style=\"border: 1px solid white;\">1998</td><td style=\"border: 1px solid white;\">7</td><td style=\"border: 1px solid white;\">1998-01-01</td><td style=\"border: 1px solid white;\">December</td><td style=\"border: 1px solid white;\">0</td><td style=\"border: 1px solid white;\">727</td></tr><tr><td style=\"border-top: 1px solid white;background-color:#214579;color:white\"></td><td style=\"border: 1px solid white;\">...</td><td style=\"border: 1px solid white;\">...</td><td style=\"border: 1px solid white;\">...</td><td style=\"border: 1px solid white;\">...</td><td style=\"border: 1px solid white;\">...</td><td style=\"border: 1px solid white;\">...</td></tr></table>"
      ],
      "text/plain": [
       "<IPython.core.display.HTML object>"
      ]
     },
     "metadata": {},
     "output_type": "display_data"
    },
    {
     "data": {
      "text/plain": [
       "<object>  Name: amazon, Number of rows: 6454, Number of columns: 6"
      ]
     },
     "execution_count": 3,
     "metadata": {},
     "output_type": "execute_result"
    }
   ],
   "source": [
    "amazon.cumsum(\"cum_sum\", \"number\", by = [\"state\"], order_by = [\"date\"])[\"state\"].label_encode()"
   ]
  },
  {
   "cell_type": "markdown",
   "metadata": {},
   "source": [
    "You can look at the SQL code generation using the 'sql_on_off' method. Let's describe the Virtual Dataframe."
   ]
  },
  {
   "cell_type": "code",
   "execution_count": 4,
   "metadata": {},
   "outputs": [
    {
     "data": {
      "text/html": [
       "<h4 style='color:#444444;text-decoration:underline;'>Compute the descriptive statistics of all the numerical columns</h4>"
      ],
      "text/plain": [
       "<IPython.core.display.HTML object>"
      ]
     },
     "metadata": {},
     "output_type": "display_data"
    },
    {
     "data": {
      "text/html": [
       "SELECT SUMMARIZE_NUMCOL(\"year\",\"number\",\"state\",\"cum_sum\") OVER () <br>FROM <br> &emsp; (SELECT \"year\" AS \"year\", <br> &emsp;  &emsp;  &emsp;  &emsp;  &emsp; \"number\" AS \"number\", <br> &emsp;  &emsp;  &emsp;  &emsp;  &emsp; \"date\" AS \"date\", <br> &emsp;  &emsp;  &emsp;  &emsp;  &emsp; \"month\" AS \"month\", <br> &emsp;  &emsp;  &emsp;  &emsp;  &emsp; DECODE(\"state\", 'Acre', 0, 'Alagoas', 1, 'Amapa', 2, 'Amazonas', 3, 'Bahia', 4, 'Ceara', 5, 'Distrito Federal', 6, 'Espirito Santo', 7, 'Goias', 8, 'Maranhao', 9, 'Mato Grosso', 10, 'Minas Gerais', 11, 'Para', 12, 'Paraiba', 13, 'Pernambuco', 14, 'Piau', 15, 'Rio', 16, 'Rondonia', 17, 'Roraima', 18, 'Santa Catarina', 19, 'Sao Paulo', 20, 'Sergipe', 21, 'Tocantins', 22, 23) AS \"state\", <br> &emsp;  &emsp;  &emsp;  &emsp;  &emsp; SUM(\"number\") OVER (PARTITION BY \"state\" <br> &emsp;  &emsp;  &emsp;  &emsp;  &emsp;  &emsp;  &emsp;  &emsp;  &emsp;  &emsp;  &emsp;  &emsp;  &emsp;  &emsp;  &emsp; ORDER BY \"date\" ROWS BETWEEN UNBOUNDED PRECEDING AND 0 FOLLOWING) AS \"cum_sum\" <br> &emsp;  FROM <br> &emsp;  &emsp;  (SELECT \"year\" AS \"year\", <br> &emsp;  &emsp;  &emsp;  &emsp;  &emsp;  &emsp;  \"number\" AS \"number\", <br> &emsp;  &emsp;  &emsp;  &emsp;  &emsp;  &emsp;  \"date\" AS \"date\", <br> &emsp;  &emsp;  &emsp;  &emsp;  &emsp;  &emsp;  \"month\" AS \"month\", <br> &emsp;  &emsp;  &emsp;  &emsp;  &emsp;  &emsp;  \"state\" AS \"state\", <br> &emsp;  &emsp;  &emsp;  &emsp;  &emsp;  &emsp;  0 AS \"cum_sum\" <br> &emsp;  &emsp;  &emsp; FROM public.amazon) t1) final_table"
      ],
      "text/plain": [
       "<IPython.core.display.HTML object>"
      ]
     },
     "metadata": {},
     "output_type": "display_data"
    },
    {
     "data": {
      "text/html": [
       "<div style = 'border : 1px dashed black; width : 100%'></div>"
      ],
      "text/plain": [
       "<IPython.core.display.HTML object>"
      ]
     },
     "metadata": {},
     "output_type": "display_data"
    },
    {
     "data": {
      "text/html": [
       "<h4 style='color:#444444;text-decoration:underline;'>Compute the cardinalities of all the elements in a single query</h4>"
      ],
      "text/plain": [
       "<IPython.core.display.HTML object>"
      ]
     },
     "metadata": {},
     "output_type": "display_data"
    },
    {
     "data": {
      "text/html": [
       "SELECT COUNT(DISTINCT \"cum_sum\"), <br> &emsp;  &emsp;  &emsp;  COUNT(DISTINCT \"number\"), <br> &emsp;  &emsp;  &emsp;  COUNT(DISTINCT \"state\"), <br> &emsp;  &emsp;  &emsp;  COUNT(DISTINCT \"year\") <br>FROM <br> &emsp; (SELECT \"year\" AS \"year\", <br> &emsp;  &emsp;  &emsp;  &emsp;  &emsp; \"number\" AS \"number\", <br> &emsp;  &emsp;  &emsp;  &emsp;  &emsp; \"date\" AS \"date\", <br> &emsp;  &emsp;  &emsp;  &emsp;  &emsp; \"month\" AS \"month\", <br> &emsp;  &emsp;  &emsp;  &emsp;  &emsp; DECODE(\"state\", 'Acre', 0, 'Alagoas', 1, 'Amapa', 2, 'Amazonas', 3, 'Bahia', 4, 'Ceara', 5, 'Distrito Federal', 6, 'Espirito Santo', 7, 'Goias', 8, 'Maranhao', 9, 'Mato Grosso', 10, 'Minas Gerais', 11, 'Para', 12, 'Paraiba', 13, 'Pernambuco', 14, 'Piau', 15, 'Rio', 16, 'Rondonia', 17, 'Roraima', 18, 'Santa Catarina', 19, 'Sao Paulo', 20, 'Sergipe', 21, 'Tocantins', 22, 23) AS \"state\", <br> &emsp;  &emsp;  &emsp;  &emsp;  &emsp; SUM(\"number\") OVER (PARTITION BY \"state\" <br> &emsp;  &emsp;  &emsp;  &emsp;  &emsp;  &emsp;  &emsp;  &emsp;  &emsp;  &emsp;  &emsp;  &emsp;  &emsp;  &emsp;  &emsp; ORDER BY \"date\" ROWS BETWEEN UNBOUNDED PRECEDING AND 0 FOLLOWING) AS \"cum_sum\" <br> &emsp;  FROM <br> &emsp;  &emsp;  (SELECT \"year\" AS \"year\", <br> &emsp;  &emsp;  &emsp;  &emsp;  &emsp;  &emsp;  \"number\" AS \"number\", <br> &emsp;  &emsp;  &emsp;  &emsp;  &emsp;  &emsp;  \"date\" AS \"date\", <br> &emsp;  &emsp;  &emsp;  &emsp;  &emsp;  &emsp;  \"month\" AS \"month\", <br> &emsp;  &emsp;  &emsp;  &emsp;  &emsp;  &emsp;  \"state\" AS \"state\", <br> &emsp;  &emsp;  &emsp;  &emsp;  &emsp;  &emsp;  0 AS \"cum_sum\" <br> &emsp;  &emsp;  &emsp; FROM public.amazon) t1) final_table"
      ],
      "text/plain": [
       "<IPython.core.display.HTML object>"
      ]
     },
     "metadata": {},
     "output_type": "display_data"
    },
    {
     "data": {
      "text/html": [
       "<div style = 'border : 1px dashed black; width : 100%'></div>"
      ],
      "text/plain": [
       "<IPython.core.display.HTML object>"
      ]
     },
     "metadata": {},
     "output_type": "display_data"
    },
    {
     "data": {
      "text/html": [
       "<table style=\"border-collapse: collapse; border: 2px solid white\"><tr style=\"{border: 1px solid white;}\"><td style=\"border-bottom: 1px solid #DDD;font-size:1.02em;background-color:#214579;color:white\"><b></b></td><td style=\"font-size:1.02em;background-color:#214579;color:white\"><b>count</b></td><td style=\"font-size:1.02em;background-color:#214579;color:white\"><b>mean</b></td><td style=\"font-size:1.02em;background-color:#214579;color:white\"><b>std</b></td><td style=\"font-size:1.02em;background-color:#214579;color:white\"><b>min</b></td><td style=\"font-size:1.02em;background-color:#214579;color:white\"><b>25%</b></td><td style=\"font-size:1.02em;background-color:#214579;color:white\"><b>50%</b></td><td style=\"font-size:1.02em;background-color:#214579;color:white\"><b>75%</b></td><td style=\"font-size:1.02em;background-color:#214579;color:white\"><b>max</b></td><td style=\"font-size:1.02em;background-color:#214579;color:white\"><b>unique</b></td></tr><tr style=\"{border: 1px solid white;}\"><td style=\"border-bottom: 1px solid #DDD;font-size:1.02em;background-color:#214579;color:white\"><b>cum_sum</b></td><td style=\"border: 1px solid white;\">6454</td><td style=\"border: 1px solid white;\">85027.7595289746</td><td style=\"border: 1px solid white;\">145749.250695705</td><td style=\"border: 1px solid white;\">12.0</td><td style=\"border: 1px solid white;\">6498.66666666667</td><td style=\"border: 1px solid white;\">28841.25</td><td style=\"border: 1px solid white;\">85335.75</td><td style=\"border: 1px solid white;\">818902.0</td><td style=\"border: 1px solid white;\">5652</td></tr><tr style=\"{border: 1px solid white;}\"><td style=\"border-bottom: 1px solid #DDD;font-size:1.02em;background-color:#214579;color:white\"><b>number</b></td><td style=\"border: 1px solid white;\">6454</td><td style=\"border: 1px solid white;\">553.687325689495</td><td style=\"border: 1px solid white;\">1592.64987447327</td><td style=\"border: 1px solid white;\">0.0</td><td style=\"border: 1px solid white;\">9.0</td><td style=\"border: 1px solid white;\">55.0</td><td style=\"border: 1px solid white;\">282.5</td><td style=\"border: 1px solid white;\">25963.0</td><td style=\"border: 1px solid white;\">1475</td></tr><tr style=\"{border: 1px solid white;}\"><td style=\"border-bottom: 1px solid #DDD;font-size:1.02em;background-color:#214579;color:white\"><b>state</b></td><td style=\"border: 1px solid white;\">6454</td><td style=\"border: 1px solid white;\">11.4057948559033</td><td style=\"border: 1px solid white;\">6.27449760565551</td><td style=\"border: 1px solid white;\">0.0</td><td style=\"border: 1px solid white;\">6.0</td><td style=\"border: 1px solid white;\">12.0</td><td style=\"border: 1px solid white;\">16.0</td><td style=\"border: 1px solid white;\">22.0</td><td style=\"border: 1px solid white;\">23</td></tr><tr style=\"{border: 1px solid white;}\"><td style=\"border-bottom: 1px solid #DDD;font-size:1.02em;background-color:#214579;color:white\"><b>year</b></td><td style=\"border: 1px solid white;\">6454</td><td style=\"border: 1px solid white;\">2007.46172916021</td><td style=\"border: 1px solid white;\">5.74665355968707</td><td style=\"border: 1px solid white;\">1998.0</td><td style=\"border: 1px solid white;\">2002.0</td><td style=\"border: 1px solid white;\">2007.0</td><td style=\"border: 1px solid white;\">2012.0</td><td style=\"border: 1px solid white;\">2017.0</td><td style=\"border: 1px solid white;\">20</td></tr></table>"
      ],
      "text/plain": [
       "<IPython.core.display.HTML object>"
      ]
     },
     "metadata": {},
     "output_type": "display_data"
    },
    {
     "data": {
      "text/plain": [
       "<object>"
      ]
     },
     "execution_count": 4,
     "metadata": {},
     "output_type": "execute_result"
    }
   ],
   "source": [
    "amazon.sql_on_off()\n",
    "amazon.describe()"
   ]
  },
  {
   "cell_type": "markdown",
   "metadata": {},
   "source": [
    "You can look at all the objects modifications with the 'info' method:"
   ]
  },
  {
   "cell_type": "code",
   "execution_count": 5,
   "metadata": {},
   "outputs": [
    {
     "name": "stdout",
     "output_type": "stream",
     "text": [
      "The vDataframe was modified many times: \n",
      " * {Thu Dec  5 20:06:25 2019} [Eval]: A new vColumn '\"cum_sum\"' was added to the vDataframe.\n",
      " * {Thu Dec  5 20:06:25 2019} [Label Encoding]: Label Encoding was applied to the vColumn '\"state\"' using the following mapping:\n",
      "\tAcre => 0\tAlagoas => 1\tAmapa => 2\tAmazonas => 3\tBahia => 4\tCeara => 5\tDistrito Federal => 6\tEspirito Santo => 7\tGoias => 8\tMaranhao => 9\tMato Grosso => 10\tMinas Gerais => 11\tPara => 12\tParaiba => 13\tPernambuco => 14\tPiau => 15\tRio => 16\tRondonia => 17\tRoraima => 18\tSanta Catarina => 19\tSao Paulo => 20\tSergipe => 21\tTocantins => 22\n"
     ]
    },
    {
     "data": {
      "text/html": [
       "<table style=\"border-collapse: collapse; border: 2px solid white\"><tr style=\"{border: 1px solid white;}\"><td style=\"border-bottom: 1px solid #DDD;font-size:1.02em;background-color:#214579;color:white\"><b></b></td><td style=\"font-size:1.02em;background-color:#214579;color:white\"><b>year</b></td><td style=\"font-size:1.02em;background-color:#214579;color:white\"><b>number</b></td><td style=\"font-size:1.02em;background-color:#214579;color:white\"><b>date</b></td><td style=\"font-size:1.02em;background-color:#214579;color:white\"><b>month</b></td><td style=\"font-size:1.02em;background-color:#214579;color:white\"><b>state</b></td><td style=\"font-size:1.02em;background-color:#214579;color:white\"><b>cum_sum</b></td></tr><tr style=\"{border: 1px solid white;}\"><td style=\"border-bottom: 1px solid #DDD;font-size:1.02em;background-color:#214579;color:white\"><b>0</b></td><td style=\"border: 1px solid white;\">1998</td><td style=\"border: 1px solid white;\">509</td><td style=\"border: 1px solid white;\">1998-01-01</td><td style=\"border: 1px solid white;\">September</td><td style=\"border: 1px solid white;\">0</td><td style=\"border: 1px solid white;\">509</td></tr><tr style=\"{border: 1px solid white;}\"><td style=\"border-bottom: 1px solid #DDD;font-size:1.02em;background-color:#214579;color:white\"><b>1</b></td><td style=\"border: 1px solid white;\">1998</td><td style=\"border: 1px solid white;\">130</td><td style=\"border: 1px solid white;\">1998-01-01</td><td style=\"border: 1px solid white;\">August</td><td style=\"border: 1px solid white;\">0</td><td style=\"border: 1px solid white;\">639</td></tr><tr style=\"{border: 1px solid white;}\"><td style=\"border-bottom: 1px solid #DDD;font-size:1.02em;background-color:#214579;color:white\"><b>2</b></td><td style=\"border: 1px solid white;\">1998</td><td style=\"border: 1px solid white;\">44</td><td style=\"border: 1px solid white;\">1998-01-01</td><td style=\"border: 1px solid white;\">October</td><td style=\"border: 1px solid white;\">0</td><td style=\"border: 1px solid white;\">683</td></tr><tr style=\"{border: 1px solid white;}\"><td style=\"border-bottom: 1px solid #DDD;font-size:1.02em;background-color:#214579;color:white\"><b>3</b></td><td style=\"border: 1px solid white;\">1998</td><td style=\"border: 1px solid white;\">37</td><td style=\"border: 1px solid white;\">1998-01-01</td><td style=\"border: 1px solid white;\">July</td><td style=\"border: 1px solid white;\">0</td><td style=\"border: 1px solid white;\">720</td></tr><tr style=\"{border: 1px solid white;}\"><td style=\"border-bottom: 1px solid #DDD;font-size:1.02em;background-color:#214579;color:white\"><b>4</b></td><td style=\"border: 1px solid white;\">1998</td><td style=\"border: 1px solid white;\">7</td><td style=\"border: 1px solid white;\">1998-01-01</td><td style=\"border: 1px solid white;\">December</td><td style=\"border: 1px solid white;\">0</td><td style=\"border: 1px solid white;\">727</td></tr><tr><td style=\"border-top: 1px solid white;background-color:#214579;color:white\"></td><td style=\"border: 1px solid white;\">...</td><td style=\"border: 1px solid white;\">...</td><td style=\"border: 1px solid white;\">...</td><td style=\"border: 1px solid white;\">...</td><td style=\"border: 1px solid white;\">...</td><td style=\"border: 1px solid white;\">...</td></tr></table>"
      ],
      "text/plain": [
       "<IPython.core.display.HTML object>"
      ]
     },
     "metadata": {},
     "output_type": "display_data"
    },
    {
     "data": {
      "text/plain": [
       "<object>  Name: amazon, Number of rows: 6454, Number of columns: 6"
      ]
     },
     "execution_count": 5,
     "metadata": {},
     "output_type": "execute_result"
    }
   ],
   "source": [
    "amazon.info()"
   ]
  },
  {
   "cell_type": "markdown",
   "metadata": {},
   "source": [
    "You can also save the Dataframe to load it later. We can for example filter the data."
   ]
  },
  {
   "cell_type": "code",
   "execution_count": 6,
   "metadata": {},
   "outputs": [
    {
     "name": "stdout",
     "output_type": "stream",
     "text": [
      "6215 elements were filtered\n"
     ]
    },
    {
     "data": {
      "text/html": [
       "<table style=\"border-collapse: collapse; border: 2px solid white\"><tr style=\"{border: 1px solid white;}\"><td style=\"border-bottom: 1px solid #DDD;font-size:1.02em;background-color:#214579;color:white\"><b></b></td><td style=\"font-size:1.02em;background-color:#214579;color:white\"><b>year</b></td><td style=\"font-size:1.02em;background-color:#214579;color:white\"><b>number</b></td><td style=\"font-size:1.02em;background-color:#214579;color:white\"><b>date</b></td><td style=\"font-size:1.02em;background-color:#214579;color:white\"><b>month</b></td><td style=\"font-size:1.02em;background-color:#214579;color:white\"><b>state</b></td><td style=\"font-size:1.02em;background-color:#214579;color:white\"><b>cum_sum</b></td></tr><tr style=\"{border: 1px solid white;}\"><td style=\"border-bottom: 1px solid #DDD;font-size:1.02em;background-color:#214579;color:white\"><b>0</b></td><td style=\"border: 1px solid white;\">1998</td><td style=\"border: 1px solid white;\">509</td><td style=\"border: 1px solid white;\">1998-01-01</td><td style=\"border: 1px solid white;\">September</td><td style=\"border: 1px solid white;\">0</td><td style=\"border: 1px solid white;\">509</td></tr><tr style=\"{border: 1px solid white;}\"><td style=\"border-bottom: 1px solid #DDD;font-size:1.02em;background-color:#214579;color:white\"><b>1</b></td><td style=\"border: 1px solid white;\">1998</td><td style=\"border: 1px solid white;\">130</td><td style=\"border: 1px solid white;\">1998-01-01</td><td style=\"border: 1px solid white;\">August</td><td style=\"border: 1px solid white;\">0</td><td style=\"border: 1px solid white;\">639</td></tr><tr style=\"{border: 1px solid white;}\"><td style=\"border-bottom: 1px solid #DDD;font-size:1.02em;background-color:#214579;color:white\"><b>2</b></td><td style=\"border: 1px solid white;\">1998</td><td style=\"border: 1px solid white;\">44</td><td style=\"border: 1px solid white;\">1998-01-01</td><td style=\"border: 1px solid white;\">October</td><td style=\"border: 1px solid white;\">0</td><td style=\"border: 1px solid white;\">683</td></tr><tr style=\"{border: 1px solid white;}\"><td style=\"border-bottom: 1px solid #DDD;font-size:1.02em;background-color:#214579;color:white\"><b>3</b></td><td style=\"border: 1px solid white;\">1998</td><td style=\"border: 1px solid white;\">37</td><td style=\"border: 1px solid white;\">1998-01-01</td><td style=\"border: 1px solid white;\">July</td><td style=\"border: 1px solid white;\">0</td><td style=\"border: 1px solid white;\">720</td></tr><tr style=\"{border: 1px solid white;}\"><td style=\"border-bottom: 1px solid #DDD;font-size:1.02em;background-color:#214579;color:white\"><b>4</b></td><td style=\"border: 1px solid white;\">1998</td><td style=\"border: 1px solid white;\">7</td><td style=\"border: 1px solid white;\">1998-01-01</td><td style=\"border: 1px solid white;\">December</td><td style=\"border: 1px solid white;\">0</td><td style=\"border: 1px solid white;\">727</td></tr><tr><td style=\"border-top: 1px solid white;background-color:#214579;color:white\"></td><td style=\"border: 1px solid white;\">...</td><td style=\"border: 1px solid white;\">...</td><td style=\"border: 1px solid white;\">...</td><td style=\"border: 1px solid white;\">...</td><td style=\"border: 1px solid white;\">...</td><td style=\"border: 1px solid white;\">...</td></tr></table>"
      ],
      "text/plain": [
       "<IPython.core.display.HTML object>"
      ]
     },
     "metadata": {},
     "output_type": "display_data"
    },
    {
     "data": {
      "text/plain": [
       "<object>  Name: amazon, Number of rows: 239, Number of columns: 6"
      ]
     },
     "execution_count": 6,
     "metadata": {},
     "output_type": "execute_result"
    }
   ],
   "source": [
    "amazon.save()\n",
    "amazon.filter(\"state = 0\")"
   ]
  },
  {
   "cell_type": "markdown",
   "metadata": {},
   "source": [
    "And finally we decided to come back to the previous saving."
   ]
  },
  {
   "cell_type": "code",
   "execution_count": 7,
   "metadata": {},
   "outputs": [
    {
     "data": {
      "text/html": [
       "<table style=\"border-collapse: collapse; border: 2px solid white\"><tr style=\"{border: 1px solid white;}\"><td style=\"border-bottom: 1px solid #DDD;font-size:1.02em;background-color:#214579;color:white\"><b></b></td><td style=\"font-size:1.02em;background-color:#214579;color:white\"><b>year</b></td><td style=\"font-size:1.02em;background-color:#214579;color:white\"><b>number</b></td><td style=\"font-size:1.02em;background-color:#214579;color:white\"><b>date</b></td><td style=\"font-size:1.02em;background-color:#214579;color:white\"><b>month</b></td><td style=\"font-size:1.02em;background-color:#214579;color:white\"><b>state</b></td><td style=\"font-size:1.02em;background-color:#214579;color:white\"><b>cum_sum</b></td></tr><tr style=\"{border: 1px solid white;}\"><td style=\"border-bottom: 1px solid #DDD;font-size:1.02em;background-color:#214579;color:white\"><b>0</b></td><td style=\"border: 1px solid white;\">1998</td><td style=\"border: 1px solid white;\">509</td><td style=\"border: 1px solid white;\">1998-01-01</td><td style=\"border: 1px solid white;\">September</td><td style=\"border: 1px solid white;\">0</td><td style=\"border: 1px solid white;\">509</td></tr><tr style=\"{border: 1px solid white;}\"><td style=\"border-bottom: 1px solid #DDD;font-size:1.02em;background-color:#214579;color:white\"><b>1</b></td><td style=\"border: 1px solid white;\">1998</td><td style=\"border: 1px solid white;\">130</td><td style=\"border: 1px solid white;\">1998-01-01</td><td style=\"border: 1px solid white;\">August</td><td style=\"border: 1px solid white;\">0</td><td style=\"border: 1px solid white;\">639</td></tr><tr style=\"{border: 1px solid white;}\"><td style=\"border-bottom: 1px solid #DDD;font-size:1.02em;background-color:#214579;color:white\"><b>2</b></td><td style=\"border: 1px solid white;\">1998</td><td style=\"border: 1px solid white;\">44</td><td style=\"border: 1px solid white;\">1998-01-01</td><td style=\"border: 1px solid white;\">October</td><td style=\"border: 1px solid white;\">0</td><td style=\"border: 1px solid white;\">683</td></tr><tr style=\"{border: 1px solid white;}\"><td style=\"border-bottom: 1px solid #DDD;font-size:1.02em;background-color:#214579;color:white\"><b>3</b></td><td style=\"border: 1px solid white;\">1998</td><td style=\"border: 1px solid white;\">37</td><td style=\"border: 1px solid white;\">1998-01-01</td><td style=\"border: 1px solid white;\">July</td><td style=\"border: 1px solid white;\">0</td><td style=\"border: 1px solid white;\">720</td></tr><tr style=\"{border: 1px solid white;}\"><td style=\"border-bottom: 1px solid #DDD;font-size:1.02em;background-color:#214579;color:white\"><b>4</b></td><td style=\"border: 1px solid white;\">1998</td><td style=\"border: 1px solid white;\">7</td><td style=\"border: 1px solid white;\">1998-01-01</td><td style=\"border: 1px solid white;\">December</td><td style=\"border: 1px solid white;\">0</td><td style=\"border: 1px solid white;\">727</td></tr><tr><td style=\"border-top: 1px solid white;background-color:#214579;color:white\"></td><td style=\"border: 1px solid white;\">...</td><td style=\"border: 1px solid white;\">...</td><td style=\"border: 1px solid white;\">...</td><td style=\"border: 1px solid white;\">...</td><td style=\"border: 1px solid white;\">...</td><td style=\"border: 1px solid white;\">...</td></tr></table>"
      ],
      "text/plain": [
       "<IPython.core.display.HTML object>"
      ]
     },
     "metadata": {},
     "output_type": "display_data"
    },
    {
     "name": "stdout",
     "output_type": "stream",
     "text": [
      "<object>  Name: amazon, Number of rows: 6454, Number of columns: 6\n"
     ]
    }
   ],
   "source": [
    "amazon = amazon.load()\n",
    "print(amazon)"
   ]
  },
  {
   "cell_type": "markdown",
   "metadata": {},
   "source": [
    "You can also save a vdf file to share it with your team or to start a session later."
   ]
  },
  {
   "cell_type": "code",
   "execution_count": 8,
   "metadata": {},
   "outputs": [
    {
     "data": {
      "text/html": [
       "<table style=\"border-collapse: collapse; border: 2px solid white\"><tr style=\"{border: 1px solid white;}\"><td style=\"border-bottom: 1px solid #DDD;font-size:1.02em;background-color:#214579;color:white\"><b></b></td><td style=\"font-size:1.02em;background-color:#214579;color:white\"><b>year</b></td><td style=\"font-size:1.02em;background-color:#214579;color:white\"><b>number</b></td><td style=\"font-size:1.02em;background-color:#214579;color:white\"><b>date</b></td><td style=\"font-size:1.02em;background-color:#214579;color:white\"><b>month</b></td><td style=\"font-size:1.02em;background-color:#214579;color:white\"><b>state</b></td><td style=\"font-size:1.02em;background-color:#214579;color:white\"><b>cum_sum</b></td></tr><tr style=\"{border: 1px solid white;}\"><td style=\"border-bottom: 1px solid #DDD;font-size:1.02em;background-color:#214579;color:white\"><b>0</b></td><td style=\"border: 1px solid white;\">1998</td><td style=\"border: 1px solid white;\">509</td><td style=\"border: 1px solid white;\">1998-01-01</td><td style=\"border: 1px solid white;\">September</td><td style=\"border: 1px solid white;\">0</td><td style=\"border: 1px solid white;\">509</td></tr><tr style=\"{border: 1px solid white;}\"><td style=\"border-bottom: 1px solid #DDD;font-size:1.02em;background-color:#214579;color:white\"><b>1</b></td><td style=\"border: 1px solid white;\">1998</td><td style=\"border: 1px solid white;\">130</td><td style=\"border: 1px solid white;\">1998-01-01</td><td style=\"border: 1px solid white;\">August</td><td style=\"border: 1px solid white;\">0</td><td style=\"border: 1px solid white;\">639</td></tr><tr style=\"{border: 1px solid white;}\"><td style=\"border-bottom: 1px solid #DDD;font-size:1.02em;background-color:#214579;color:white\"><b>2</b></td><td style=\"border: 1px solid white;\">1998</td><td style=\"border: 1px solid white;\">44</td><td style=\"border: 1px solid white;\">1998-01-01</td><td style=\"border: 1px solid white;\">October</td><td style=\"border: 1px solid white;\">0</td><td style=\"border: 1px solid white;\">683</td></tr><tr style=\"{border: 1px solid white;}\"><td style=\"border-bottom: 1px solid #DDD;font-size:1.02em;background-color:#214579;color:white\"><b>3</b></td><td style=\"border: 1px solid white;\">1998</td><td style=\"border: 1px solid white;\">37</td><td style=\"border: 1px solid white;\">1998-01-01</td><td style=\"border: 1px solid white;\">July</td><td style=\"border: 1px solid white;\">0</td><td style=\"border: 1px solid white;\">720</td></tr><tr style=\"{border: 1px solid white;}\"><td style=\"border-bottom: 1px solid #DDD;font-size:1.02em;background-color:#214579;color:white\"><b>4</b></td><td style=\"border: 1px solid white;\">1998</td><td style=\"border: 1px solid white;\">7</td><td style=\"border: 1px solid white;\">1998-01-01</td><td style=\"border: 1px solid white;\">December</td><td style=\"border: 1px solid white;\">0</td><td style=\"border: 1px solid white;\">727</td></tr><tr><td style=\"border-top: 1px solid white;background-color:#214579;color:white\"></td><td style=\"border: 1px solid white;\">...</td><td style=\"border: 1px solid white;\">...</td><td style=\"border: 1px solid white;\">...</td><td style=\"border: 1px solid white;\">...</td><td style=\"border: 1px solid white;\">...</td><td style=\"border: 1px solid white;\">...</td></tr></table>"
      ],
      "text/plain": [
       "<IPython.core.display.HTML object>"
      ]
     },
     "metadata": {},
     "output_type": "display_data"
    },
    {
     "data": {
      "text/plain": [
       "<object>  Name: amazon, Number of rows: 6454, Number of columns: 6"
      ]
     },
     "execution_count": 8,
     "metadata": {},
     "output_type": "execute_result"
    }
   ],
   "source": [
    "amazon.to_vdf(\"my_vdf\")"
   ]
  },
  {
   "cell_type": "code",
   "execution_count": 9,
   "metadata": {},
   "outputs": [
    {
     "data": {
      "text/html": [
       "<table style=\"border-collapse: collapse; border: 2px solid white\"><tr style=\"{border: 1px solid white;}\"><td style=\"border-bottom: 1px solid #DDD;font-size:1.02em;background-color:#214579;color:white\"><b></b></td><td style=\"font-size:1.02em;background-color:#214579;color:white\"><b>year</b></td><td style=\"font-size:1.02em;background-color:#214579;color:white\"><b>number</b></td><td style=\"font-size:1.02em;background-color:#214579;color:white\"><b>date</b></td><td style=\"font-size:1.02em;background-color:#214579;color:white\"><b>month</b></td><td style=\"font-size:1.02em;background-color:#214579;color:white\"><b>state</b></td><td style=\"font-size:1.02em;background-color:#214579;color:white\"><b>cum_sum</b></td></tr><tr style=\"{border: 1px solid white;}\"><td style=\"border-bottom: 1px solid #DDD;font-size:1.02em;background-color:#214579;color:white\"><b>0</b></td><td style=\"border: 1px solid white;\">1998</td><td style=\"border: 1px solid white;\">509</td><td style=\"border: 1px solid white;\">1998-01-01</td><td style=\"border: 1px solid white;\">September</td><td style=\"border: 1px solid white;\">0</td><td style=\"border: 1px solid white;\">509</td></tr><tr style=\"{border: 1px solid white;}\"><td style=\"border-bottom: 1px solid #DDD;font-size:1.02em;background-color:#214579;color:white\"><b>1</b></td><td style=\"border: 1px solid white;\">1998</td><td style=\"border: 1px solid white;\">130</td><td style=\"border: 1px solid white;\">1998-01-01</td><td style=\"border: 1px solid white;\">August</td><td style=\"border: 1px solid white;\">0</td><td style=\"border: 1px solid white;\">639</td></tr><tr style=\"{border: 1px solid white;}\"><td style=\"border-bottom: 1px solid #DDD;font-size:1.02em;background-color:#214579;color:white\"><b>2</b></td><td style=\"border: 1px solid white;\">1998</td><td style=\"border: 1px solid white;\">44</td><td style=\"border: 1px solid white;\">1998-01-01</td><td style=\"border: 1px solid white;\">October</td><td style=\"border: 1px solid white;\">0</td><td style=\"border: 1px solid white;\">683</td></tr><tr style=\"{border: 1px solid white;}\"><td style=\"border-bottom: 1px solid #DDD;font-size:1.02em;background-color:#214579;color:white\"><b>3</b></td><td style=\"border: 1px solid white;\">1998</td><td style=\"border: 1px solid white;\">37</td><td style=\"border: 1px solid white;\">1998-01-01</td><td style=\"border: 1px solid white;\">July</td><td style=\"border: 1px solid white;\">0</td><td style=\"border: 1px solid white;\">720</td></tr><tr style=\"{border: 1px solid white;}\"><td style=\"border-bottom: 1px solid #DDD;font-size:1.02em;background-color:#214579;color:white\"><b>4</b></td><td style=\"border: 1px solid white;\">1998</td><td style=\"border: 1px solid white;\">7</td><td style=\"border: 1px solid white;\">1998-01-01</td><td style=\"border: 1px solid white;\">December</td><td style=\"border: 1px solid white;\">0</td><td style=\"border: 1px solid white;\">727</td></tr><tr><td style=\"border-top: 1px solid white;background-color:#214579;color:white\"></td><td style=\"border: 1px solid white;\">...</td><td style=\"border: 1px solid white;\">...</td><td style=\"border: 1px solid white;\">...</td><td style=\"border: 1px solid white;\">...</td><td style=\"border: 1px solid white;\">...</td><td style=\"border: 1px solid white;\">...</td></tr></table>"
      ],
      "text/plain": [
       "<IPython.core.display.HTML object>"
      ]
     },
     "metadata": {},
     "output_type": "display_data"
    },
    {
     "name": "stdout",
     "output_type": "stream",
     "text": [
      "<object>  Name: amazon, Number of rows: 6454, Number of columns: 6\n"
     ]
    }
   ],
   "source": [
    "from vertica_ml_python import read_vdf\n",
    "amazon = read_vdf(\"my_vdf.vdf\", cur)\n",
    "print(amazon)"
   ]
  }
 ],
 "metadata": {
  "kernelspec": {
   "display_name": "Python 3",
   "language": "python",
   "name": "python3"
  },
  "language_info": {
   "codemirror_mode": {
    "name": "ipython",
    "version": 3
   },
   "file_extension": ".py",
   "mimetype": "text/x-python",
   "name": "python",
   "nbconvert_exporter": "python",
   "pygments_lexer": "ipython3",
   "version": "3.6.3"
  }
 },
 "nbformat": 4,
 "nbformat_minor": 2
}
