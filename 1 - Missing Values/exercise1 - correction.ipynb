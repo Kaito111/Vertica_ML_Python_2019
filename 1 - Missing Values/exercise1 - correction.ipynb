{
 "cells": [
  {
   "cell_type": "markdown",
   "metadata": {},
   "source": [
    "<p align=\"center\">\n",
    "<img src='../../img/VerticaMLPython.png' width=\"180px\">\n",
    "</p>\n",
    "\n",
    "# Vertica ML Python Exercise 1\n",
    "\n",
    "During this exercice, we will see:\n",
    "<ul>\n",
    "    <li> how to identify missing values\n",
    "    <li> how to fill missing values\n",
    "    <li> how to drop missing values\n",
    "</ul>\n",
    "## Initialization\n",
    "\n",
    "Let's create a cursor using the vertica_cursor function"
   ]
  },
  {
   "cell_type": "code",
   "execution_count": 1,
   "metadata": {
    "scrolled": true
   },
   "outputs": [],
   "source": [
    "from vertica_ml_python.utilities import vertica_cursor\n",
    "cur = vertica_cursor(\"VerticaDSN\")"
   ]
  },
  {
   "cell_type": "markdown",
   "metadata": {},
   "source": [
    "During this study, we will work with the titanic dataset. This dataset is directly available in the VERTICA ML PYTHON API. You can store it in your Vertica DB using the load_titanic function."
   ]
  },
  {
   "cell_type": "code",
   "execution_count": 2,
   "metadata": {},
   "outputs": [],
   "source": [
    "from vertica_ml_python.learn.datasets import load_titanic\n",
    "titanic = load_titanic(cur)"
   ]
  },
  {
   "cell_type": "markdown",
   "metadata": {},
   "source": [
    "The titanic dataset includes many information around the passengers who embarked in the famous boat. We have information on their age, their gender, their tickets... We will try to understand the different columns missing values."
   ]
  },
  {
   "cell_type": "markdown",
   "metadata": {},
   "source": [
    "## Handling Missing Values with an example\n",
    "\n",
    "Let's explore the data by displaying descriptive statistics of all the columns."
   ]
  },
  {
   "cell_type": "code",
   "execution_count": 3,
   "metadata": {},
   "outputs": [
    {
     "data": {
      "text/html": [
       "<table style=\"border-collapse: collapse; border: 2px solid white\"><tr style=\"{border: 1px solid white;}\"><td style=\"border-bottom: 1px solid #DDD;font-size:1.02em;background-color:#214579;color:white\"><b></b></td><td style=\"font-size:1.02em;background-color:#214579;color:white\"><b>dtype</b></td><td style=\"font-size:1.02em;background-color:#214579;color:white\"><b>unique</b></td><td style=\"font-size:1.02em;background-color:#214579;color:white\"><b>count</b></td><td style=\"font-size:1.02em;background-color:#214579;color:white\"><b>top</b></td><td style=\"font-size:1.02em;background-color:#214579;color:white\"><b>top_percent</b></td></tr><tr style=\"{border: 1px solid white;}\"><td style=\"border-bottom: 1px solid #DDD;font-size:1.02em;background-color:#214579;color:white\"><b>\"age\"</b></td><td style=\"border: 1px solid white;\">numeric(6,3)</td><td style=\"border: 1px solid white;\">96</td><td style=\"border: 1px solid white;\">997</td><td style=\"border: 1px solid white;\">24.000</td><td style=\"border: 1px solid white;\">4.413</td></tr><tr style=\"{border: 1px solid white;}\"><td style=\"border-bottom: 1px solid #DDD;font-size:1.02em;background-color:#214579;color:white\"><b>\"body\"</b></td><td style=\"border: 1px solid white;\">int</td><td style=\"border: 1px solid white;\">118</td><td style=\"border: 1px solid white;\">118</td><td style=\"border: 1px solid white;\">1</td><td style=\"border: 1px solid white;\">0.847</td></tr><tr style=\"{border: 1px solid white;}\"><td style=\"border-bottom: 1px solid #DDD;font-size:1.02em;background-color:#214579;color:white\"><b>\"survived\"</b></td><td style=\"border: 1px solid white;\">int</td><td style=\"border: 1px solid white;\">2</td><td style=\"border: 1px solid white;\">1234</td><td style=\"border: 1px solid white;\">0</td><td style=\"border: 1px solid white;\">63.533</td></tr><tr style=\"{border: 1px solid white;}\"><td style=\"border-bottom: 1px solid #DDD;font-size:1.02em;background-color:#214579;color:white\"><b>\"ticket\"</b></td><td style=\"border: 1px solid white;\">varchar(36)</td><td style=\"border: 1px solid white;\">887</td><td style=\"border: 1px solid white;\">1234</td><td style=\"border: 1px solid white;\">CA. 2343</td><td style=\"border: 1px solid white;\">0.81</td></tr><tr style=\"{border: 1px solid white;}\"><td style=\"border-bottom: 1px solid #DDD;font-size:1.02em;background-color:#214579;color:white\"><b>\"home.dest\"</b></td><td style=\"border: 1px solid white;\">varchar(100)</td><td style=\"border: 1px solid white;\">359</td><td style=\"border: 1px solid white;\">706</td><td style=\"border: 1px solid white;\">New York, NY</td><td style=\"border: 1px solid white;\">8.782</td></tr><tr style=\"{border: 1px solid white;}\"><td style=\"border-bottom: 1px solid #DDD;font-size:1.02em;background-color:#214579;color:white\"><b>\"cabin\"</b></td><td style=\"border: 1px solid white;\">varchar(30)</td><td style=\"border: 1px solid white;\">182</td><td style=\"border: 1px solid white;\">286</td><td style=\"border: 1px solid white;\">C23 C25 C27</td><td style=\"border: 1px solid white;\">2.098</td></tr><tr style=\"{border: 1px solid white;}\"><td style=\"border-bottom: 1px solid #DDD;font-size:1.02em;background-color:#214579;color:white\"><b>\"sex\"</b></td><td style=\"border: 1px solid white;\">varchar(20)</td><td style=\"border: 1px solid white;\">2</td><td style=\"border: 1px solid white;\">1234</td><td style=\"border: 1px solid white;\">male</td><td style=\"border: 1px solid white;\">65.964</td></tr><tr style=\"{border: 1px solid white;}\"><td style=\"border-bottom: 1px solid #DDD;font-size:1.02em;background-color:#214579;color:white\"><b>\"pclass\"</b></td><td style=\"border: 1px solid white;\">int</td><td style=\"border: 1px solid white;\">3</td><td style=\"border: 1px solid white;\">1234</td><td style=\"border: 1px solid white;\">3</td><td style=\"border: 1px solid white;\">53.728</td></tr><tr style=\"{border: 1px solid white;}\"><td style=\"border-bottom: 1px solid #DDD;font-size:1.02em;background-color:#214579;color:white\"><b>\"embarked\"</b></td><td style=\"border: 1px solid white;\">varchar(20)</td><td style=\"border: 1px solid white;\">3</td><td style=\"border: 1px solid white;\">1232</td><td style=\"border: 1px solid white;\">S</td><td style=\"border: 1px solid white;\">70.86</td></tr><tr style=\"{border: 1px solid white;}\"><td style=\"border-bottom: 1px solid #DDD;font-size:1.02em;background-color:#214579;color:white\"><b>\"parch\"</b></td><td style=\"border: 1px solid white;\">int</td><td style=\"border: 1px solid white;\">8</td><td style=\"border: 1px solid white;\">1234</td><td style=\"border: 1px solid white;\">0</td><td style=\"border: 1px solid white;\">76.904</td></tr><tr style=\"{border: 1px solid white;}\"><td style=\"border-bottom: 1px solid #DDD;font-size:1.02em;background-color:#214579;color:white\"><b>\"fare\"</b></td><td style=\"border: 1px solid white;\">numeric(10,5)</td><td style=\"border: 1px solid white;\">277</td><td style=\"border: 1px solid white;\">1233</td><td style=\"border: 1px solid white;\">8.05000</td><td style=\"border: 1px solid white;\">4.704</td></tr><tr style=\"{border: 1px solid white;}\"><td style=\"border-bottom: 1px solid #DDD;font-size:1.02em;background-color:#214579;color:white\"><b>\"name\"</b></td><td style=\"border: 1px solid white;\">varchar(164)</td><td style=\"border: 1px solid white;\">1232</td><td style=\"border: 1px solid white;\">1234</td><td style=\"border: 1px solid white;\">Connolly, Miss. Kate</td><td style=\"border: 1px solid white;\">0.162</td></tr><tr style=\"{border: 1px solid white;}\"><td style=\"border-bottom: 1px solid #DDD;font-size:1.02em;background-color:#214579;color:white\"><b>\"boat\"</b></td><td style=\"border: 1px solid white;\">varchar(100)</td><td style=\"border: 1px solid white;\">26</td><td style=\"border: 1px solid white;\">439</td><td style=\"border: 1px solid white;\">13</td><td style=\"border: 1px solid white;\">8.428</td></tr><tr style=\"{border: 1px solid white;}\"><td style=\"border-bottom: 1px solid #DDD;font-size:1.02em;background-color:#214579;color:white\"><b>\"sibsp\"</b></td><td style=\"border: 1px solid white;\">int</td><td style=\"border: 1px solid white;\">7</td><td style=\"border: 1px solid white;\">1234</td><td style=\"border: 1px solid white;\">0</td><td style=\"border: 1px solid white;\">67.747</td></tr></table>"
      ],
      "text/plain": [
       "<IPython.core.display.HTML object>"
      ]
     },
     "metadata": {},
     "output_type": "display_data"
    },
    {
     "data": {
      "text/plain": [
       "<object>"
      ]
     },
     "execution_count": 3,
     "metadata": {},
     "output_type": "execute_result"
    }
   ],
   "source": [
    "titanic.describe(method = \"categorical\")"
   ]
  },
  {
   "cell_type": "markdown",
   "metadata": {},
   "source": [
    "<b>Question 1: </b>Compute all the columns missing values using the count method. Define for each variable, each type of missing values we are facing."
   ]
  },
  {
   "cell_type": "code",
   "execution_count": 4,
   "metadata": {},
   "outputs": [
    {
     "data": {
      "text/html": [
       "<table style=\"border-collapse: collapse; border: 2px solid white\"><tr style=\"{border: 1px solid white;}\"><td style=\"border-bottom: 1px solid #DDD;font-size:1.02em;background-color:#214579;color:white\"><b></b></td><td style=\"font-size:1.02em;background-color:#214579;color:white\"><b>count</b></td><td style=\"font-size:1.02em;background-color:#214579;color:white\"><b>percent</b></td></tr><tr style=\"{border: 1px solid white;}\"><td style=\"border-bottom: 1px solid #DDD;font-size:1.02em;background-color:#214579;color:white\"><b>\"age\"</b></td><td style=\"border: 1px solid white;\">997.0</td><td style=\"border: 1px solid white;\">80.794</td></tr><tr style=\"{border: 1px solid white;}\"><td style=\"border-bottom: 1px solid #DDD;font-size:1.02em;background-color:#214579;color:white\"><b>\"body\"</b></td><td style=\"border: 1px solid white;\">118.0</td><td style=\"border: 1px solid white;\">9.562</td></tr><tr style=\"{border: 1px solid white;}\"><td style=\"border-bottom: 1px solid #DDD;font-size:1.02em;background-color:#214579;color:white\"><b>\"survived\"</b></td><td style=\"border: 1px solid white;\">1234.0</td><td style=\"border: 1px solid white;\">100.0</td></tr><tr style=\"{border: 1px solid white;}\"><td style=\"border-bottom: 1px solid #DDD;font-size:1.02em;background-color:#214579;color:white\"><b>\"ticket\"</b></td><td style=\"border: 1px solid white;\">1234.0</td><td style=\"border: 1px solid white;\">100.0</td></tr><tr style=\"{border: 1px solid white;}\"><td style=\"border-bottom: 1px solid #DDD;font-size:1.02em;background-color:#214579;color:white\"><b>\"home.dest\"</b></td><td style=\"border: 1px solid white;\">706.0</td><td style=\"border: 1px solid white;\">57.212</td></tr><tr style=\"{border: 1px solid white;}\"><td style=\"border-bottom: 1px solid #DDD;font-size:1.02em;background-color:#214579;color:white\"><b>\"cabin\"</b></td><td style=\"border: 1px solid white;\">286.0</td><td style=\"border: 1px solid white;\">23.177</td></tr><tr style=\"{border: 1px solid white;}\"><td style=\"border-bottom: 1px solid #DDD;font-size:1.02em;background-color:#214579;color:white\"><b>\"sex\"</b></td><td style=\"border: 1px solid white;\">1234.0</td><td style=\"border: 1px solid white;\">100.0</td></tr><tr style=\"{border: 1px solid white;}\"><td style=\"border-bottom: 1px solid #DDD;font-size:1.02em;background-color:#214579;color:white\"><b>\"pclass\"</b></td><td style=\"border: 1px solid white;\">1234.0</td><td style=\"border: 1px solid white;\">100.0</td></tr><tr style=\"{border: 1px solid white;}\"><td style=\"border-bottom: 1px solid #DDD;font-size:1.02em;background-color:#214579;color:white\"><b>\"embarked\"</b></td><td style=\"border: 1px solid white;\">1232.0</td><td style=\"border: 1px solid white;\">99.838</td></tr><tr style=\"{border: 1px solid white;}\"><td style=\"border-bottom: 1px solid #DDD;font-size:1.02em;background-color:#214579;color:white\"><b>\"parch\"</b></td><td style=\"border: 1px solid white;\">1234.0</td><td style=\"border: 1px solid white;\">100.0</td></tr><tr style=\"{border: 1px solid white;}\"><td style=\"border-bottom: 1px solid #DDD;font-size:1.02em;background-color:#214579;color:white\"><b>\"fare\"</b></td><td style=\"border: 1px solid white;\">1233.0</td><td style=\"border: 1px solid white;\">99.919</td></tr><tr style=\"{border: 1px solid white;}\"><td style=\"border-bottom: 1px solid #DDD;font-size:1.02em;background-color:#214579;color:white\"><b>\"name\"</b></td><td style=\"border: 1px solid white;\">1234.0</td><td style=\"border: 1px solid white;\">100.0</td></tr><tr style=\"{border: 1px solid white;}\"><td style=\"border-bottom: 1px solid #DDD;font-size:1.02em;background-color:#214579;color:white\"><b>\"boat\"</b></td><td style=\"border: 1px solid white;\">439.0</td><td style=\"border: 1px solid white;\">35.575</td></tr><tr style=\"{border: 1px solid white;}\"><td style=\"border-bottom: 1px solid #DDD;font-size:1.02em;background-color:#214579;color:white\"><b>\"sibsp\"</b></td><td style=\"border: 1px solid white;\">1234.0</td><td style=\"border: 1px solid white;\">100.0</td></tr></table>"
      ],
      "text/plain": [
       "<IPython.core.display.HTML object>"
      ]
     },
     "metadata": {},
     "output_type": "display_data"
    },
    {
     "data": {
      "text/plain": [
       "<object>"
      ]
     },
     "execution_count": 4,
     "metadata": {},
     "output_type": "execute_result"
    }
   ],
   "source": [
    "titanic.count()"
   ]
  },
  {
   "cell_type": "markdown",
   "metadata": {},
   "source": [
    "<p style=\"color:red\">\n",
    "        <b>age: </b> MCAR: there is no reason of the missingness <br>\n",
    "        <b>body: </b> MCAR: there is no reason of the missingness<br>\n",
    "        <b>home.dest: </b> MCAR: there is no reason of the missingness<br>\n",
    "        <b>cabin: </b> MAR: the values are perhaps missing because the families are grouped together in the same ticket. It means that with some investigation, we could fill this variable.<br>\n",
    "        <b>embarked: </b> MCAR: there is no reason of the missingness<br>\n",
    "        <b>fare: </b> MCAR: there is no reason of the missingness<br>\n",
    "        <b>boat: </b> MNAR: people having no lifeboat are represented by missing elements <br>\n",
    "</p>"
   ]
  },
  {
   "cell_type": "markdown",
   "metadata": {},
   "source": [
    "<b>Question 2: </b>By using the 'dropna' method, drop the elements having 1 or 2 missing elements."
   ]
  },
  {
   "cell_type": "code",
   "execution_count": 5,
   "metadata": {},
   "outputs": [
    {
     "name": "stdout",
     "output_type": "stream",
     "text": [
      "1 element was dropped\n",
      "2 elements were dropped\n"
     ]
    },
    {
     "data": {
      "text/html": [
       "<table style=\"border-collapse: collapse; border: 2px solid white\"><tr style=\"{border: 1px solid white;}\"><td style=\"border-bottom: 1px solid #DDD;font-size:1.02em;background-color:#214579;color:white\"><b></b></td><td style=\"font-size:1.02em;background-color:#214579;color:white\"><b>age</b></td><td style=\"font-size:1.02em;background-color:#214579;color:white\"><b>body</b></td><td style=\"font-size:1.02em;background-color:#214579;color:white\"><b>survived</b></td><td style=\"font-size:1.02em;background-color:#214579;color:white\"><b>ticket</b></td><td style=\"font-size:1.02em;background-color:#214579;color:white\"><b>home.dest</b></td><td style=\"font-size:1.02em;background-color:#214579;color:white\"><b>cabin</b></td><td style=\"font-size:1.02em;background-color:#214579;color:white\"><b>sex</b></td><td style=\"font-size:1.02em;background-color:#214579;color:white\"><b>pclass</b></td><td style=\"font-size:1.02em;background-color:#214579;color:white\"><b>embarked</b></td><td style=\"font-size:1.02em;background-color:#214579;color:white\"><b>parch</b></td><td style=\"font-size:1.02em;background-color:#214579;color:white\"><b>fare</b></td><td style=\"font-size:1.02em;background-color:#214579;color:white\"><b>name</b></td><td style=\"font-size:1.02em;background-color:#214579;color:white\"><b>boat</b></td><td style=\"font-size:1.02em;background-color:#214579;color:white\"><b>sibsp</b></td></tr><tr style=\"{border: 1px solid white;}\"><td style=\"border-bottom: 1px solid #DDD;font-size:1.02em;background-color:#214579;color:white\"><b>0</b></td><td style=\"border: 1px solid white;\">2.000</td><td style=\"border: 1px solid white;\">None</td><td style=\"border: 1px solid white;\">0</td><td style=\"border: 1px solid white;\">113781</td><td style=\"border: 1px solid white;\">Montreal, PQ / Chesterville, ON</td><td style=\"border: 1px solid white;\">C22 C26</td><td style=\"border: 1px solid white;\">female</td><td style=\"border: 1px solid white;\">1</td><td style=\"border: 1px solid white;\">S</td><td style=\"border: 1px solid white;\">2</td><td style=\"border: 1px solid white;\">151.55000</td><td style=\"border: 1px solid white;\">Allison, Miss. Helen Loraine</td><td style=\"border: 1px solid white;\">None</td><td style=\"border: 1px solid white;\">1</td></tr><tr style=\"{border: 1px solid white;}\"><td style=\"border-bottom: 1px solid #DDD;font-size:1.02em;background-color:#214579;color:white\"><b>1</b></td><td style=\"border: 1px solid white;\">30.000</td><td style=\"border: 1px solid white;\">135</td><td style=\"border: 1px solid white;\">0</td><td style=\"border: 1px solid white;\">113781</td><td style=\"border: 1px solid white;\">Montreal, PQ / Chesterville, ON</td><td style=\"border: 1px solid white;\">C22 C26</td><td style=\"border: 1px solid white;\">male</td><td style=\"border: 1px solid white;\">1</td><td style=\"border: 1px solid white;\">S</td><td style=\"border: 1px solid white;\">2</td><td style=\"border: 1px solid white;\">151.55000</td><td style=\"border: 1px solid white;\">Allison, Mr. Hudson Joshua Creighton</td><td style=\"border: 1px solid white;\">None</td><td style=\"border: 1px solid white;\">1</td></tr><tr style=\"{border: 1px solid white;}\"><td style=\"border-bottom: 1px solid #DDD;font-size:1.02em;background-color:#214579;color:white\"><b>2</b></td><td style=\"border: 1px solid white;\">25.000</td><td style=\"border: 1px solid white;\">None</td><td style=\"border: 1px solid white;\">0</td><td style=\"border: 1px solid white;\">113781</td><td style=\"border: 1px solid white;\">Montreal, PQ / Chesterville, ON</td><td style=\"border: 1px solid white;\">C22 C26</td><td style=\"border: 1px solid white;\">female</td><td style=\"border: 1px solid white;\">1</td><td style=\"border: 1px solid white;\">S</td><td style=\"border: 1px solid white;\">2</td><td style=\"border: 1px solid white;\">151.55000</td><td style=\"border: 1px solid white;\">Allison, Mrs. Hudson J C (Bessie Waldo Daniels)</td><td style=\"border: 1px solid white;\">None</td><td style=\"border: 1px solid white;\">1</td></tr><tr style=\"{border: 1px solid white;}\"><td style=\"border-bottom: 1px solid #DDD;font-size:1.02em;background-color:#214579;color:white\"><b>3</b></td><td style=\"border: 1px solid white;\">39.000</td><td style=\"border: 1px solid white;\">None</td><td style=\"border: 1px solid white;\">0</td><td style=\"border: 1px solid white;\">112050</td><td style=\"border: 1px solid white;\">Belfast, NI</td><td style=\"border: 1px solid white;\">A36</td><td style=\"border: 1px solid white;\">male</td><td style=\"border: 1px solid white;\">1</td><td style=\"border: 1px solid white;\">S</td><td style=\"border: 1px solid white;\">0</td><td style=\"border: 1px solid white;\">0.00000</td><td style=\"border: 1px solid white;\">Andrews, Mr. Thomas Jr</td><td style=\"border: 1px solid white;\">None</td><td style=\"border: 1px solid white;\">0</td></tr><tr style=\"{border: 1px solid white;}\"><td style=\"border-bottom: 1px solid #DDD;font-size:1.02em;background-color:#214579;color:white\"><b>4</b></td><td style=\"border: 1px solid white;\">71.000</td><td style=\"border: 1px solid white;\">22</td><td style=\"border: 1px solid white;\">0</td><td style=\"border: 1px solid white;\">PC 17609</td><td style=\"border: 1px solid white;\">Montevideo, Uruguay</td><td style=\"border: 1px solid white;\">None</td><td style=\"border: 1px solid white;\">male</td><td style=\"border: 1px solid white;\">1</td><td style=\"border: 1px solid white;\">C</td><td style=\"border: 1px solid white;\">0</td><td style=\"border: 1px solid white;\">49.50420</td><td style=\"border: 1px solid white;\">Artagaveytia, Mr. Ramon</td><td style=\"border: 1px solid white;\">None</td><td style=\"border: 1px solid white;\">0</td></tr><tr><td style=\"border-top: 1px solid white;background-color:#214579;color:white\"></td><td style=\"border: 1px solid white;\">...</td><td style=\"border: 1px solid white;\">...</td><td style=\"border: 1px solid white;\">...</td><td style=\"border: 1px solid white;\">...</td><td style=\"border: 1px solid white;\">...</td><td style=\"border: 1px solid white;\">...</td><td style=\"border: 1px solid white;\">...</td><td style=\"border: 1px solid white;\">...</td><td style=\"border: 1px solid white;\">...</td><td style=\"border: 1px solid white;\">...</td><td style=\"border: 1px solid white;\">...</td><td style=\"border: 1px solid white;\">...</td><td style=\"border: 1px solid white;\">...</td><td style=\"border: 1px solid white;\">...</td></tr></table>"
      ],
      "text/plain": [
       "<IPython.core.display.HTML object>"
      ]
     },
     "metadata": {},
     "output_type": "display_data"
    },
    {
     "data": {
      "text/plain": [
       "<object>  Name: titanic, Number of rows: 1231, Number of columns: 14"
      ]
     },
     "execution_count": 5,
     "metadata": {},
     "output_type": "execute_result"
    }
   ],
   "source": [
    "titanic[\"fare\"].dropna()\n",
    "titanic[\"embarked\"].dropna()"
   ]
  },
  {
   "cell_type": "markdown",
   "metadata": {},
   "source": [
    "<b>Question 3: </b>The feature 'boat' has many MNAR missing values. Indeed if someone paid for a lifeboat, he/she will get a lifeboat number otherwise this feature will be empty. By using the 'fillna' method with the correct parameters, change the variable boat by returning 1 if the passenger paid for a lifeboat and 0 otherwise."
   ]
  },
  {
   "cell_type": "code",
   "execution_count": 6,
   "metadata": {},
   "outputs": [
    {
     "name": "stdout",
     "output_type": "stream",
     "text": [
      "794 elements were filled\n"
     ]
    },
    {
     "data": {
      "text/html": [
       "<table style=\"border-collapse: collapse; border: 2px solid white\"><tr style=\"{border: 1px solid white;}\"><td style=\"border-bottom: 1px solid #DDD;font-size:1.02em;background-color:#214579;color:white\"><b></b></td><td style=\"font-size:1.02em;background-color:#214579;color:white\"><b>age</b></td><td style=\"font-size:1.02em;background-color:#214579;color:white\"><b>body</b></td><td style=\"font-size:1.02em;background-color:#214579;color:white\"><b>survived</b></td><td style=\"font-size:1.02em;background-color:#214579;color:white\"><b>ticket</b></td><td style=\"font-size:1.02em;background-color:#214579;color:white\"><b>home.dest</b></td><td style=\"font-size:1.02em;background-color:#214579;color:white\"><b>cabin</b></td><td style=\"font-size:1.02em;background-color:#214579;color:white\"><b>sex</b></td><td style=\"font-size:1.02em;background-color:#214579;color:white\"><b>pclass</b></td><td style=\"font-size:1.02em;background-color:#214579;color:white\"><b>embarked</b></td><td style=\"font-size:1.02em;background-color:#214579;color:white\"><b>parch</b></td><td style=\"font-size:1.02em;background-color:#214579;color:white\"><b>fare</b></td><td style=\"font-size:1.02em;background-color:#214579;color:white\"><b>name</b></td><td style=\"font-size:1.02em;background-color:#214579;color:white\"><b>boat</b></td><td style=\"font-size:1.02em;background-color:#214579;color:white\"><b>sibsp</b></td></tr><tr style=\"{border: 1px solid white;}\"><td style=\"border-bottom: 1px solid #DDD;font-size:1.02em;background-color:#214579;color:white\"><b>0</b></td><td style=\"border: 1px solid white;\">2.000</td><td style=\"border: 1px solid white;\">None</td><td style=\"border: 1px solid white;\">0</td><td style=\"border: 1px solid white;\">113781</td><td style=\"border: 1px solid white;\">Montreal, PQ / Chesterville, ON</td><td style=\"border: 1px solid white;\">C22 C26</td><td style=\"border: 1px solid white;\">female</td><td style=\"border: 1px solid white;\">1</td><td style=\"border: 1px solid white;\">S</td><td style=\"border: 1px solid white;\">2</td><td style=\"border: 1px solid white;\">151.55000</td><td style=\"border: 1px solid white;\">Allison, Miss. Helen Loraine</td><td style=\"border: 1px solid white;\">0</td><td style=\"border: 1px solid white;\">1</td></tr><tr style=\"{border: 1px solid white;}\"><td style=\"border-bottom: 1px solid #DDD;font-size:1.02em;background-color:#214579;color:white\"><b>1</b></td><td style=\"border: 1px solid white;\">30.000</td><td style=\"border: 1px solid white;\">135</td><td style=\"border: 1px solid white;\">0</td><td style=\"border: 1px solid white;\">113781</td><td style=\"border: 1px solid white;\">Montreal, PQ / Chesterville, ON</td><td style=\"border: 1px solid white;\">C22 C26</td><td style=\"border: 1px solid white;\">male</td><td style=\"border: 1px solid white;\">1</td><td style=\"border: 1px solid white;\">S</td><td style=\"border: 1px solid white;\">2</td><td style=\"border: 1px solid white;\">151.55000</td><td style=\"border: 1px solid white;\">Allison, Mr. Hudson Joshua Creighton</td><td style=\"border: 1px solid white;\">0</td><td style=\"border: 1px solid white;\">1</td></tr><tr style=\"{border: 1px solid white;}\"><td style=\"border-bottom: 1px solid #DDD;font-size:1.02em;background-color:#214579;color:white\"><b>2</b></td><td style=\"border: 1px solid white;\">25.000</td><td style=\"border: 1px solid white;\">None</td><td style=\"border: 1px solid white;\">0</td><td style=\"border: 1px solid white;\">113781</td><td style=\"border: 1px solid white;\">Montreal, PQ / Chesterville, ON</td><td style=\"border: 1px solid white;\">C22 C26</td><td style=\"border: 1px solid white;\">female</td><td style=\"border: 1px solid white;\">1</td><td style=\"border: 1px solid white;\">S</td><td style=\"border: 1px solid white;\">2</td><td style=\"border: 1px solid white;\">151.55000</td><td style=\"border: 1px solid white;\">Allison, Mrs. Hudson J C (Bessie Waldo Daniels)</td><td style=\"border: 1px solid white;\">0</td><td style=\"border: 1px solid white;\">1</td></tr><tr style=\"{border: 1px solid white;}\"><td style=\"border-bottom: 1px solid #DDD;font-size:1.02em;background-color:#214579;color:white\"><b>3</b></td><td style=\"border: 1px solid white;\">39.000</td><td style=\"border: 1px solid white;\">None</td><td style=\"border: 1px solid white;\">0</td><td style=\"border: 1px solid white;\">112050</td><td style=\"border: 1px solid white;\">Belfast, NI</td><td style=\"border: 1px solid white;\">A36</td><td style=\"border: 1px solid white;\">male</td><td style=\"border: 1px solid white;\">1</td><td style=\"border: 1px solid white;\">S</td><td style=\"border: 1px solid white;\">0</td><td style=\"border: 1px solid white;\">0.00000</td><td style=\"border: 1px solid white;\">Andrews, Mr. Thomas Jr</td><td style=\"border: 1px solid white;\">0</td><td style=\"border: 1px solid white;\">0</td></tr><tr style=\"{border: 1px solid white;}\"><td style=\"border-bottom: 1px solid #DDD;font-size:1.02em;background-color:#214579;color:white\"><b>4</b></td><td style=\"border: 1px solid white;\">71.000</td><td style=\"border: 1px solid white;\">22</td><td style=\"border: 1px solid white;\">0</td><td style=\"border: 1px solid white;\">PC 17609</td><td style=\"border: 1px solid white;\">Montevideo, Uruguay</td><td style=\"border: 1px solid white;\">None</td><td style=\"border: 1px solid white;\">male</td><td style=\"border: 1px solid white;\">1</td><td style=\"border: 1px solid white;\">C</td><td style=\"border: 1px solid white;\">0</td><td style=\"border: 1px solid white;\">49.50420</td><td style=\"border: 1px solid white;\">Artagaveytia, Mr. Ramon</td><td style=\"border: 1px solid white;\">0</td><td style=\"border: 1px solid white;\">0</td></tr><tr><td style=\"border-top: 1px solid white;background-color:#214579;color:white\"></td><td style=\"border: 1px solid white;\">...</td><td style=\"border: 1px solid white;\">...</td><td style=\"border: 1px solid white;\">...</td><td style=\"border: 1px solid white;\">...</td><td style=\"border: 1px solid white;\">...</td><td style=\"border: 1px solid white;\">...</td><td style=\"border: 1px solid white;\">...</td><td style=\"border: 1px solid white;\">...</td><td style=\"border: 1px solid white;\">...</td><td style=\"border: 1px solid white;\">...</td><td style=\"border: 1px solid white;\">...</td><td style=\"border: 1px solid white;\">...</td><td style=\"border: 1px solid white;\">...</td><td style=\"border: 1px solid white;\">...</td></tr></table>"
      ],
      "text/plain": [
       "<IPython.core.display.HTML object>"
      ]
     },
     "metadata": {},
     "output_type": "display_data"
    },
    {
     "data": {
      "text/plain": [
       "<object>  Name: titanic, Number of rows: 1231, Number of columns: 14"
      ]
     },
     "execution_count": 6,
     "metadata": {},
     "output_type": "execute_result"
    }
   ],
   "source": [
    "titanic[\"boat\"].fillna(method = \"0ifnull\")"
   ]
  },
  {
   "cell_type": "markdown",
   "metadata": {},
   "source": [
    "<b>Question 4: </b>The column age has a lot of MCAR missing values. Imputing them using mathematical operation is very recommended as it will not add bias to the data. Use the 'fillna' method to impute this column with the most precise way."
   ]
  },
  {
   "cell_type": "code",
   "execution_count": 7,
   "metadata": {},
   "outputs": [
    {
     "name": "stdout",
     "output_type": "stream",
     "text": [
      "237 elements were filled\n"
     ]
    },
    {
     "data": {
      "text/html": [
       "<table style=\"border-collapse: collapse; border: 2px solid white\"><tr style=\"{border: 1px solid white;}\"><td style=\"border-bottom: 1px solid #DDD;font-size:1.02em;background-color:#214579;color:white\"><b></b></td><td style=\"font-size:1.02em;background-color:#214579;color:white\"><b>age</b></td><td style=\"font-size:1.02em;background-color:#214579;color:white\"><b>body</b></td><td style=\"font-size:1.02em;background-color:#214579;color:white\"><b>survived</b></td><td style=\"font-size:1.02em;background-color:#214579;color:white\"><b>ticket</b></td><td style=\"font-size:1.02em;background-color:#214579;color:white\"><b>home.dest</b></td><td style=\"font-size:1.02em;background-color:#214579;color:white\"><b>cabin</b></td><td style=\"font-size:1.02em;background-color:#214579;color:white\"><b>sex</b></td><td style=\"font-size:1.02em;background-color:#214579;color:white\"><b>pclass</b></td><td style=\"font-size:1.02em;background-color:#214579;color:white\"><b>embarked</b></td><td style=\"font-size:1.02em;background-color:#214579;color:white\"><b>parch</b></td><td style=\"font-size:1.02em;background-color:#214579;color:white\"><b>fare</b></td><td style=\"font-size:1.02em;background-color:#214579;color:white\"><b>name</b></td><td style=\"font-size:1.02em;background-color:#214579;color:white\"><b>boat</b></td><td style=\"font-size:1.02em;background-color:#214579;color:white\"><b>sibsp</b></td></tr><tr style=\"{border: 1px solid white;}\"><td style=\"border-bottom: 1px solid #DDD;font-size:1.02em;background-color:#214579;color:white\"><b>0</b></td><td style=\"border: 1px solid white;\">36.0</td><td style=\"border: 1px solid white;\">None</td><td style=\"border: 1px solid white;\">1</td><td style=\"border: 1px solid white;\">17421</td><td style=\"border: 1px solid white;\">None</td><td style=\"border: 1px solid white;\">None</td><td style=\"border: 1px solid white;\">female</td><td style=\"border: 1px solid white;\">1</td><td style=\"border: 1px solid white;\">C</td><td style=\"border: 1px solid white;\">0</td><td style=\"border: 1px solid white;\">110.88330</td><td style=\"border: 1px solid white;\">Fleming, Miss. Margaret</td><td style=\"border: 1px solid white;\">1</td><td style=\"border: 1px solid white;\">0</td></tr><tr style=\"{border: 1px solid white;}\"><td style=\"border-bottom: 1px solid #DDD;font-size:1.02em;background-color:#214579;color:white\"><b>1</b></td><td style=\"border: 1px solid white;\">36.0</td><td style=\"border: 1px solid white;\">None</td><td style=\"border: 1px solid white;\">1</td><td style=\"border: 1px solid white;\">PC 17611</td><td style=\"border: 1px solid white;\">New York, NY</td><td style=\"border: 1px solid white;\">None</td><td style=\"border: 1px solid white;\">female</td><td style=\"border: 1px solid white;\">1</td><td style=\"border: 1px solid white;\">S</td><td style=\"border: 1px solid white;\">0</td><td style=\"border: 1px solid white;\">133.65000</td><td style=\"border: 1px solid white;\">Frauenthal, Mrs. Henry William (Clara Heinsheimer)</td><td style=\"border: 1px solid white;\">1</td><td style=\"border: 1px solid white;\">1</td></tr><tr style=\"{border: 1px solid white;}\"><td style=\"border-bottom: 1px solid #DDD;font-size:1.02em;background-color:#214579;color:white\"><b>2</b></td><td style=\"border: 1px solid white;\">36.0</td><td style=\"border: 1px solid white;\">None</td><td style=\"border: 1px solid white;\">1</td><td style=\"border: 1px solid white;\">PC 17604</td><td style=\"border: 1px solid white;\">New York, NY</td><td style=\"border: 1px solid white;\">None</td><td style=\"border: 1px solid white;\">female</td><td style=\"border: 1px solid white;\">1</td><td style=\"border: 1px solid white;\">C</td><td style=\"border: 1px solid white;\">0</td><td style=\"border: 1px solid white;\">82.17080</td><td style=\"border: 1px solid white;\">Meyer, Mrs. Edgar Joseph (Leila Saks)</td><td style=\"border: 1px solid white;\">1</td><td style=\"border: 1px solid white;\">1</td></tr><tr style=\"{border: 1px solid white;}\"><td style=\"border-bottom: 1px solid #DDD;font-size:1.02em;background-color:#214579;color:white\"><b>3</b></td><td style=\"border: 1px solid white;\">36.0</td><td style=\"border: 1px solid white;\">None</td><td style=\"border: 1px solid white;\">1</td><td style=\"border: 1px solid white;\">17453</td><td style=\"border: 1px solid white;\">Paris, France / New York, NY</td><td style=\"border: 1px solid white;\">C92</td><td style=\"border: 1px solid white;\">female</td><td style=\"border: 1px solid white;\">1</td><td style=\"border: 1px solid white;\">C</td><td style=\"border: 1px solid white;\">0</td><td style=\"border: 1px solid white;\">89.10420</td><td style=\"border: 1px solid white;\">Goldenberg, Mrs. Samuel L (Edwiga Grabowska)</td><td style=\"border: 1px solid white;\">1</td><td style=\"border: 1px solid white;\">1</td></tr><tr style=\"{border: 1px solid white;}\"><td style=\"border-bottom: 1px solid #DDD;font-size:1.02em;background-color:#214579;color:white\"><b>4</b></td><td style=\"border: 1px solid white;\">36.0</td><td style=\"border: 1px solid white;\">None</td><td style=\"border: 1px solid white;\">1</td><td style=\"border: 1px solid white;\">19996</td><td style=\"border: 1px solid white;\">London /  East Orange, NJ</td><td style=\"border: 1px solid white;\">C126</td><td style=\"border: 1px solid white;\">female</td><td style=\"border: 1px solid white;\">1</td><td style=\"border: 1px solid white;\">S</td><td style=\"border: 1px solid white;\">0</td><td style=\"border: 1px solid white;\">52.00000</td><td style=\"border: 1px solid white;\">Taylor, Mrs. Elmer Zebley (Juliet Cummins Wright)</td><td style=\"border: 1px solid white;\">1</td><td style=\"border: 1px solid white;\">1</td></tr><tr><td style=\"border-top: 1px solid white;background-color:#214579;color:white\"></td><td style=\"border: 1px solid white;\">...</td><td style=\"border: 1px solid white;\">...</td><td style=\"border: 1px solid white;\">...</td><td style=\"border: 1px solid white;\">...</td><td style=\"border: 1px solid white;\">...</td><td style=\"border: 1px solid white;\">...</td><td style=\"border: 1px solid white;\">...</td><td style=\"border: 1px solid white;\">...</td><td style=\"border: 1px solid white;\">...</td><td style=\"border: 1px solid white;\">...</td><td style=\"border: 1px solid white;\">...</td><td style=\"border: 1px solid white;\">...</td><td style=\"border: 1px solid white;\">...</td><td style=\"border: 1px solid white;\">...</td></tr></table>"
      ],
      "text/plain": [
       "<IPython.core.display.HTML object>"
      ]
     },
     "metadata": {},
     "output_type": "display_data"
    },
    {
     "data": {
      "text/plain": [
       "<object>  Name: titanic, Number of rows: 1231, Number of columns: 14"
      ]
     },
     "execution_count": 7,
     "metadata": {},
     "output_type": "execute_result"
    }
   ],
   "source": [
    "titanic[\"age\"].fillna(method = \"median\", by = [\"sex\", \"pclass\"])"
   ]
  },
  {
   "cell_type": "markdown",
   "metadata": {},
   "source": [
    "<b>Question 5: </b>The column 'body' is not at all suitable for the imputation as it represents the passengers ID. This ID is unique and there is no way to impute it. The column 'cabin' represents the passengers cabin number. A lot of transformations must be made to extract information. Let's drop them. Use the 'drop' method to drop these columns."
   ]
  },
  {
   "cell_type": "code",
   "execution_count": 8,
   "metadata": {},
   "outputs": [
    {
     "name": "stdout",
     "output_type": "stream",
     "text": [
      "vColumn '\"body\"' deleted from the vDataframe.\n",
      "vColumn '\"cabin\"' deleted from the vDataframe.\n"
     ]
    },
    {
     "data": {
      "text/html": [
       "<table style=\"border-collapse: collapse; border: 2px solid white\"><tr style=\"{border: 1px solid white;}\"><td style=\"border-bottom: 1px solid #DDD;font-size:1.02em;background-color:#214579;color:white\"><b></b></td><td style=\"font-size:1.02em;background-color:#214579;color:white\"><b>age</b></td><td style=\"font-size:1.02em;background-color:#214579;color:white\"><b>survived</b></td><td style=\"font-size:1.02em;background-color:#214579;color:white\"><b>ticket</b></td><td style=\"font-size:1.02em;background-color:#214579;color:white\"><b>home.dest</b></td><td style=\"font-size:1.02em;background-color:#214579;color:white\"><b>sex</b></td><td style=\"font-size:1.02em;background-color:#214579;color:white\"><b>pclass</b></td><td style=\"font-size:1.02em;background-color:#214579;color:white\"><b>embarked</b></td><td style=\"font-size:1.02em;background-color:#214579;color:white\"><b>parch</b></td><td style=\"font-size:1.02em;background-color:#214579;color:white\"><b>fare</b></td><td style=\"font-size:1.02em;background-color:#214579;color:white\"><b>name</b></td><td style=\"font-size:1.02em;background-color:#214579;color:white\"><b>boat</b></td><td style=\"font-size:1.02em;background-color:#214579;color:white\"><b>sibsp</b></td></tr><tr style=\"{border: 1px solid white;}\"><td style=\"border-bottom: 1px solid #DDD;font-size:1.02em;background-color:#214579;color:white\"><b>0</b></td><td style=\"border: 1px solid white;\">36.0</td><td style=\"border: 1px solid white;\">1</td><td style=\"border: 1px solid white;\">17421</td><td style=\"border: 1px solid white;\">None</td><td style=\"border: 1px solid white;\">female</td><td style=\"border: 1px solid white;\">1</td><td style=\"border: 1px solid white;\">C</td><td style=\"border: 1px solid white;\">0</td><td style=\"border: 1px solid white;\">110.88330</td><td style=\"border: 1px solid white;\">Fleming, Miss. Margaret</td><td style=\"border: 1px solid white;\">1</td><td style=\"border: 1px solid white;\">0</td></tr><tr style=\"{border: 1px solid white;}\"><td style=\"border-bottom: 1px solid #DDD;font-size:1.02em;background-color:#214579;color:white\"><b>1</b></td><td style=\"border: 1px solid white;\">36.0</td><td style=\"border: 1px solid white;\">1</td><td style=\"border: 1px solid white;\">PC 17611</td><td style=\"border: 1px solid white;\">New York, NY</td><td style=\"border: 1px solid white;\">female</td><td style=\"border: 1px solid white;\">1</td><td style=\"border: 1px solid white;\">S</td><td style=\"border: 1px solid white;\">0</td><td style=\"border: 1px solid white;\">133.65000</td><td style=\"border: 1px solid white;\">Frauenthal, Mrs. Henry William (Clara Heinsheimer)</td><td style=\"border: 1px solid white;\">1</td><td style=\"border: 1px solid white;\">1</td></tr><tr style=\"{border: 1px solid white;}\"><td style=\"border-bottom: 1px solid #DDD;font-size:1.02em;background-color:#214579;color:white\"><b>2</b></td><td style=\"border: 1px solid white;\">36.0</td><td style=\"border: 1px solid white;\">1</td><td style=\"border: 1px solid white;\">PC 17604</td><td style=\"border: 1px solid white;\">New York, NY</td><td style=\"border: 1px solid white;\">female</td><td style=\"border: 1px solid white;\">1</td><td style=\"border: 1px solid white;\">C</td><td style=\"border: 1px solid white;\">0</td><td style=\"border: 1px solid white;\">82.17080</td><td style=\"border: 1px solid white;\">Meyer, Mrs. Edgar Joseph (Leila Saks)</td><td style=\"border: 1px solid white;\">1</td><td style=\"border: 1px solid white;\">1</td></tr><tr style=\"{border: 1px solid white;}\"><td style=\"border-bottom: 1px solid #DDD;font-size:1.02em;background-color:#214579;color:white\"><b>3</b></td><td style=\"border: 1px solid white;\">36.0</td><td style=\"border: 1px solid white;\">1</td><td style=\"border: 1px solid white;\">17453</td><td style=\"border: 1px solid white;\">Paris, France / New York, NY</td><td style=\"border: 1px solid white;\">female</td><td style=\"border: 1px solid white;\">1</td><td style=\"border: 1px solid white;\">C</td><td style=\"border: 1px solid white;\">0</td><td style=\"border: 1px solid white;\">89.10420</td><td style=\"border: 1px solid white;\">Goldenberg, Mrs. Samuel L (Edwiga Grabowska)</td><td style=\"border: 1px solid white;\">1</td><td style=\"border: 1px solid white;\">1</td></tr><tr style=\"{border: 1px solid white;}\"><td style=\"border-bottom: 1px solid #DDD;font-size:1.02em;background-color:#214579;color:white\"><b>4</b></td><td style=\"border: 1px solid white;\">36.0</td><td style=\"border: 1px solid white;\">1</td><td style=\"border: 1px solid white;\">19996</td><td style=\"border: 1px solid white;\">London /  East Orange, NJ</td><td style=\"border: 1px solid white;\">female</td><td style=\"border: 1px solid white;\">1</td><td style=\"border: 1px solid white;\">S</td><td style=\"border: 1px solid white;\">0</td><td style=\"border: 1px solid white;\">52.00000</td><td style=\"border: 1px solid white;\">Taylor, Mrs. Elmer Zebley (Juliet Cummins Wright)</td><td style=\"border: 1px solid white;\">1</td><td style=\"border: 1px solid white;\">1</td></tr><tr><td style=\"border-top: 1px solid white;background-color:#214579;color:white\"></td><td style=\"border: 1px solid white;\">...</td><td style=\"border: 1px solid white;\">...</td><td style=\"border: 1px solid white;\">...</td><td style=\"border: 1px solid white;\">...</td><td style=\"border: 1px solid white;\">...</td><td style=\"border: 1px solid white;\">...</td><td style=\"border: 1px solid white;\">...</td><td style=\"border: 1px solid white;\">...</td><td style=\"border: 1px solid white;\">...</td><td style=\"border: 1px solid white;\">...</td><td style=\"border: 1px solid white;\">...</td><td style=\"border: 1px solid white;\">...</td></tr></table>"
      ],
      "text/plain": [
       "<IPython.core.display.HTML object>"
      ]
     },
     "metadata": {},
     "output_type": "display_data"
    },
    {
     "data": {
      "text/plain": [
       "<object>  Name: titanic, Number of rows: 1231, Number of columns: 12"
      ]
     },
     "execution_count": 8,
     "metadata": {},
     "output_type": "execute_result"
    }
   ],
   "source": [
    "titanic.drop([\"body\", \"cabin\"])"
   ]
  },
  {
   "cell_type": "markdown",
   "metadata": {},
   "source": [
    "<b>Question 6: </b>The column 'home.dest' is representing from where the passengers are embarking and to where they are going. It is a categorical variable. A possible to impute it is to use the mode (most occurrent element). Use the 'method' fillna to impute it. You can then compute the number of missing elements per column to verify that all the data are well prepared."
   ]
  },
  {
   "cell_type": "code",
   "execution_count": 9,
   "metadata": {},
   "outputs": [
    {
     "name": "stdout",
     "output_type": "stream",
     "text": [
      "526 elements were filled\n"
     ]
    },
    {
     "data": {
      "text/html": [
       "<table style=\"border-collapse: collapse; border: 2px solid white\"><tr style=\"{border: 1px solid white;}\"><td style=\"border-bottom: 1px solid #DDD;font-size:1.02em;background-color:#214579;color:white\"><b></b></td><td style=\"font-size:1.02em;background-color:#214579;color:white\"><b>age</b></td><td style=\"font-size:1.02em;background-color:#214579;color:white\"><b>survived</b></td><td style=\"font-size:1.02em;background-color:#214579;color:white\"><b>ticket</b></td><td style=\"font-size:1.02em;background-color:#214579;color:white\"><b>home.dest</b></td><td style=\"font-size:1.02em;background-color:#214579;color:white\"><b>sex</b></td><td style=\"font-size:1.02em;background-color:#214579;color:white\"><b>pclass</b></td><td style=\"font-size:1.02em;background-color:#214579;color:white\"><b>embarked</b></td><td style=\"font-size:1.02em;background-color:#214579;color:white\"><b>parch</b></td><td style=\"font-size:1.02em;background-color:#214579;color:white\"><b>fare</b></td><td style=\"font-size:1.02em;background-color:#214579;color:white\"><b>name</b></td><td style=\"font-size:1.02em;background-color:#214579;color:white\"><b>boat</b></td><td style=\"font-size:1.02em;background-color:#214579;color:white\"><b>sibsp</b></td></tr><tr style=\"{border: 1px solid white;}\"><td style=\"border-bottom: 1px solid #DDD;font-size:1.02em;background-color:#214579;color:white\"><b>0</b></td><td style=\"border: 1px solid white;\">36.0</td><td style=\"border: 1px solid white;\">1</td><td style=\"border: 1px solid white;\">17421</td><td style=\"border: 1px solid white;\">New York, NY</td><td style=\"border: 1px solid white;\">female</td><td style=\"border: 1px solid white;\">1</td><td style=\"border: 1px solid white;\">C</td><td style=\"border: 1px solid white;\">0</td><td style=\"border: 1px solid white;\">110.88330</td><td style=\"border: 1px solid white;\">Fleming, Miss. Margaret</td><td style=\"border: 1px solid white;\">1</td><td style=\"border: 1px solid white;\">0</td></tr><tr style=\"{border: 1px solid white;}\"><td style=\"border-bottom: 1px solid #DDD;font-size:1.02em;background-color:#214579;color:white\"><b>1</b></td><td style=\"border: 1px solid white;\">36.0</td><td style=\"border: 1px solid white;\">1</td><td style=\"border: 1px solid white;\">PC 17611</td><td style=\"border: 1px solid white;\">New York, NY</td><td style=\"border: 1px solid white;\">female</td><td style=\"border: 1px solid white;\">1</td><td style=\"border: 1px solid white;\">S</td><td style=\"border: 1px solid white;\">0</td><td style=\"border: 1px solid white;\">133.65000</td><td style=\"border: 1px solid white;\">Frauenthal, Mrs. Henry William (Clara Heinsheimer)</td><td style=\"border: 1px solid white;\">1</td><td style=\"border: 1px solid white;\">1</td></tr><tr style=\"{border: 1px solid white;}\"><td style=\"border-bottom: 1px solid #DDD;font-size:1.02em;background-color:#214579;color:white\"><b>2</b></td><td style=\"border: 1px solid white;\">36.0</td><td style=\"border: 1px solid white;\">1</td><td style=\"border: 1px solid white;\">PC 17604</td><td style=\"border: 1px solid white;\">New York, NY</td><td style=\"border: 1px solid white;\">female</td><td style=\"border: 1px solid white;\">1</td><td style=\"border: 1px solid white;\">C</td><td style=\"border: 1px solid white;\">0</td><td style=\"border: 1px solid white;\">82.17080</td><td style=\"border: 1px solid white;\">Meyer, Mrs. Edgar Joseph (Leila Saks)</td><td style=\"border: 1px solid white;\">1</td><td style=\"border: 1px solid white;\">1</td></tr><tr style=\"{border: 1px solid white;}\"><td style=\"border-bottom: 1px solid #DDD;font-size:1.02em;background-color:#214579;color:white\"><b>3</b></td><td style=\"border: 1px solid white;\">36.0</td><td style=\"border: 1px solid white;\">1</td><td style=\"border: 1px solid white;\">17453</td><td style=\"border: 1px solid white;\">Paris, France / New York, NY</td><td style=\"border: 1px solid white;\">female</td><td style=\"border: 1px solid white;\">1</td><td style=\"border: 1px solid white;\">C</td><td style=\"border: 1px solid white;\">0</td><td style=\"border: 1px solid white;\">89.10420</td><td style=\"border: 1px solid white;\">Goldenberg, Mrs. Samuel L (Edwiga Grabowska)</td><td style=\"border: 1px solid white;\">1</td><td style=\"border: 1px solid white;\">1</td></tr><tr style=\"{border: 1px solid white;}\"><td style=\"border-bottom: 1px solid #DDD;font-size:1.02em;background-color:#214579;color:white\"><b>4</b></td><td style=\"border: 1px solid white;\">36.0</td><td style=\"border: 1px solid white;\">1</td><td style=\"border: 1px solid white;\">19996</td><td style=\"border: 1px solid white;\">London /  East Orange, NJ</td><td style=\"border: 1px solid white;\">female</td><td style=\"border: 1px solid white;\">1</td><td style=\"border: 1px solid white;\">S</td><td style=\"border: 1px solid white;\">0</td><td style=\"border: 1px solid white;\">52.00000</td><td style=\"border: 1px solid white;\">Taylor, Mrs. Elmer Zebley (Juliet Cummins Wright)</td><td style=\"border: 1px solid white;\">1</td><td style=\"border: 1px solid white;\">1</td></tr><tr><td style=\"border-top: 1px solid white;background-color:#214579;color:white\"></td><td style=\"border: 1px solid white;\">...</td><td style=\"border: 1px solid white;\">...</td><td style=\"border: 1px solid white;\">...</td><td style=\"border: 1px solid white;\">...</td><td style=\"border: 1px solid white;\">...</td><td style=\"border: 1px solid white;\">...</td><td style=\"border: 1px solid white;\">...</td><td style=\"border: 1px solid white;\">...</td><td style=\"border: 1px solid white;\">...</td><td style=\"border: 1px solid white;\">...</td><td style=\"border: 1px solid white;\">...</td><td style=\"border: 1px solid white;\">...</td></tr></table>"
      ],
      "text/plain": [
       "<IPython.core.display.HTML object>"
      ]
     },
     "metadata": {},
     "output_type": "display_data"
    },
    {
     "data": {
      "text/plain": [
       "<object>  Name: titanic, Number of rows: 1231, Number of columns: 12"
      ]
     },
     "execution_count": 9,
     "metadata": {},
     "output_type": "execute_result"
    }
   ],
   "source": [
    "titanic[\"home.dest\"].fillna(method = \"mode\")"
   ]
  },
  {
   "cell_type": "code",
   "execution_count": 10,
   "metadata": {},
   "outputs": [
    {
     "data": {
      "text/html": [
       "<table style=\"border-collapse: collapse; border: 2px solid white\"><tr style=\"{border: 1px solid white;}\"><td style=\"border-bottom: 1px solid #DDD;font-size:1.02em;background-color:#214579;color:white\"><b></b></td><td style=\"font-size:1.02em;background-color:#214579;color:white\"><b>count</b></td><td style=\"font-size:1.02em;background-color:#214579;color:white\"><b>percent</b></td></tr><tr style=\"{border: 1px solid white;}\"><td style=\"border-bottom: 1px solid #DDD;font-size:1.02em;background-color:#214579;color:white\"><b>\"age\"</b></td><td style=\"border: 1px solid white;\">1231.0</td><td style=\"border: 1px solid white;\">100.0</td></tr><tr style=\"{border: 1px solid white;}\"><td style=\"border-bottom: 1px solid #DDD;font-size:1.02em;background-color:#214579;color:white\"><b>\"survived\"</b></td><td style=\"border: 1px solid white;\">1231.0</td><td style=\"border: 1px solid white;\">100.0</td></tr><tr style=\"{border: 1px solid white;}\"><td style=\"border-bottom: 1px solid #DDD;font-size:1.02em;background-color:#214579;color:white\"><b>\"ticket\"</b></td><td style=\"border: 1px solid white;\">1231.0</td><td style=\"border: 1px solid white;\">100.0</td></tr><tr style=\"{border: 1px solid white;}\"><td style=\"border-bottom: 1px solid #DDD;font-size:1.02em;background-color:#214579;color:white\"><b>\"home.dest\"</b></td><td style=\"border: 1px solid white;\">1231.0</td><td style=\"border: 1px solid white;\">100.0</td></tr><tr style=\"{border: 1px solid white;}\"><td style=\"border-bottom: 1px solid #DDD;font-size:1.02em;background-color:#214579;color:white\"><b>\"sex\"</b></td><td style=\"border: 1px solid white;\">1231.0</td><td style=\"border: 1px solid white;\">100.0</td></tr><tr style=\"{border: 1px solid white;}\"><td style=\"border-bottom: 1px solid #DDD;font-size:1.02em;background-color:#214579;color:white\"><b>\"pclass\"</b></td><td style=\"border: 1px solid white;\">1231.0</td><td style=\"border: 1px solid white;\">100.0</td></tr><tr style=\"{border: 1px solid white;}\"><td style=\"border-bottom: 1px solid #DDD;font-size:1.02em;background-color:#214579;color:white\"><b>\"embarked\"</b></td><td style=\"border: 1px solid white;\">1231.0</td><td style=\"border: 1px solid white;\">100.0</td></tr><tr style=\"{border: 1px solid white;}\"><td style=\"border-bottom: 1px solid #DDD;font-size:1.02em;background-color:#214579;color:white\"><b>\"parch\"</b></td><td style=\"border: 1px solid white;\">1231.0</td><td style=\"border: 1px solid white;\">100.0</td></tr><tr style=\"{border: 1px solid white;}\"><td style=\"border-bottom: 1px solid #DDD;font-size:1.02em;background-color:#214579;color:white\"><b>\"fare\"</b></td><td style=\"border: 1px solid white;\">1231.0</td><td style=\"border: 1px solid white;\">100.0</td></tr><tr style=\"{border: 1px solid white;}\"><td style=\"border-bottom: 1px solid #DDD;font-size:1.02em;background-color:#214579;color:white\"><b>\"name\"</b></td><td style=\"border: 1px solid white;\">1231.0</td><td style=\"border: 1px solid white;\">100.0</td></tr><tr style=\"{border: 1px solid white;}\"><td style=\"border-bottom: 1px solid #DDD;font-size:1.02em;background-color:#214579;color:white\"><b>\"boat\"</b></td><td style=\"border: 1px solid white;\">1231.0</td><td style=\"border: 1px solid white;\">100.0</td></tr><tr style=\"{border: 1px solid white;}\"><td style=\"border-bottom: 1px solid #DDD;font-size:1.02em;background-color:#214579;color:white\"><b>\"sibsp\"</b></td><td style=\"border: 1px solid white;\">1231.0</td><td style=\"border: 1px solid white;\">100.0</td></tr></table>"
      ],
      "text/plain": [
       "<IPython.core.display.HTML object>"
      ]
     },
     "metadata": {},
     "output_type": "display_data"
    },
    {
     "data": {
      "text/plain": [
       "<object>"
      ]
     },
     "execution_count": 10,
     "metadata": {},
     "output_type": "execute_result"
    }
   ],
   "source": [
    "titanic.count()"
   ]
  }
 ],
 "metadata": {
  "kernelspec": {
   "display_name": "Python 3",
   "language": "python",
   "name": "python3"
  },
  "language_info": {
   "codemirror_mode": {
    "name": "ipython",
    "version": 3
   },
   "file_extension": ".py",
   "mimetype": "text/x-python",
   "name": "python",
   "nbconvert_exporter": "python",
   "pygments_lexer": "ipython3",
   "version": "3.6.3"
  }
 },
 "nbformat": 4,
 "nbformat_minor": 2
}
