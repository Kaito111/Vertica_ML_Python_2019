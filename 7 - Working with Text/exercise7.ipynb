{
 "cells": [
  {
   "cell_type": "markdown",
   "metadata": {},
   "source": [
    "<p align=\"center\">\n",
    "<img src='../../img/VerticaMLPython.png' width=\"180px\">\n",
    "</p>\n",
    "\n",
    "# Vertica ML Python Exercise 7\n",
    "\n",
    "During this exercice, we will:\n",
    "<ul>\n",
    "    <li> Create a dictionary of words \n",
    "    <li> Create new feature by extracting relevant words\n",
    "</ul>\n",
    "## Initialization\n",
    "\n",
    "Let's create a cursor using the vertica_cursor function."
   ]
  },
  {
   "cell_type": "code",
   "execution_count": 11,
   "metadata": {},
   "outputs": [],
   "source": [
    "from vertica_ml_python.utilities import vertica_cursor\n",
    "cur = vertica_cursor(\"VerticaDSN\")"
   ]
  },
  {
   "cell_type": "markdown",
   "metadata": {},
   "source": [
    "During this study, we will work with a new dataset which is based on online retail. "
   ]
  },
  {
   "cell_type": "code",
   "execution_count": 26,
   "metadata": {},
   "outputs": [
    {
     "name": "stdout",
     "output_type": "stream",
     "text": [
      "The table retail was successfully dropped.\n",
      "The table public.retail has been successfully created.\n"
     ]
    }
   ],
   "source": [
    "from vertica_ml_python.utilities import drop_table\n",
    "drop_table(\"retail\", cur)\n",
    "from vertica_ml_python.utilities import read_csv\n",
    "retail = read_csv(\"retail.csv\", cur)"
   ]
  },
  {
   "cell_type": "markdown",
   "metadata": {},
   "source": [
    "We have access to many purchases of 4339 different customers based accross 38 different countries."
   ]
  },
  {
   "cell_type": "code",
   "execution_count": 13,
   "metadata": {},
   "outputs": [
    {
     "data": {
      "text/html": [
       "<table style=\"border-collapse: collapse; border: 2px solid white\"><tr style=\"{border: 1px solid white;}\"><td style=\"border-bottom: 1px solid #DDD;font-size:1.02em;background-color:#214579;color:white\"><b></b></td><td style=\"font-size:1.02em;background-color:#214579;color:white\"><b>InvoiceNo</b></td><td style=\"font-size:1.02em;background-color:#214579;color:white\"><b>InvoiceDate</b></td><td style=\"font-size:1.02em;background-color:#214579;color:white\"><b>Country</b></td><td style=\"font-size:1.02em;background-color:#214579;color:white\"><b>Description</b></td><td style=\"font-size:1.02em;background-color:#214579;color:white\"><b>UnitPrice</b></td><td style=\"font-size:1.02em;background-color:#214579;color:white\"><b>CustomerID</b></td><td style=\"font-size:1.02em;background-color:#214579;color:white\"><b>Quantity</b></td><td style=\"font-size:1.02em;background-color:#214579;color:white\"><b>StockCode</b></td></tr><tr style=\"{border: 1px solid white;}\"><td style=\"border-bottom: 1px solid #DDD;font-size:1.02em;background-color:#214579;color:white\"><b>0</b></td><td style=\"border: 1px solid white;\">536365</td><td style=\"border: 1px solid white;\">1/12/2010 8:26</td><td style=\"border: 1px solid white;\">United Kingdom</td><td style=\"border: 1px solid white;\">WHITE HANGING HEART T-LIGHT HOLDER</td><td style=\"border: 1px solid white;\">2.5500</td><td style=\"border: 1px solid white;\">17850</td><td style=\"border: 1px solid white;\">6</td><td style=\"border: 1px solid white;\">85123A</td></tr><tr style=\"{border: 1px solid white;}\"><td style=\"border-bottom: 1px solid #DDD;font-size:1.02em;background-color:#214579;color:white\"><b>1</b></td><td style=\"border: 1px solid white;\">536365</td><td style=\"border: 1px solid white;\">1/12/2010 8:26</td><td style=\"border: 1px solid white;\">United Kingdom</td><td style=\"border: 1px solid white;\">WHITE METAL LANTERN</td><td style=\"border: 1px solid white;\">3.3900</td><td style=\"border: 1px solid white;\">17850</td><td style=\"border: 1px solid white;\">6</td><td style=\"border: 1px solid white;\">71053</td></tr><tr style=\"{border: 1px solid white;}\"><td style=\"border-bottom: 1px solid #DDD;font-size:1.02em;background-color:#214579;color:white\"><b>2</b></td><td style=\"border: 1px solid white;\">536365</td><td style=\"border: 1px solid white;\">1/12/2010 8:26</td><td style=\"border: 1px solid white;\">United Kingdom</td><td style=\"border: 1px solid white;\">CREAM CUPID HEARTS COAT HANGER</td><td style=\"border: 1px solid white;\">2.7500</td><td style=\"border: 1px solid white;\">17850</td><td style=\"border: 1px solid white;\">8</td><td style=\"border: 1px solid white;\">84406B</td></tr><tr style=\"{border: 1px solid white;}\"><td style=\"border-bottom: 1px solid #DDD;font-size:1.02em;background-color:#214579;color:white\"><b>3</b></td><td style=\"border: 1px solid white;\">536365</td><td style=\"border: 1px solid white;\">1/12/2010 8:26</td><td style=\"border: 1px solid white;\">United Kingdom</td><td style=\"border: 1px solid white;\">KNITTED UNION FLAG HOT WATER BOTTLE</td><td style=\"border: 1px solid white;\">3.3900</td><td style=\"border: 1px solid white;\">17850</td><td style=\"border: 1px solid white;\">6</td><td style=\"border: 1px solid white;\">84029G</td></tr><tr style=\"{border: 1px solid white;}\"><td style=\"border-bottom: 1px solid #DDD;font-size:1.02em;background-color:#214579;color:white\"><b>4</b></td><td style=\"border: 1px solid white;\">536365</td><td style=\"border: 1px solid white;\">1/12/2010 8:26</td><td style=\"border: 1px solid white;\">United Kingdom</td><td style=\"border: 1px solid white;\">RED WOOLLY HOTTIE WHITE HEART.</td><td style=\"border: 1px solid white;\">3.3900</td><td style=\"border: 1px solid white;\">17850</td><td style=\"border: 1px solid white;\">6</td><td style=\"border: 1px solid white;\">84029E</td></tr><tr><td style=\"border-top: 1px solid white;background-color:#214579;color:white\"></td><td style=\"border: 1px solid white;\">...</td><td style=\"border: 1px solid white;\">...</td><td style=\"border: 1px solid white;\">...</td><td style=\"border: 1px solid white;\">...</td><td style=\"border: 1px solid white;\">...</td><td style=\"border: 1px solid white;\">...</td><td style=\"border: 1px solid white;\">...</td><td style=\"border: 1px solid white;\">...</td></tr></table>"
      ],
      "text/plain": [
       "<IPython.core.display.HTML object>"
      ]
     },
     "metadata": {},
     "output_type": "display_data"
    },
    {
     "name": "stdout",
     "output_type": "stream",
     "text": [
      "<object>  Name: retail, Number of rows: 531381, Number of columns: 8\n"
     ]
    }
   ],
   "source": [
    "print(retail)"
   ]
  },
  {
   "cell_type": "markdown",
   "metadata": {},
   "source": [
    "Many things could be done with this kind of data like understanding customers behavior or finding which type of products are popular. We will only work on the description to extract information from it. As these data are time series, we could also create many different features. We will probably do it when you have all the elements to follow the entire Data Science cycle."
   ]
  },
  {
   "cell_type": "markdown",
   "metadata": {},
   "source": [
    "## Working with Text Data\n",
    "\n",
    "Let's explore the data by displaying descriptive statistics of all the columns."
   ]
  },
  {
   "cell_type": "code",
   "execution_count": 15,
   "metadata": {},
   "outputs": [
    {
     "data": {
      "text/html": [
       "<table style=\"border-collapse: collapse; border: 2px solid white\"><tr style=\"{border: 1px solid white;}\"><td style=\"border-bottom: 1px solid #DDD;font-size:1.02em;background-color:#214579;color:white\"><b></b></td><td style=\"font-size:1.02em;background-color:#214579;color:white\"><b>dtype</b></td><td style=\"font-size:1.02em;background-color:#214579;color:white\"><b>unique</b></td><td style=\"font-size:1.02em;background-color:#214579;color:white\"><b>count</b></td><td style=\"font-size:1.02em;background-color:#214579;color:white\"><b>top</b></td><td style=\"font-size:1.02em;background-color:#214579;color:white\"><b>top_percent</b></td></tr><tr style=\"{border: 1px solid white;}\"><td style=\"border-bottom: 1px solid #DDD;font-size:1.02em;background-color:#214579;color:white\"><b>\"InvoiceNo\"</b></td><td style=\"border: 1px solid white;\">int</td><td style=\"border: 1px solid white;\">22056</td><td style=\"border: 1px solid white;\">531381</td><td style=\"border: 1px solid white;\">573585</td><td style=\"border: 1px solid white;\">0.209</td></tr><tr style=\"{border: 1px solid white;}\"><td style=\"border-bottom: 1px solid #DDD;font-size:1.02em;background-color:#214579;color:white\"><b>\"InvoiceDate\"</b></td><td style=\"border: 1px solid white;\">varchar(32)</td><td style=\"border: 1px solid white;\">19984</td><td style=\"border: 1px solid white;\">531381</td><td style=\"border: 1px solid white;\">31/10/2011 14:41</td><td style=\"border: 1px solid white;\">0.209</td></tr><tr style=\"{border: 1px solid white;}\"><td style=\"border-bottom: 1px solid #DDD;font-size:1.02em;background-color:#214579;color:white\"><b>\"Country\"</b></td><td style=\"border: 1px solid white;\">varchar(40)</td><td style=\"border: 1px solid white;\">38</td><td style=\"border: 1px solid white;\">531381</td><td style=\"border: 1px solid white;\">United Kingdom</td><td style=\"border: 1px solid white;\">91.535</td></tr><tr style=\"{border: 1px solid white;}\"><td style=\"border-bottom: 1px solid #DDD;font-size:1.02em;background-color:#214579;color:white\"><b>\"Description\"</b></td><td style=\"border: 1px solid white;\">varchar(70)</td><td style=\"border: 1px solid white;\">4165</td><td style=\"border: 1px solid white;\">529927</td><td style=\"border: 1px solid white;\">WHITE HANGING HEART T-LIGHT HOLDER</td><td style=\"border: 1px solid white;\">0.439</td></tr><tr style=\"{border: 1px solid white;}\"><td style=\"border-bottom: 1px solid #DDD;font-size:1.02em;background-color:#214579;color:white\"><b>\"UnitPrice\"</b></td><td style=\"border: 1px solid white;\">numeric(10,4)</td><td style=\"border: 1px solid white;\">1291</td><td style=\"border: 1px solid white;\">531381</td><td style=\"border: 1px solid white;\">1.2500</td><td style=\"border: 1px solid white;\">9.349</td></tr><tr style=\"{border: 1px solid white;}\"><td style=\"border-bottom: 1px solid #DDD;font-size:1.02em;background-color:#214579;color:white\"><b>\"CustomerID\"</b></td><td style=\"border: 1px solid white;\">int</td><td style=\"border: 1px solid white;\">4339</td><td style=\"border: 1px solid white;\">397388</td><td style=\"border: 1px solid white;\">17841</td><td style=\"border: 1px solid white;\">1.965</td></tr><tr style=\"{border: 1px solid white;}\"><td style=\"border-bottom: 1px solid #DDD;font-size:1.02em;background-color:#214579;color:white\"><b>\"Quantity\"</b></td><td style=\"border: 1px solid white;\">int</td><td style=\"border: 1px solid white;\">691</td><td style=\"border: 1px solid white;\">531381</td><td style=\"border: 1px solid white;\">1</td><td style=\"border: 1px solid white;\">27.778</td></tr><tr style=\"{border: 1px solid white;}\"><td style=\"border-bottom: 1px solid #DDD;font-size:1.02em;background-color:#214579;color:white\"><b>\"StockCode\"</b></td><td style=\"border: 1px solid white;\">varchar(24)</td><td style=\"border: 1px solid white;\">4023</td><td style=\"border: 1px solid white;\">531381</td><td style=\"border: 1px solid white;\">85123A</td><td style=\"border: 1px solid white;\">0.427</td></tr></table>"
      ],
      "text/plain": [
       "<IPython.core.display.HTML object>"
      ]
     },
     "metadata": {},
     "output_type": "display_data"
    },
    {
     "data": {
      "text/plain": [
       "<object>"
      ]
     },
     "execution_count": 15,
     "metadata": {},
     "output_type": "execute_result"
    }
   ],
   "source": [
    "retail.describe(method = \"categorical\")"
   ]
  },
  {
   "cell_type": "markdown",
   "metadata": {},
   "source": [
    "<b>Question 1: </b>Build a dictionary of words and find the most relevant ones. What do you notice?"
   ]
  },
  {
   "cell_type": "markdown",
   "metadata": {},
   "source": [
    "<b>Question 2: </b>Build new features by extracting relevant words from the description."
   ]
  },
  {
   "cell_type": "markdown",
   "metadata": {},
   "source": [
    "<b>Question 3: </b>Explain all the different other actions that you could do on text data."
   ]
  }
 ],
 "metadata": {
  "kernelspec": {
   "display_name": "Python 3",
   "language": "python",
   "name": "python3"
  },
  "language_info": {
   "codemirror_mode": {
    "name": "ipython",
    "version": 3
   },
   "file_extension": ".py",
   "mimetype": "text/x-python",
   "name": "python",
   "nbconvert_exporter": "python",
   "pygments_lexer": "ipython3",
   "version": "3.6.3"
  }
 },
 "nbformat": 4,
 "nbformat_minor": 2
}
