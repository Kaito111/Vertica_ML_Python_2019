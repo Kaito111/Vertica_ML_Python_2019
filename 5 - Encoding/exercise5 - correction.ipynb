{
 "cells": [
  {
   "cell_type": "markdown",
   "metadata": {},
   "source": [
    "<p align=\"center\">\n",
    "<img src='../../img/VerticaMLPython.png' width=\"180px\">\n",
    "</p>\n",
    "\n",
    "# Vertica ML Python Exercise 5\n",
    "\n",
    "During this exercice, we will:\n",
    "<ul>\n",
    "    <li> Encode data using different methods\n",
    "    <li> Learn when to use the suitable encoding method\n",
    "</ul>\n",
    "## Initialization\n",
    "\n",
    "Let's create a cursor using the vertica_cursor function"
   ]
  },
  {
   "cell_type": "code",
   "execution_count": 1,
   "metadata": {
    "scrolled": true
   },
   "outputs": [],
   "source": [
    "from vertica_ml_python.utilities import vertica_cursor\n",
    "cur = vertica_cursor(\"VerticaDSN\")"
   ]
  },
  {
   "cell_type": "markdown",
   "metadata": {},
   "source": [
    "During this study, we will work with the well known Titanic dataset used in many exercises. "
   ]
  },
  {
   "cell_type": "code",
   "execution_count": 2,
   "metadata": {},
   "outputs": [
    {
     "data": {
      "text/html": [
       "<table style=\"border-collapse: collapse; border: 2px solid white\"><tr style=\"{border: 1px solid white;}\"><td style=\"border-bottom: 1px solid #DDD;font-size:1.02em;background-color:#214579;color:white\"><b></b></td><td style=\"font-size:1.02em;background-color:#214579;color:white\"><b>age</b></td><td style=\"font-size:1.02em;background-color:#214579;color:white\"><b>body</b></td><td style=\"font-size:1.02em;background-color:#214579;color:white\"><b>survived</b></td><td style=\"font-size:1.02em;background-color:#214579;color:white\"><b>ticket</b></td><td style=\"font-size:1.02em;background-color:#214579;color:white\"><b>home.dest</b></td><td style=\"font-size:1.02em;background-color:#214579;color:white\"><b>cabin</b></td><td style=\"font-size:1.02em;background-color:#214579;color:white\"><b>sex</b></td><td style=\"font-size:1.02em;background-color:#214579;color:white\"><b>pclass</b></td><td style=\"font-size:1.02em;background-color:#214579;color:white\"><b>embarked</b></td><td style=\"font-size:1.02em;background-color:#214579;color:white\"><b>parch</b></td><td style=\"font-size:1.02em;background-color:#214579;color:white\"><b>fare</b></td><td style=\"font-size:1.02em;background-color:#214579;color:white\"><b>name</b></td><td style=\"font-size:1.02em;background-color:#214579;color:white\"><b>boat</b></td><td style=\"font-size:1.02em;background-color:#214579;color:white\"><b>sibsp</b></td></tr><tr style=\"{border: 1px solid white;}\"><td style=\"border-bottom: 1px solid #DDD;font-size:1.02em;background-color:#214579;color:white\"><b>0</b></td><td style=\"border: 1px solid white;\">2.000</td><td style=\"border: 1px solid white;\">None</td><td style=\"border: 1px solid white;\">0</td><td style=\"border: 1px solid white;\">113781</td><td style=\"border: 1px solid white;\">Montreal, PQ / Chesterville, ON</td><td style=\"border: 1px solid white;\">C22 C26</td><td style=\"border: 1px solid white;\">female</td><td style=\"border: 1px solid white;\">1</td><td style=\"border: 1px solid white;\">S</td><td style=\"border: 1px solid white;\">2</td><td style=\"border: 1px solid white;\">151.55000</td><td style=\"border: 1px solid white;\">Allison, Miss. Helen Loraine</td><td style=\"border: 1px solid white;\">None</td><td style=\"border: 1px solid white;\">1</td></tr><tr style=\"{border: 1px solid white;}\"><td style=\"border-bottom: 1px solid #DDD;font-size:1.02em;background-color:#214579;color:white\"><b>1</b></td><td style=\"border: 1px solid white;\">30.000</td><td style=\"border: 1px solid white;\">135</td><td style=\"border: 1px solid white;\">0</td><td style=\"border: 1px solid white;\">113781</td><td style=\"border: 1px solid white;\">Montreal, PQ / Chesterville, ON</td><td style=\"border: 1px solid white;\">C22 C26</td><td style=\"border: 1px solid white;\">male</td><td style=\"border: 1px solid white;\">1</td><td style=\"border: 1px solid white;\">S</td><td style=\"border: 1px solid white;\">2</td><td style=\"border: 1px solid white;\">151.55000</td><td style=\"border: 1px solid white;\">Allison, Mr. Hudson Joshua Creighton</td><td style=\"border: 1px solid white;\">None</td><td style=\"border: 1px solid white;\">1</td></tr><tr style=\"{border: 1px solid white;}\"><td style=\"border-bottom: 1px solid #DDD;font-size:1.02em;background-color:#214579;color:white\"><b>2</b></td><td style=\"border: 1px solid white;\">25.000</td><td style=\"border: 1px solid white;\">None</td><td style=\"border: 1px solid white;\">0</td><td style=\"border: 1px solid white;\">113781</td><td style=\"border: 1px solid white;\">Montreal, PQ / Chesterville, ON</td><td style=\"border: 1px solid white;\">C22 C26</td><td style=\"border: 1px solid white;\">female</td><td style=\"border: 1px solid white;\">1</td><td style=\"border: 1px solid white;\">S</td><td style=\"border: 1px solid white;\">2</td><td style=\"border: 1px solid white;\">151.55000</td><td style=\"border: 1px solid white;\">Allison, Mrs. Hudson J C (Bessie Waldo Daniels)</td><td style=\"border: 1px solid white;\">None</td><td style=\"border: 1px solid white;\">1</td></tr><tr style=\"{border: 1px solid white;}\"><td style=\"border-bottom: 1px solid #DDD;font-size:1.02em;background-color:#214579;color:white\"><b>3</b></td><td style=\"border: 1px solid white;\">39.000</td><td style=\"border: 1px solid white;\">None</td><td style=\"border: 1px solid white;\">0</td><td style=\"border: 1px solid white;\">112050</td><td style=\"border: 1px solid white;\">Belfast, NI</td><td style=\"border: 1px solid white;\">A36</td><td style=\"border: 1px solid white;\">male</td><td style=\"border: 1px solid white;\">1</td><td style=\"border: 1px solid white;\">S</td><td style=\"border: 1px solid white;\">0</td><td style=\"border: 1px solid white;\">0.00000</td><td style=\"border: 1px solid white;\">Andrews, Mr. Thomas Jr</td><td style=\"border: 1px solid white;\">None</td><td style=\"border: 1px solid white;\">0</td></tr><tr style=\"{border: 1px solid white;}\"><td style=\"border-bottom: 1px solid #DDD;font-size:1.02em;background-color:#214579;color:white\"><b>4</b></td><td style=\"border: 1px solid white;\">71.000</td><td style=\"border: 1px solid white;\">22</td><td style=\"border: 1px solid white;\">0</td><td style=\"border: 1px solid white;\">PC 17609</td><td style=\"border: 1px solid white;\">Montevideo, Uruguay</td><td style=\"border: 1px solid white;\">None</td><td style=\"border: 1px solid white;\">male</td><td style=\"border: 1px solid white;\">1</td><td style=\"border: 1px solid white;\">C</td><td style=\"border: 1px solid white;\">0</td><td style=\"border: 1px solid white;\">49.50420</td><td style=\"border: 1px solid white;\">Artagaveytia, Mr. Ramon</td><td style=\"border: 1px solid white;\">None</td><td style=\"border: 1px solid white;\">0</td></tr><tr><td style=\"border-top: 1px solid white;background-color:#214579;color:white\"></td><td style=\"border: 1px solid white;\">...</td><td style=\"border: 1px solid white;\">...</td><td style=\"border: 1px solid white;\">...</td><td style=\"border: 1px solid white;\">...</td><td style=\"border: 1px solid white;\">...</td><td style=\"border: 1px solid white;\">...</td><td style=\"border: 1px solid white;\">...</td><td style=\"border: 1px solid white;\">...</td><td style=\"border: 1px solid white;\">...</td><td style=\"border: 1px solid white;\">...</td><td style=\"border: 1px solid white;\">...</td><td style=\"border: 1px solid white;\">...</td><td style=\"border: 1px solid white;\">...</td><td style=\"border: 1px solid white;\">...</td></tr></table>"
      ],
      "text/plain": [
       "<IPython.core.display.HTML object>"
      ]
     },
     "metadata": {},
     "output_type": "display_data"
    },
    {
     "name": "stdout",
     "output_type": "stream",
     "text": [
      "<object>  Name: titanic, Number of rows: 1234, Number of columns: 14\n"
     ]
    }
   ],
   "source": [
    "from vertica_ml_python import vDataframe\n",
    "titanic = vDataframe('titanic', cursor = cur)\n",
    "print(titanic)"
   ]
  },
  {
   "cell_type": "markdown",
   "metadata": {},
   "source": [
    "We already saw how to clean this dataset (deal with the missing values). We used the following commands."
   ]
  },
  {
   "cell_type": "code",
   "execution_count": 3,
   "metadata": {},
   "outputs": [
    {
     "name": "stdout",
     "output_type": "stream",
     "text": [
      "1 element was dropped\n",
      "2 elements were dropped\n",
      "794 elements were filled\n",
      "237 elements were filled\n",
      "vColumn '\"body\"' deleted from the vDataframe.\n",
      "vColumn '\"cabin\"' deleted from the vDataframe.\n",
      "526 elements were filled\n"
     ]
    },
    {
     "data": {
      "text/html": [
       "<table style=\"border-collapse: collapse; border: 2px solid white\"><tr style=\"{border: 1px solid white;}\"><td style=\"border-bottom: 1px solid #DDD;font-size:1.02em;background-color:#214579;color:white\"><b></b></td><td style=\"font-size:1.02em;background-color:#214579;color:white\"><b>age</b></td><td style=\"font-size:1.02em;background-color:#214579;color:white\"><b>survived</b></td><td style=\"font-size:1.02em;background-color:#214579;color:white\"><b>ticket</b></td><td style=\"font-size:1.02em;background-color:#214579;color:white\"><b>home.dest</b></td><td style=\"font-size:1.02em;background-color:#214579;color:white\"><b>sex</b></td><td style=\"font-size:1.02em;background-color:#214579;color:white\"><b>pclass</b></td><td style=\"font-size:1.02em;background-color:#214579;color:white\"><b>embarked</b></td><td style=\"font-size:1.02em;background-color:#214579;color:white\"><b>parch</b></td><td style=\"font-size:1.02em;background-color:#214579;color:white\"><b>fare</b></td><td style=\"font-size:1.02em;background-color:#214579;color:white\"><b>name</b></td><td style=\"font-size:1.02em;background-color:#214579;color:white\"><b>boat</b></td><td style=\"font-size:1.02em;background-color:#214579;color:white\"><b>sibsp</b></td></tr><tr style=\"{border: 1px solid white;}\"><td style=\"border-bottom: 1px solid #DDD;font-size:1.02em;background-color:#214579;color:white\"><b>0</b></td><td style=\"border: 1px solid white;\">36.0</td><td style=\"border: 1px solid white;\">1</td><td style=\"border: 1px solid white;\">17421</td><td style=\"border: 1px solid white;\">New York, NY</td><td style=\"border: 1px solid white;\">female</td><td style=\"border: 1px solid white;\">1</td><td style=\"border: 1px solid white;\">C</td><td style=\"border: 1px solid white;\">0</td><td style=\"border: 1px solid white;\">110.88330</td><td style=\"border: 1px solid white;\">Fleming, Miss. Margaret</td><td style=\"border: 1px solid white;\">1</td><td style=\"border: 1px solid white;\">0</td></tr><tr style=\"{border: 1px solid white;}\"><td style=\"border-bottom: 1px solid #DDD;font-size:1.02em;background-color:#214579;color:white\"><b>1</b></td><td style=\"border: 1px solid white;\">36.0</td><td style=\"border: 1px solid white;\">1</td><td style=\"border: 1px solid white;\">PC 17611</td><td style=\"border: 1px solid white;\">New York, NY</td><td style=\"border: 1px solid white;\">female</td><td style=\"border: 1px solid white;\">1</td><td style=\"border: 1px solid white;\">S</td><td style=\"border: 1px solid white;\">0</td><td style=\"border: 1px solid white;\">133.65000</td><td style=\"border: 1px solid white;\">Frauenthal, Mrs. Henry William (Clara Heinsheimer)</td><td style=\"border: 1px solid white;\">1</td><td style=\"border: 1px solid white;\">1</td></tr><tr style=\"{border: 1px solid white;}\"><td style=\"border-bottom: 1px solid #DDD;font-size:1.02em;background-color:#214579;color:white\"><b>2</b></td><td style=\"border: 1px solid white;\">36.0</td><td style=\"border: 1px solid white;\">1</td><td style=\"border: 1px solid white;\">PC 17604</td><td style=\"border: 1px solid white;\">New York, NY</td><td style=\"border: 1px solid white;\">female</td><td style=\"border: 1px solid white;\">1</td><td style=\"border: 1px solid white;\">C</td><td style=\"border: 1px solid white;\">0</td><td style=\"border: 1px solid white;\">82.17080</td><td style=\"border: 1px solid white;\">Meyer, Mrs. Edgar Joseph (Leila Saks)</td><td style=\"border: 1px solid white;\">1</td><td style=\"border: 1px solid white;\">1</td></tr><tr style=\"{border: 1px solid white;}\"><td style=\"border-bottom: 1px solid #DDD;font-size:1.02em;background-color:#214579;color:white\"><b>3</b></td><td style=\"border: 1px solid white;\">36.0</td><td style=\"border: 1px solid white;\">1</td><td style=\"border: 1px solid white;\">17453</td><td style=\"border: 1px solid white;\">Paris, France / New York, NY</td><td style=\"border: 1px solid white;\">female</td><td style=\"border: 1px solid white;\">1</td><td style=\"border: 1px solid white;\">C</td><td style=\"border: 1px solid white;\">0</td><td style=\"border: 1px solid white;\">89.10420</td><td style=\"border: 1px solid white;\">Goldenberg, Mrs. Samuel L (Edwiga Grabowska)</td><td style=\"border: 1px solid white;\">1</td><td style=\"border: 1px solid white;\">1</td></tr><tr style=\"{border: 1px solid white;}\"><td style=\"border-bottom: 1px solid #DDD;font-size:1.02em;background-color:#214579;color:white\"><b>4</b></td><td style=\"border: 1px solid white;\">36.0</td><td style=\"border: 1px solid white;\">1</td><td style=\"border: 1px solid white;\">19996</td><td style=\"border: 1px solid white;\">London /  East Orange, NJ</td><td style=\"border: 1px solid white;\">female</td><td style=\"border: 1px solid white;\">1</td><td style=\"border: 1px solid white;\">S</td><td style=\"border: 1px solid white;\">0</td><td style=\"border: 1px solid white;\">52.00000</td><td style=\"border: 1px solid white;\">Taylor, Mrs. Elmer Zebley (Juliet Cummins Wright)</td><td style=\"border: 1px solid white;\">1</td><td style=\"border: 1px solid white;\">1</td></tr><tr><td style=\"border-top: 1px solid white;background-color:#214579;color:white\"></td><td style=\"border: 1px solid white;\">...</td><td style=\"border: 1px solid white;\">...</td><td style=\"border: 1px solid white;\">...</td><td style=\"border: 1px solid white;\">...</td><td style=\"border: 1px solid white;\">...</td><td style=\"border: 1px solid white;\">...</td><td style=\"border: 1px solid white;\">...</td><td style=\"border: 1px solid white;\">...</td><td style=\"border: 1px solid white;\">...</td><td style=\"border: 1px solid white;\">...</td><td style=\"border: 1px solid white;\">...</td><td style=\"border: 1px solid white;\">...</td></tr></table>"
      ],
      "text/plain": [
       "<IPython.core.display.HTML object>"
      ]
     },
     "metadata": {},
     "output_type": "display_data"
    },
    {
     "data": {
      "text/plain": [
       "<object>  Name: titanic, Number of rows: 1231, Number of columns: 12"
      ]
     },
     "execution_count": 3,
     "metadata": {},
     "output_type": "execute_result"
    }
   ],
   "source": [
    "titanic[\"fare\"].dropna()\n",
    "titanic[\"embarked\"].dropna()\n",
    "titanic[\"boat\"].fillna(method = \"0ifnull\")\n",
    "titanic[\"age\"].fillna(method = \"median\", by = [\"sex\", \"pclass\"])\n",
    "titanic.drop([\"body\", \"cabin\"])\n",
    "titanic[\"home.dest\"].fillna(method = \"mode\")"
   ]
  },
  {
   "cell_type": "markdown",
   "metadata": {},
   "source": [
    "It is also possible to extract the title of the Titanic passengers from the name."
   ]
  },
  {
   "cell_type": "code",
   "execution_count": 4,
   "metadata": {},
   "outputs": [
    {
     "data": {
      "text/html": [
       "<table style=\"border-collapse: collapse; border: 2px solid white\"><tr style=\"{border: 1px solid white;}\"><td style=\"border-bottom: 1px solid #DDD;font-size:1.02em;background-color:#214579;color:white\"><b></b></td><td style=\"font-size:1.02em;background-color:#214579;color:white\"><b>age</b></td><td style=\"font-size:1.02em;background-color:#214579;color:white\"><b>survived</b></td><td style=\"font-size:1.02em;background-color:#214579;color:white\"><b>ticket</b></td><td style=\"font-size:1.02em;background-color:#214579;color:white\"><b>home.dest</b></td><td style=\"font-size:1.02em;background-color:#214579;color:white\"><b>sex</b></td><td style=\"font-size:1.02em;background-color:#214579;color:white\"><b>pclass</b></td><td style=\"font-size:1.02em;background-color:#214579;color:white\"><b>embarked</b></td><td style=\"font-size:1.02em;background-color:#214579;color:white\"><b>parch</b></td><td style=\"font-size:1.02em;background-color:#214579;color:white\"><b>fare</b></td><td style=\"font-size:1.02em;background-color:#214579;color:white\"><b>name</b></td><td style=\"font-size:1.02em;background-color:#214579;color:white\"><b>boat</b></td><td style=\"font-size:1.02em;background-color:#214579;color:white\"><b>sibsp</b></td></tr><tr style=\"{border: 1px solid white;}\"><td style=\"border-bottom: 1px solid #DDD;font-size:1.02em;background-color:#214579;color:white\"><b>0</b></td><td style=\"border: 1px solid white;\">36.0</td><td style=\"border: 1px solid white;\">1</td><td style=\"border: 1px solid white;\">17421</td><td style=\"border: 1px solid white;\">New York, NY</td><td style=\"border: 1px solid white;\">female</td><td style=\"border: 1px solid white;\">1</td><td style=\"border: 1px solid white;\">C</td><td style=\"border: 1px solid white;\">0</td><td style=\"border: 1px solid white;\">110.88330</td><td style=\"border: 1px solid white;\"> Miss.</td><td style=\"border: 1px solid white;\">1</td><td style=\"border: 1px solid white;\">0</td></tr><tr style=\"{border: 1px solid white;}\"><td style=\"border-bottom: 1px solid #DDD;font-size:1.02em;background-color:#214579;color:white\"><b>1</b></td><td style=\"border: 1px solid white;\">36.0</td><td style=\"border: 1px solid white;\">1</td><td style=\"border: 1px solid white;\">PC 17611</td><td style=\"border: 1px solid white;\">New York, NY</td><td style=\"border: 1px solid white;\">female</td><td style=\"border: 1px solid white;\">1</td><td style=\"border: 1px solid white;\">S</td><td style=\"border: 1px solid white;\">0</td><td style=\"border: 1px solid white;\">133.65000</td><td style=\"border: 1px solid white;\"> Mrs.</td><td style=\"border: 1px solid white;\">1</td><td style=\"border: 1px solid white;\">1</td></tr><tr style=\"{border: 1px solid white;}\"><td style=\"border-bottom: 1px solid #DDD;font-size:1.02em;background-color:#214579;color:white\"><b>2</b></td><td style=\"border: 1px solid white;\">36.0</td><td style=\"border: 1px solid white;\">1</td><td style=\"border: 1px solid white;\">PC 17604</td><td style=\"border: 1px solid white;\">New York, NY</td><td style=\"border: 1px solid white;\">female</td><td style=\"border: 1px solid white;\">1</td><td style=\"border: 1px solid white;\">C</td><td style=\"border: 1px solid white;\">0</td><td style=\"border: 1px solid white;\">82.17080</td><td style=\"border: 1px solid white;\"> Mrs.</td><td style=\"border: 1px solid white;\">1</td><td style=\"border: 1px solid white;\">1</td></tr><tr style=\"{border: 1px solid white;}\"><td style=\"border-bottom: 1px solid #DDD;font-size:1.02em;background-color:#214579;color:white\"><b>3</b></td><td style=\"border: 1px solid white;\">36.0</td><td style=\"border: 1px solid white;\">1</td><td style=\"border: 1px solid white;\">17453</td><td style=\"border: 1px solid white;\">Paris, France / New York, NY</td><td style=\"border: 1px solid white;\">female</td><td style=\"border: 1px solid white;\">1</td><td style=\"border: 1px solid white;\">C</td><td style=\"border: 1px solid white;\">0</td><td style=\"border: 1px solid white;\">89.10420</td><td style=\"border: 1px solid white;\"> Mrs.</td><td style=\"border: 1px solid white;\">1</td><td style=\"border: 1px solid white;\">1</td></tr><tr style=\"{border: 1px solid white;}\"><td style=\"border-bottom: 1px solid #DDD;font-size:1.02em;background-color:#214579;color:white\"><b>4</b></td><td style=\"border: 1px solid white;\">36.0</td><td style=\"border: 1px solid white;\">1</td><td style=\"border: 1px solid white;\">19996</td><td style=\"border: 1px solid white;\">London /  East Orange, NJ</td><td style=\"border: 1px solid white;\">female</td><td style=\"border: 1px solid white;\">1</td><td style=\"border: 1px solid white;\">S</td><td style=\"border: 1px solid white;\">0</td><td style=\"border: 1px solid white;\">52.00000</td><td style=\"border: 1px solid white;\"> Mrs.</td><td style=\"border: 1px solid white;\">1</td><td style=\"border: 1px solid white;\">1</td></tr><tr><td style=\"border-top: 1px solid white;background-color:#214579;color:white\"></td><td style=\"border: 1px solid white;\">...</td><td style=\"border: 1px solid white;\">...</td><td style=\"border: 1px solid white;\">...</td><td style=\"border: 1px solid white;\">...</td><td style=\"border: 1px solid white;\">...</td><td style=\"border: 1px solid white;\">...</td><td style=\"border: 1px solid white;\">...</td><td style=\"border: 1px solid white;\">...</td><td style=\"border: 1px solid white;\">...</td><td style=\"border: 1px solid white;\">...</td><td style=\"border: 1px solid white;\">...</td><td style=\"border: 1px solid white;\">...</td></tr></table>"
      ],
      "text/plain": [
       "<IPython.core.display.HTML object>"
      ]
     },
     "metadata": {},
     "output_type": "display_data"
    },
    {
     "data": {
      "text/plain": [
       "<object>  Name: titanic, Number of rows: 1231, Number of columns: 12"
      ]
     },
     "execution_count": 4,
     "metadata": {},
     "output_type": "execute_result"
    }
   ],
   "source": [
    "titanic[\"name\"].str_extract(' ([A-Za-z]+)\\.')"
   ]
  },
  {
   "cell_type": "markdown",
   "metadata": {},
   "source": [
    "## Encoding\n",
    "\n",
    "Let's explore the data by displaying descriptive statistics of all the columns."
   ]
  },
  {
   "cell_type": "code",
   "execution_count": 5,
   "metadata": {},
   "outputs": [
    {
     "data": {
      "text/html": [
       "<table style=\"border-collapse: collapse; border: 2px solid white\"><tr style=\"{border: 1px solid white;}\"><td style=\"border-bottom: 1px solid #DDD;font-size:1.02em;background-color:#214579;color:white\"><b></b></td><td style=\"font-size:1.02em;background-color:#214579;color:white\"><b>dtype</b></td><td style=\"font-size:1.02em;background-color:#214579;color:white\"><b>unique</b></td><td style=\"font-size:1.02em;background-color:#214579;color:white\"><b>count</b></td><td style=\"font-size:1.02em;background-color:#214579;color:white\"><b>top</b></td><td style=\"font-size:1.02em;background-color:#214579;color:white\"><b>top_percent</b></td></tr><tr style=\"{border: 1px solid white;}\"><td style=\"border-bottom: 1px solid #DDD;font-size:1.02em;background-color:#214579;color:white\"><b>\"age\"</b></td><td style=\"border: 1px solid white;\">float</td><td style=\"border: 1px solid white;\">96</td><td style=\"border: 1px solid white;\">1231</td><td style=\"border: 1px solid white;\">25</td><td style=\"border: 1px solid white;\">13.972</td></tr><tr style=\"{border: 1px solid white;}\"><td style=\"border-bottom: 1px solid #DDD;font-size:1.02em;background-color:#214579;color:white\"><b>\"survived\"</b></td><td style=\"border: 1px solid white;\">int</td><td style=\"border: 1px solid white;\">2</td><td style=\"border: 1px solid white;\">1231</td><td style=\"border: 1px solid white;\">0</td><td style=\"border: 1px solid white;\">63.607</td></tr><tr style=\"{border: 1px solid white;}\"><td style=\"border-bottom: 1px solid #DDD;font-size:1.02em;background-color:#214579;color:white\"><b>\"ticket\"</b></td><td style=\"border: 1px solid white;\">varchar(36)</td><td style=\"border: 1px solid white;\">885</td><td style=\"border: 1px solid white;\">1231</td><td style=\"border: 1px solid white;\">CA. 2343</td><td style=\"border: 1px solid white;\">0.812</td></tr><tr style=\"{border: 1px solid white;}\"><td style=\"border-bottom: 1px solid #DDD;font-size:1.02em;background-color:#214579;color:white\"><b>\"home.dest\"</b></td><td style=\"border: 1px solid white;\">varchar(100)</td><td style=\"border: 1px solid white;\">358</td><td style=\"border: 1px solid white;\">1231</td><td style=\"border: 1px solid white;\">New York, NY</td><td style=\"border: 1px solid white;\">47.766</td></tr><tr style=\"{border: 1px solid white;}\"><td style=\"border-bottom: 1px solid #DDD;font-size:1.02em;background-color:#214579;color:white\"><b>\"sex\"</b></td><td style=\"border: 1px solid white;\">varchar(20)</td><td style=\"border: 1px solid white;\">2</td><td style=\"border: 1px solid white;\">1231</td><td style=\"border: 1px solid white;\">male</td><td style=\"border: 1px solid white;\">66.044</td></tr><tr style=\"{border: 1px solid white;}\"><td style=\"border-bottom: 1px solid #DDD;font-size:1.02em;background-color:#214579;color:white\"><b>\"pclass\"</b></td><td style=\"border: 1px solid white;\">int</td><td style=\"border: 1px solid white;\">3</td><td style=\"border: 1px solid white;\">1231</td><td style=\"border: 1px solid white;\">3</td><td style=\"border: 1px solid white;\">53.777</td></tr><tr style=\"{border: 1px solid white;}\"><td style=\"border-bottom: 1px solid #DDD;font-size:1.02em;background-color:#214579;color:white\"><b>\"embarked\"</b></td><td style=\"border: 1px solid white;\">varchar(20)</td><td style=\"border: 1px solid white;\">3</td><td style=\"border: 1px solid white;\">1231</td><td style=\"border: 1px solid white;\">S</td><td style=\"border: 1px solid white;\">70.837</td></tr><tr style=\"{border: 1px solid white;}\"><td style=\"border-bottom: 1px solid #DDD;font-size:1.02em;background-color:#214579;color:white\"><b>\"parch\"</b></td><td style=\"border: 1px solid white;\">int</td><td style=\"border: 1px solid white;\">8</td><td style=\"border: 1px solid white;\">1231</td><td style=\"border: 1px solid white;\">0</td><td style=\"border: 1px solid white;\">76.848</td></tr><tr style=\"{border: 1px solid white;}\"><td style=\"border-bottom: 1px solid #DDD;font-size:1.02em;background-color:#214579;color:white\"><b>\"fare\"</b></td><td style=\"border: 1px solid white;\">numeric(10,5)</td><td style=\"border: 1px solid white;\">276</td><td style=\"border: 1px solid white;\">1231</td><td style=\"border: 1px solid white;\">8.05000</td><td style=\"border: 1px solid white;\">4.712</td></tr><tr style=\"{border: 1px solid white;}\"><td style=\"border-bottom: 1px solid #DDD;font-size:1.02em;background-color:#214579;color:white\"><b>\"name\"</b></td><td style=\"border: 1px solid white;\">varchar(164)</td><td style=\"border: 1px solid white;\">16</td><td style=\"border: 1px solid white;\">1231</td><td style=\"border: 1px solid white;\"> Mr.</td><td style=\"border: 1px solid white;\">59.545</td></tr><tr style=\"{border: 1px solid white;}\"><td style=\"border-bottom: 1px solid #DDD;font-size:1.02em;background-color:#214579;color:white\"><b>\"boat\"</b></td><td style=\"border: 1px solid white;\">bool</td><td style=\"border: 1px solid white;\">2</td><td style=\"border: 1px solid white;\">1231</td><td style=\"border: 1px solid white;\">0</td><td style=\"border: 1px solid white;\">64.5</td></tr><tr style=\"{border: 1px solid white;}\"><td style=\"border-bottom: 1px solid #DDD;font-size:1.02em;background-color:#214579;color:white\"><b>\"sibsp\"</b></td><td style=\"border: 1px solid white;\">int</td><td style=\"border: 1px solid white;\">7</td><td style=\"border: 1px solid white;\">1231</td><td style=\"border: 1px solid white;\">0</td><td style=\"border: 1px solid white;\">67.669</td></tr></table>"
      ],
      "text/plain": [
       "<IPython.core.display.HTML object>"
      ]
     },
     "metadata": {},
     "output_type": "display_data"
    },
    {
     "data": {
      "text/plain": [
       "<object>"
      ]
     },
     "execution_count": 5,
     "metadata": {},
     "output_type": "execute_result"
    }
   ],
   "source": [
    "titanic.describe(method = \"categorical\")"
   ]
  },
  {
   "cell_type": "markdown",
   "metadata": {},
   "source": [
    "Many features are categorical and need to be encoded first. Let's start with the simplest ones."
   ]
  },
  {
   "cell_type": "markdown",
   "metadata": {},
   "source": [
    "<b>Question 1: </b>The feature 'sex' has two non-numerical categories. Use a label encoding to encode it."
   ]
  },
  {
   "cell_type": "code",
   "execution_count": 6,
   "metadata": {},
   "outputs": [
    {
     "data": {
      "text/html": [
       "<table style=\"border-collapse: collapse; border: 2px solid white\"><tr style=\"{border: 1px solid white;}\"><td style=\"border-bottom: 1px solid #DDD;font-size:1.02em;background-color:#214579;color:white\"><b></b></td><td style=\"font-size:1.02em;background-color:#214579;color:white\"><b>age</b></td><td style=\"font-size:1.02em;background-color:#214579;color:white\"><b>survived</b></td><td style=\"font-size:1.02em;background-color:#214579;color:white\"><b>ticket</b></td><td style=\"font-size:1.02em;background-color:#214579;color:white\"><b>home.dest</b></td><td style=\"font-size:1.02em;background-color:#214579;color:white\"><b>sex</b></td><td style=\"font-size:1.02em;background-color:#214579;color:white\"><b>pclass</b></td><td style=\"font-size:1.02em;background-color:#214579;color:white\"><b>embarked</b></td><td style=\"font-size:1.02em;background-color:#214579;color:white\"><b>parch</b></td><td style=\"font-size:1.02em;background-color:#214579;color:white\"><b>fare</b></td><td style=\"font-size:1.02em;background-color:#214579;color:white\"><b>name</b></td><td style=\"font-size:1.02em;background-color:#214579;color:white\"><b>boat</b></td><td style=\"font-size:1.02em;background-color:#214579;color:white\"><b>sibsp</b></td></tr><tr style=\"{border: 1px solid white;}\"><td style=\"border-bottom: 1px solid #DDD;font-size:1.02em;background-color:#214579;color:white\"><b>0</b></td><td style=\"border: 1px solid white;\">36.0</td><td style=\"border: 1px solid white;\">1</td><td style=\"border: 1px solid white;\">17421</td><td style=\"border: 1px solid white;\">New York, NY</td><td style=\"border: 1px solid white;\">0</td><td style=\"border: 1px solid white;\">1</td><td style=\"border: 1px solid white;\">C</td><td style=\"border: 1px solid white;\">0</td><td style=\"border: 1px solid white;\">110.88330</td><td style=\"border: 1px solid white;\"> Miss.</td><td style=\"border: 1px solid white;\">1</td><td style=\"border: 1px solid white;\">0</td></tr><tr style=\"{border: 1px solid white;}\"><td style=\"border-bottom: 1px solid #DDD;font-size:1.02em;background-color:#214579;color:white\"><b>1</b></td><td style=\"border: 1px solid white;\">36.0</td><td style=\"border: 1px solid white;\">1</td><td style=\"border: 1px solid white;\">PC 17611</td><td style=\"border: 1px solid white;\">New York, NY</td><td style=\"border: 1px solid white;\">0</td><td style=\"border: 1px solid white;\">1</td><td style=\"border: 1px solid white;\">S</td><td style=\"border: 1px solid white;\">0</td><td style=\"border: 1px solid white;\">133.65000</td><td style=\"border: 1px solid white;\"> Mrs.</td><td style=\"border: 1px solid white;\">1</td><td style=\"border: 1px solid white;\">1</td></tr><tr style=\"{border: 1px solid white;}\"><td style=\"border-bottom: 1px solid #DDD;font-size:1.02em;background-color:#214579;color:white\"><b>2</b></td><td style=\"border: 1px solid white;\">36.0</td><td style=\"border: 1px solid white;\">1</td><td style=\"border: 1px solid white;\">PC 17604</td><td style=\"border: 1px solid white;\">New York, NY</td><td style=\"border: 1px solid white;\">0</td><td style=\"border: 1px solid white;\">1</td><td style=\"border: 1px solid white;\">C</td><td style=\"border: 1px solid white;\">0</td><td style=\"border: 1px solid white;\">82.17080</td><td style=\"border: 1px solid white;\"> Mrs.</td><td style=\"border: 1px solid white;\">1</td><td style=\"border: 1px solid white;\">1</td></tr><tr style=\"{border: 1px solid white;}\"><td style=\"border-bottom: 1px solid #DDD;font-size:1.02em;background-color:#214579;color:white\"><b>3</b></td><td style=\"border: 1px solid white;\">36.0</td><td style=\"border: 1px solid white;\">1</td><td style=\"border: 1px solid white;\">17453</td><td style=\"border: 1px solid white;\">Paris, France / New York, NY</td><td style=\"border: 1px solid white;\">0</td><td style=\"border: 1px solid white;\">1</td><td style=\"border: 1px solid white;\">C</td><td style=\"border: 1px solid white;\">0</td><td style=\"border: 1px solid white;\">89.10420</td><td style=\"border: 1px solid white;\"> Mrs.</td><td style=\"border: 1px solid white;\">1</td><td style=\"border: 1px solid white;\">1</td></tr><tr style=\"{border: 1px solid white;}\"><td style=\"border-bottom: 1px solid #DDD;font-size:1.02em;background-color:#214579;color:white\"><b>4</b></td><td style=\"border: 1px solid white;\">36.0</td><td style=\"border: 1px solid white;\">1</td><td style=\"border: 1px solid white;\">19996</td><td style=\"border: 1px solid white;\">London /  East Orange, NJ</td><td style=\"border: 1px solid white;\">0</td><td style=\"border: 1px solid white;\">1</td><td style=\"border: 1px solid white;\">S</td><td style=\"border: 1px solid white;\">0</td><td style=\"border: 1px solid white;\">52.00000</td><td style=\"border: 1px solid white;\"> Mrs.</td><td style=\"border: 1px solid white;\">1</td><td style=\"border: 1px solid white;\">1</td></tr><tr><td style=\"border-top: 1px solid white;background-color:#214579;color:white\"></td><td style=\"border: 1px solid white;\">...</td><td style=\"border: 1px solid white;\">...</td><td style=\"border: 1px solid white;\">...</td><td style=\"border: 1px solid white;\">...</td><td style=\"border: 1px solid white;\">...</td><td style=\"border: 1px solid white;\">...</td><td style=\"border: 1px solid white;\">...</td><td style=\"border: 1px solid white;\">...</td><td style=\"border: 1px solid white;\">...</td><td style=\"border: 1px solid white;\">...</td><td style=\"border: 1px solid white;\">...</td><td style=\"border: 1px solid white;\">...</td></tr></table>"
      ],
      "text/plain": [
       "<IPython.core.display.HTML object>"
      ]
     },
     "metadata": {},
     "output_type": "display_data"
    },
    {
     "data": {
      "text/plain": [
       "<object>  Name: titanic, Number of rows: 1231, Number of columns: 12"
      ]
     },
     "execution_count": 6,
     "metadata": {},
     "output_type": "execute_result"
    }
   ],
   "source": [
    "titanic[\"sex\"].label_encode()"
   ]
  },
  {
   "cell_type": "markdown",
   "metadata": {},
   "source": [
    "<b>Question 2: </b>The feature 'embarked' has 3 categories. Why is it more judicious to use a One Hot Encoding to encode it? Encode this feature."
   ]
  },
  {
   "cell_type": "code",
   "execution_count": 7,
   "metadata": {},
   "outputs": [
    {
     "name": "stdout",
     "output_type": "stream",
     "text": [
      "3 new features: \"embarked_C\", \"embarked_Q\", \"embarked_S\"\n"
     ]
    },
    {
     "data": {
      "text/html": [
       "<table style=\"border-collapse: collapse; border: 2px solid white\"><tr style=\"{border: 1px solid white;}\"><td style=\"border-bottom: 1px solid #DDD;font-size:1.02em;background-color:#214579;color:white\"><b></b></td><td style=\"font-size:1.02em;background-color:#214579;color:white\"><b>age</b></td><td style=\"font-size:1.02em;background-color:#214579;color:white\"><b>survived</b></td><td style=\"font-size:1.02em;background-color:#214579;color:white\"><b>ticket</b></td><td style=\"font-size:1.02em;background-color:#214579;color:white\"><b>home.dest</b></td><td style=\"font-size:1.02em;background-color:#214579;color:white\"><b>sex</b></td><td style=\"font-size:1.02em;background-color:#214579;color:white\"><b>pclass</b></td><td style=\"font-size:1.02em;background-color:#214579;color:white\"><b>embarked</b></td><td style=\"font-size:1.02em;background-color:#214579;color:white\"><b>parch</b></td><td style=\"font-size:1.02em;background-color:#214579;color:white\"><b>fare</b></td><td style=\"font-size:1.02em;background-color:#214579;color:white\"><b>name</b></td><td style=\"font-size:1.02em;background-color:#214579;color:white\"><b>boat</b></td><td style=\"font-size:1.02em;background-color:#214579;color:white\"><b>sibsp</b></td><td style=\"font-size:1.02em;background-color:#214579;color:white\"><b>embarked_C</b></td><td style=\"font-size:1.02em;background-color:#214579;color:white\"><b>embarked_Q</b></td><td style=\"font-size:1.02em;background-color:#214579;color:white\"><b>embarked_S</b></td></tr><tr style=\"{border: 1px solid white;}\"><td style=\"border-bottom: 1px solid #DDD;font-size:1.02em;background-color:#214579;color:white\"><b>0</b></td><td style=\"border: 1px solid white;\">36.0</td><td style=\"border: 1px solid white;\">1</td><td style=\"border: 1px solid white;\">17421</td><td style=\"border: 1px solid white;\">New York, NY</td><td style=\"border: 1px solid white;\">0</td><td style=\"border: 1px solid white;\">1</td><td style=\"border: 1px solid white;\">C</td><td style=\"border: 1px solid white;\">0</td><td style=\"border: 1px solid white;\">110.88330</td><td style=\"border: 1px solid white;\"> Miss.</td><td style=\"border: 1px solid white;\">1</td><td style=\"border: 1px solid white;\">0</td><td style=\"border: 1px solid white;\">1</td><td style=\"border: 1px solid white;\">0</td><td style=\"border: 1px solid white;\">0</td></tr><tr style=\"{border: 1px solid white;}\"><td style=\"border-bottom: 1px solid #DDD;font-size:1.02em;background-color:#214579;color:white\"><b>1</b></td><td style=\"border: 1px solid white;\">36.0</td><td style=\"border: 1px solid white;\">1</td><td style=\"border: 1px solid white;\">PC 17611</td><td style=\"border: 1px solid white;\">New York, NY</td><td style=\"border: 1px solid white;\">0</td><td style=\"border: 1px solid white;\">1</td><td style=\"border: 1px solid white;\">S</td><td style=\"border: 1px solid white;\">0</td><td style=\"border: 1px solid white;\">133.65000</td><td style=\"border: 1px solid white;\"> Mrs.</td><td style=\"border: 1px solid white;\">1</td><td style=\"border: 1px solid white;\">1</td><td style=\"border: 1px solid white;\">0</td><td style=\"border: 1px solid white;\">0</td><td style=\"border: 1px solid white;\">1</td></tr><tr style=\"{border: 1px solid white;}\"><td style=\"border-bottom: 1px solid #DDD;font-size:1.02em;background-color:#214579;color:white\"><b>2</b></td><td style=\"border: 1px solid white;\">36.0</td><td style=\"border: 1px solid white;\">1</td><td style=\"border: 1px solid white;\">PC 17604</td><td style=\"border: 1px solid white;\">New York, NY</td><td style=\"border: 1px solid white;\">0</td><td style=\"border: 1px solid white;\">1</td><td style=\"border: 1px solid white;\">C</td><td style=\"border: 1px solid white;\">0</td><td style=\"border: 1px solid white;\">82.17080</td><td style=\"border: 1px solid white;\"> Mrs.</td><td style=\"border: 1px solid white;\">1</td><td style=\"border: 1px solid white;\">1</td><td style=\"border: 1px solid white;\">1</td><td style=\"border: 1px solid white;\">0</td><td style=\"border: 1px solid white;\">0</td></tr><tr style=\"{border: 1px solid white;}\"><td style=\"border-bottom: 1px solid #DDD;font-size:1.02em;background-color:#214579;color:white\"><b>3</b></td><td style=\"border: 1px solid white;\">36.0</td><td style=\"border: 1px solid white;\">1</td><td style=\"border: 1px solid white;\">17453</td><td style=\"border: 1px solid white;\">Paris, France / New York, NY</td><td style=\"border: 1px solid white;\">0</td><td style=\"border: 1px solid white;\">1</td><td style=\"border: 1px solid white;\">C</td><td style=\"border: 1px solid white;\">0</td><td style=\"border: 1px solid white;\">89.10420</td><td style=\"border: 1px solid white;\"> Mrs.</td><td style=\"border: 1px solid white;\">1</td><td style=\"border: 1px solid white;\">1</td><td style=\"border: 1px solid white;\">1</td><td style=\"border: 1px solid white;\">0</td><td style=\"border: 1px solid white;\">0</td></tr><tr style=\"{border: 1px solid white;}\"><td style=\"border-bottom: 1px solid #DDD;font-size:1.02em;background-color:#214579;color:white\"><b>4</b></td><td style=\"border: 1px solid white;\">36.0</td><td style=\"border: 1px solid white;\">1</td><td style=\"border: 1px solid white;\">19996</td><td style=\"border: 1px solid white;\">London /  East Orange, NJ</td><td style=\"border: 1px solid white;\">0</td><td style=\"border: 1px solid white;\">1</td><td style=\"border: 1px solid white;\">S</td><td style=\"border: 1px solid white;\">0</td><td style=\"border: 1px solid white;\">52.00000</td><td style=\"border: 1px solid white;\"> Mrs.</td><td style=\"border: 1px solid white;\">1</td><td style=\"border: 1px solid white;\">1</td><td style=\"border: 1px solid white;\">0</td><td style=\"border: 1px solid white;\">0</td><td style=\"border: 1px solid white;\">1</td></tr><tr><td style=\"border-top: 1px solid white;background-color:#214579;color:white\"></td><td style=\"border: 1px solid white;\">...</td><td style=\"border: 1px solid white;\">...</td><td style=\"border: 1px solid white;\">...</td><td style=\"border: 1px solid white;\">...</td><td style=\"border: 1px solid white;\">...</td><td style=\"border: 1px solid white;\">...</td><td style=\"border: 1px solid white;\">...</td><td style=\"border: 1px solid white;\">...</td><td style=\"border: 1px solid white;\">...</td><td style=\"border: 1px solid white;\">...</td><td style=\"border: 1px solid white;\">...</td><td style=\"border: 1px solid white;\">...</td><td style=\"border: 1px solid white;\">...</td><td style=\"border: 1px solid white;\">...</td><td style=\"border: 1px solid white;\">...</td></tr></table>"
      ],
      "text/plain": [
       "<IPython.core.display.HTML object>"
      ]
     },
     "metadata": {},
     "output_type": "display_data"
    },
    {
     "data": {
      "text/plain": [
       "<object>  Name: titanic, Number of rows: 1231, Number of columns: 15"
      ]
     },
     "execution_count": 7,
     "metadata": {},
     "output_type": "execute_result"
    }
   ],
   "source": [
    "titanic[\"embarked\"].get_dummies()"
   ]
  },
  {
   "cell_type": "markdown",
   "metadata": {},
   "source": [
    "<p style=\"color:red\">The cardinality of this feature is small. One Hot Encoding is ideal for this type of feature.</p>"
   ]
  },
  {
   "cell_type": "markdown",
   "metadata": {},
   "source": [
    "<b>Question 3: </b>The feature 'name' which now represents the title of the passengers. Describe it and find the most occurrent categories."
   ]
  },
  {
   "cell_type": "code",
   "execution_count": 8,
   "metadata": {},
   "outputs": [
    {
     "data": {
      "text/html": [
       "<table style=\"border-collapse: collapse; border: 2px solid white\"><tr style=\"{border: 1px solid white;}\"><td style=\"border-bottom: 1px solid #DDD;font-size:1.02em;background-color:#214579;color:white\"><b></b></td><td style=\"font-size:1.02em;background-color:#214579;color:white\"><b>value</b></td></tr><tr style=\"{border: 1px solid white;}\"><td style=\"border-bottom: 1px solid #DDD;font-size:1.02em;background-color:#214579;color:white\"><b>name</b></td><td style=\"border: 1px solid white;\">\"name\"</td></tr><tr style=\"{border: 1px solid white;}\"><td style=\"border-bottom: 1px solid #DDD;font-size:1.02em;background-color:#214579;color:white\"><b>dtype</b></td><td style=\"border: 1px solid white;\">varchar(164)</td></tr><tr style=\"{border: 1px solid white;}\"><td style=\"border-bottom: 1px solid #DDD;font-size:1.02em;background-color:#214579;color:white\"><b>unique</b></td><td style=\"border: 1px solid white;\">16</td></tr><tr style=\"{border: 1px solid white;}\"><td style=\"border-bottom: 1px solid #DDD;font-size:1.02em;background-color:#214579;color:white\"><b> Mr.</b></td><td style=\"border: 1px solid white;\">733</td></tr><tr style=\"{border: 1px solid white;}\"><td style=\"border-bottom: 1px solid #DDD;font-size:1.02em;background-color:#214579;color:white\"><b> Miss.</b></td><td style=\"border: 1px solid white;\">227</td></tr><tr style=\"{border: 1px solid white;}\"><td style=\"border-bottom: 1px solid #DDD;font-size:1.02em;background-color:#214579;color:white\"><b> Mrs.</b></td><td style=\"border: 1px solid white;\">184</td></tr><tr style=\"{border: 1px solid white;}\"><td style=\"border-bottom: 1px solid #DDD;font-size:1.02em;background-color:#214579;color:white\"><b> Master.</b></td><td style=\"border: 1px solid white;\">56</td></tr><tr style=\"{border: 1px solid white;}\"><td style=\"border-bottom: 1px solid #DDD;font-size:1.02em;background-color:#214579;color:white\"><b>Others</b></td><td style=\"border: 1px solid white;\">11</td></tr><tr style=\"{border: 1px solid white;}\"><td style=\"border-bottom: 1px solid #DDD;font-size:1.02em;background-color:#214579;color:white\"><b> Dr.</b></td><td style=\"border: 1px solid white;\">8</td></tr><tr style=\"{border: 1px solid white;}\"><td style=\"border-bottom: 1px solid #DDD;font-size:1.02em;background-color:#214579;color:white\"><b> Rev.</b></td><td style=\"border: 1px solid white;\">8</td></tr></table>"
      ],
      "text/plain": [
       "<IPython.core.display.HTML object>"
      ]
     },
     "metadata": {},
     "output_type": "display_data"
    },
    {
     "data": {
      "text/plain": [
       "<object>"
      ]
     },
     "execution_count": 8,
     "metadata": {},
     "output_type": "execute_result"
    }
   ],
   "source": [
    "titanic[\"name\"].describe()"
   ]
  },
  {
   "cell_type": "markdown",
   "metadata": {},
   "source": [
    "<p style=\"color:red\">The main categories are 'Mr', 'Miss', 'Mrs' and 'Master'. It is important to merge all the other categories together as ML loves to identify patterns. If a category is not very occurent and where the response is the same, the models will tend to always predict with the same output.</p>"
   ]
  },
  {
   "cell_type": "markdown",
   "metadata": {},
   "source": [
    "<b>Question 4: </b>Machine Learning doesn't like too many categories. Encode the data by combining all the rare categories together. "
   ]
  },
  {
   "cell_type": "code",
   "execution_count": 9,
   "metadata": {},
   "outputs": [
    {
     "data": {
      "text/html": [
       "<table style=\"border-collapse: collapse; border: 2px solid white\"><tr style=\"{border: 1px solid white;}\"><td style=\"border-bottom: 1px solid #DDD;font-size:1.02em;background-color:#214579;color:white\"><b></b></td><td style=\"font-size:1.02em;background-color:#214579;color:white\"><b>age</b></td><td style=\"font-size:1.02em;background-color:#214579;color:white\"><b>survived</b></td><td style=\"font-size:1.02em;background-color:#214579;color:white\"><b>ticket</b></td><td style=\"font-size:1.02em;background-color:#214579;color:white\"><b>home.dest</b></td><td style=\"font-size:1.02em;background-color:#214579;color:white\"><b>sex</b></td><td style=\"font-size:1.02em;background-color:#214579;color:white\"><b>pclass</b></td><td style=\"font-size:1.02em;background-color:#214579;color:white\"><b>embarked</b></td><td style=\"font-size:1.02em;background-color:#214579;color:white\"><b>parch</b></td><td style=\"font-size:1.02em;background-color:#214579;color:white\"><b>fare</b></td><td style=\"font-size:1.02em;background-color:#214579;color:white\"><b>name</b></td><td style=\"font-size:1.02em;background-color:#214579;color:white\"><b>boat</b></td><td style=\"font-size:1.02em;background-color:#214579;color:white\"><b>sibsp</b></td><td style=\"font-size:1.02em;background-color:#214579;color:white\"><b>embarked_C</b></td><td style=\"font-size:1.02em;background-color:#214579;color:white\"><b>embarked_Q</b></td><td style=\"font-size:1.02em;background-color:#214579;color:white\"><b>embarked_S</b></td></tr><tr style=\"{border: 1px solid white;}\"><td style=\"border-bottom: 1px solid #DDD;font-size:1.02em;background-color:#214579;color:white\"><b>0</b></td><td style=\"border: 1px solid white;\">36.0</td><td style=\"border: 1px solid white;\">1</td><td style=\"border: 1px solid white;\">17421</td><td style=\"border: 1px solid white;\">New York, NY</td><td style=\"border: 1px solid white;\">0</td><td style=\"border: 1px solid white;\">1</td><td style=\"border: 1px solid white;\">C</td><td style=\"border: 1px solid white;\">0</td><td style=\"border: 1px solid white;\">110.88330</td><td style=\"border: 1px solid white;\">Miss</td><td style=\"border: 1px solid white;\">1</td><td style=\"border: 1px solid white;\">0</td><td style=\"border: 1px solid white;\">1</td><td style=\"border: 1px solid white;\">0</td><td style=\"border: 1px solid white;\">0</td></tr><tr style=\"{border: 1px solid white;}\"><td style=\"border-bottom: 1px solid #DDD;font-size:1.02em;background-color:#214579;color:white\"><b>1</b></td><td style=\"border: 1px solid white;\">36.0</td><td style=\"border: 1px solid white;\">1</td><td style=\"border: 1px solid white;\">PC 17611</td><td style=\"border: 1px solid white;\">New York, NY</td><td style=\"border: 1px solid white;\">0</td><td style=\"border: 1px solid white;\">1</td><td style=\"border: 1px solid white;\">S</td><td style=\"border: 1px solid white;\">0</td><td style=\"border: 1px solid white;\">133.65000</td><td style=\"border: 1px solid white;\">Mrs</td><td style=\"border: 1px solid white;\">1</td><td style=\"border: 1px solid white;\">1</td><td style=\"border: 1px solid white;\">0</td><td style=\"border: 1px solid white;\">0</td><td style=\"border: 1px solid white;\">1</td></tr><tr style=\"{border: 1px solid white;}\"><td style=\"border-bottom: 1px solid #DDD;font-size:1.02em;background-color:#214579;color:white\"><b>2</b></td><td style=\"border: 1px solid white;\">36.0</td><td style=\"border: 1px solid white;\">1</td><td style=\"border: 1px solid white;\">PC 17604</td><td style=\"border: 1px solid white;\">New York, NY</td><td style=\"border: 1px solid white;\">0</td><td style=\"border: 1px solid white;\">1</td><td style=\"border: 1px solid white;\">C</td><td style=\"border: 1px solid white;\">0</td><td style=\"border: 1px solid white;\">82.17080</td><td style=\"border: 1px solid white;\">Mrs</td><td style=\"border: 1px solid white;\">1</td><td style=\"border: 1px solid white;\">1</td><td style=\"border: 1px solid white;\">1</td><td style=\"border: 1px solid white;\">0</td><td style=\"border: 1px solid white;\">0</td></tr><tr style=\"{border: 1px solid white;}\"><td style=\"border-bottom: 1px solid #DDD;font-size:1.02em;background-color:#214579;color:white\"><b>3</b></td><td style=\"border: 1px solid white;\">36.0</td><td style=\"border: 1px solid white;\">1</td><td style=\"border: 1px solid white;\">17453</td><td style=\"border: 1px solid white;\">Paris, France / New York, NY</td><td style=\"border: 1px solid white;\">0</td><td style=\"border: 1px solid white;\">1</td><td style=\"border: 1px solid white;\">C</td><td style=\"border: 1px solid white;\">0</td><td style=\"border: 1px solid white;\">89.10420</td><td style=\"border: 1px solid white;\">Mrs</td><td style=\"border: 1px solid white;\">1</td><td style=\"border: 1px solid white;\">1</td><td style=\"border: 1px solid white;\">1</td><td style=\"border: 1px solid white;\">0</td><td style=\"border: 1px solid white;\">0</td></tr><tr style=\"{border: 1px solid white;}\"><td style=\"border-bottom: 1px solid #DDD;font-size:1.02em;background-color:#214579;color:white\"><b>4</b></td><td style=\"border: 1px solid white;\">36.0</td><td style=\"border: 1px solid white;\">1</td><td style=\"border: 1px solid white;\">19996</td><td style=\"border: 1px solid white;\">London /  East Orange, NJ</td><td style=\"border: 1px solid white;\">0</td><td style=\"border: 1px solid white;\">1</td><td style=\"border: 1px solid white;\">S</td><td style=\"border: 1px solid white;\">0</td><td style=\"border: 1px solid white;\">52.00000</td><td style=\"border: 1px solid white;\">Mrs</td><td style=\"border: 1px solid white;\">1</td><td style=\"border: 1px solid white;\">1</td><td style=\"border: 1px solid white;\">0</td><td style=\"border: 1px solid white;\">0</td><td style=\"border: 1px solid white;\">1</td></tr><tr><td style=\"border-top: 1px solid white;background-color:#214579;color:white\"></td><td style=\"border: 1px solid white;\">...</td><td style=\"border: 1px solid white;\">...</td><td style=\"border: 1px solid white;\">...</td><td style=\"border: 1px solid white;\">...</td><td style=\"border: 1px solid white;\">...</td><td style=\"border: 1px solid white;\">...</td><td style=\"border: 1px solid white;\">...</td><td style=\"border: 1px solid white;\">...</td><td style=\"border: 1px solid white;\">...</td><td style=\"border: 1px solid white;\">...</td><td style=\"border: 1px solid white;\">...</td><td style=\"border: 1px solid white;\">...</td><td style=\"border: 1px solid white;\">...</td><td style=\"border: 1px solid white;\">...</td><td style=\"border: 1px solid white;\">...</td></tr></table>"
      ],
      "text/plain": [
       "<IPython.core.display.HTML object>"
      ]
     },
     "metadata": {},
     "output_type": "display_data"
    },
    {
     "data": {
      "text/plain": [
       "<object>  Name: titanic, Number of rows: 1231, Number of columns: 15"
      ]
     },
     "execution_count": 9,
     "metadata": {},
     "output_type": "execute_result"
    }
   ],
   "source": [
    "titanic[\"name\"].decode({\" Mr.\": \"Mr\", \" Miss.\": \"Miss\", \" Mrs.\": \"Mrs\", \" Master.\": \"Master\"}, \"Rare\")"
   ]
  },
  {
   "cell_type": "markdown",
   "metadata": {},
   "source": [
    "<b>Question 5: </b>As we need numerical values, mean encoding can be a way to encode the result. We want to predict the passengers survival. The response is then the feature 'survived'. Use a mean encoding to encode the feature obtained in the previous question."
   ]
  },
  {
   "cell_type": "code",
   "execution_count": 10,
   "metadata": {},
   "outputs": [
    {
     "name": "stdout",
     "output_type": "stream",
     "text": [
      "The mean encoding was successfully done.\n"
     ]
    },
    {
     "data": {
      "text/html": [
       "<table style=\"border-collapse: collapse; border: 2px solid white\"><tr style=\"{border: 1px solid white;}\"><td style=\"border-bottom: 1px solid #DDD;font-size:1.02em;background-color:#214579;color:white\"><b></b></td><td style=\"font-size:1.02em;background-color:#214579;color:white\"><b>age</b></td><td style=\"font-size:1.02em;background-color:#214579;color:white\"><b>survived</b></td><td style=\"font-size:1.02em;background-color:#214579;color:white\"><b>ticket</b></td><td style=\"font-size:1.02em;background-color:#214579;color:white\"><b>home.dest</b></td><td style=\"font-size:1.02em;background-color:#214579;color:white\"><b>sex</b></td><td style=\"font-size:1.02em;background-color:#214579;color:white\"><b>pclass</b></td><td style=\"font-size:1.02em;background-color:#214579;color:white\"><b>embarked</b></td><td style=\"font-size:1.02em;background-color:#214579;color:white\"><b>parch</b></td><td style=\"font-size:1.02em;background-color:#214579;color:white\"><b>fare</b></td><td style=\"font-size:1.02em;background-color:#214579;color:white\"><b>name</b></td><td style=\"font-size:1.02em;background-color:#214579;color:white\"><b>boat</b></td><td style=\"font-size:1.02em;background-color:#214579;color:white\"><b>sibsp</b></td><td style=\"font-size:1.02em;background-color:#214579;color:white\"><b>embarked_C</b></td><td style=\"font-size:1.02em;background-color:#214579;color:white\"><b>embarked_Q</b></td><td style=\"font-size:1.02em;background-color:#214579;color:white\"><b>embarked_S</b></td></tr><tr style=\"{border: 1px solid white;}\"><td style=\"border-bottom: 1px solid #DDD;font-size:1.02em;background-color:#214579;color:white\"><b>0</b></td><td style=\"border: 1px solid white;\">14.5</td><td style=\"border: 1px solid white;\">0</td><td style=\"border: 1px solid white;\">CA. 2343</td><td style=\"border: 1px solid white;\">New York, NY</td><td style=\"border: 1px solid white;\">1</td><td style=\"border: 1px solid white;\">3</td><td style=\"border: 1px solid white;\">S</td><td style=\"border: 1px solid white;\">2</td><td style=\"border: 1px solid white;\">69.55000</td><td style=\"border: 1px solid white;\">0.482142857142857</td><td style=\"border: 1px solid white;\">0</td><td style=\"border: 1px solid white;\">8</td><td style=\"border: 1px solid white;\">0</td><td style=\"border: 1px solid white;\">0</td><td style=\"border: 1px solid white;\">1</td></tr><tr style=\"{border: 1px solid white;}\"><td style=\"border-bottom: 1px solid #DDD;font-size:1.02em;background-color:#214579;color:white\"><b>1</b></td><td style=\"border: 1px solid white;\">13.0</td><td style=\"border: 1px solid white;\">0</td><td style=\"border: 1px solid white;\">C.A. 2673</td><td style=\"border: 1px solid white;\">East Providence, RI</td><td style=\"border: 1px solid white;\">1</td><td style=\"border: 1px solid white;\">3</td><td style=\"border: 1px solid white;\">S</td><td style=\"border: 1px solid white;\">2</td><td style=\"border: 1px solid white;\">20.25000</td><td style=\"border: 1px solid white;\">0.482142857142857</td><td style=\"border: 1px solid white;\">0</td><td style=\"border: 1px solid white;\">0</td><td style=\"border: 1px solid white;\">0</td><td style=\"border: 1px solid white;\">0</td><td style=\"border: 1px solid white;\">1</td></tr><tr style=\"{border: 1px solid white;}\"><td style=\"border-bottom: 1px solid #DDD;font-size:1.02em;background-color:#214579;color:white\"><b>2</b></td><td style=\"border: 1px solid white;\">13.0</td><td style=\"border: 1px solid white;\">0</td><td style=\"border: 1px solid white;\">347077</td><td style=\"border: 1px solid white;\">Sweden Worcester, MA</td><td style=\"border: 1px solid white;\">1</td><td style=\"border: 1px solid white;\">3</td><td style=\"border: 1px solid white;\">S</td><td style=\"border: 1px solid white;\">2</td><td style=\"border: 1px solid white;\">31.38750</td><td style=\"border: 1px solid white;\">0.482142857142857</td><td style=\"border: 1px solid white;\">0</td><td style=\"border: 1px solid white;\">4</td><td style=\"border: 1px solid white;\">0</td><td style=\"border: 1px solid white;\">0</td><td style=\"border: 1px solid white;\">1</td></tr><tr style=\"{border: 1px solid white;}\"><td style=\"border-bottom: 1px solid #DDD;font-size:1.02em;background-color:#214579;color:white\"><b>3</b></td><td style=\"border: 1px solid white;\">12.0</td><td style=\"border: 1px solid white;\">1</td><td style=\"border: 1px solid white;\">2651</td><td style=\"border: 1px solid white;\">New York, NY</td><td style=\"border: 1px solid white;\">1</td><td style=\"border: 1px solid white;\">3</td><td style=\"border: 1px solid white;\">C</td><td style=\"border: 1px solid white;\">0</td><td style=\"border: 1px solid white;\">11.24170</td><td style=\"border: 1px solid white;\">0.482142857142857</td><td style=\"border: 1px solid white;\">1</td><td style=\"border: 1px solid white;\">1</td><td style=\"border: 1px solid white;\">1</td><td style=\"border: 1px solid white;\">0</td><td style=\"border: 1px solid white;\">0</td></tr><tr style=\"{border: 1px solid white;}\"><td style=\"border-bottom: 1px solid #DDD;font-size:1.02em;background-color:#214579;color:white\"><b>4</b></td><td style=\"border: 1px solid white;\">11.5</td><td style=\"border: 1px solid white;\">0</td><td style=\"border: 1px solid white;\">A/5. 851</td><td style=\"border: 1px solid white;\">New York, NY</td><td style=\"border: 1px solid white;\">1</td><td style=\"border: 1px solid white;\">3</td><td style=\"border: 1px solid white;\">S</td><td style=\"border: 1px solid white;\">1</td><td style=\"border: 1px solid white;\">14.50000</td><td style=\"border: 1px solid white;\">0.482142857142857</td><td style=\"border: 1px solid white;\">0</td><td style=\"border: 1px solid white;\">1</td><td style=\"border: 1px solid white;\">0</td><td style=\"border: 1px solid white;\">0</td><td style=\"border: 1px solid white;\">1</td></tr><tr><td style=\"border-top: 1px solid white;background-color:#214579;color:white\"></td><td style=\"border: 1px solid white;\">...</td><td style=\"border: 1px solid white;\">...</td><td style=\"border: 1px solid white;\">...</td><td style=\"border: 1px solid white;\">...</td><td style=\"border: 1px solid white;\">...</td><td style=\"border: 1px solid white;\">...</td><td style=\"border: 1px solid white;\">...</td><td style=\"border: 1px solid white;\">...</td><td style=\"border: 1px solid white;\">...</td><td style=\"border: 1px solid white;\">...</td><td style=\"border: 1px solid white;\">...</td><td style=\"border: 1px solid white;\">...</td><td style=\"border: 1px solid white;\">...</td><td style=\"border: 1px solid white;\">...</td><td style=\"border: 1px solid white;\">...</td></tr></table>"
      ],
      "text/plain": [
       "<IPython.core.display.HTML object>"
      ]
     },
     "metadata": {},
     "output_type": "display_data"
    },
    {
     "data": {
      "text/plain": [
       "<object>  Name: titanic, Number of rows: 1231, Number of columns: 15"
      ]
     },
     "execution_count": 10,
     "metadata": {},
     "output_type": "execute_result"
    }
   ],
   "source": [
    "titanic[\"name\"].mean_encode(\"survived\")"
   ]
  }
 ],
 "metadata": {
  "kernelspec": {
   "display_name": "Python 3",
   "language": "python",
   "name": "python3"
  },
  "language_info": {
   "codemirror_mode": {
    "name": "ipython",
    "version": 3
   },
   "file_extension": ".py",
   "mimetype": "text/x-python",
   "name": "python",
   "nbconvert_exporter": "python",
   "pygments_lexer": "ipython3",
   "version": "3.6.3"
  }
 },
 "nbformat": 4,
 "nbformat_minor": 2
}
