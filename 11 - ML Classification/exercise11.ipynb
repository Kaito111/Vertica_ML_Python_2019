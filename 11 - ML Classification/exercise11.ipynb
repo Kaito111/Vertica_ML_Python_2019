{
 "cells": [
  {
   "cell_type": "markdown",
   "metadata": {},
   "source": [
    "<p align=\"center\">\n",
    "<img src='../../img/VerticaMLPython.png' width=\"180px\">\n",
    "</p>\n",
    "\n",
    "# Vertica ML Python Exercise 11\n",
    "\n",
    "During this exercice, we will:\n",
    "<ul>\n",
    "    <li> Build a Logistic Regression model\n",
    "    <li> Split the data\n",
    "    <li> Evaluate the model with different metrics\n",
    "    <li> Compute the model features importance\n",
    "</ul>\n",
    "## Initialization\n",
    "\n",
    "Let's create a cursor using the vertica_cursor function."
   ]
  },
  {
   "cell_type": "code",
   "execution_count": 1,
   "metadata": {},
   "outputs": [],
   "source": [
    "from vertica_ml_python.utilities import vertica_cursor\n",
    "cur = vertica_cursor(\"VerticaDSN\")"
   ]
  },
  {
   "cell_type": "markdown",
   "metadata": {},
   "source": [
    "During this study, we will work with the titanic dataset."
   ]
  },
  {
   "cell_type": "code",
   "execution_count": 18,
   "metadata": {},
   "outputs": [],
   "source": [
    "from vertica_ml_python import vDataframe\n",
    "titanic = vDataframe('titanic', cur)"
   ]
  },
  {
   "cell_type": "markdown",
   "metadata": {},
   "source": [
    "We will first prepare the data using the following commands."
   ]
  },
  {
   "cell_type": "code",
   "execution_count": 19,
   "metadata": {},
   "outputs": [
    {
     "name": "stdout",
     "output_type": "stream",
     "text": [
      "/!\\ Warning: The view titanic_clean doesn't exist !\n",
      "The new vColumn \"family_size\" was added to the vDataframe.\n",
      "vColumn '\"cabin\"' deleted from the vDataframe.\n",
      "vColumn '\"body\"' deleted from the vDataframe.\n",
      "vColumn '\"ticket\"' deleted from the vDataframe.\n",
      "vColumn '\"home.dest\"' deleted from the vDataframe.\n",
      "vColumn '\"name\"' deleted from the vDataframe.\n",
      "vColumn '\"embarked\"' deleted from the vDataframe.\n",
      "vColumn '\"sibsp\"' deleted from the vDataframe.\n",
      "vColumn '\"parch\"' deleted from the vDataframe.\n",
      "vColumn '\"boat\"' deleted from the vDataframe.\n"
     ]
    },
    {
     "data": {
      "text/html": [
       "<table style=\"border-collapse: collapse; border: 2px solid white\"><tr style=\"{border: 1px solid white;}\"><td style=\"border-bottom: 1px solid #DDD;font-size:1.02em;background-color:#214579;color:white\"><b></b></td><td style=\"font-size:1.02em;background-color:#214579;color:white\"><b>age</b></td><td style=\"font-size:1.02em;background-color:#214579;color:white\"><b>survived</b></td><td style=\"font-size:1.02em;background-color:#214579;color:white\"><b>sex</b></td><td style=\"font-size:1.02em;background-color:#214579;color:white\"><b>pclass</b></td><td style=\"font-size:1.02em;background-color:#214579;color:white\"><b>fare</b></td><td style=\"font-size:1.02em;background-color:#214579;color:white\"><b>family_size</b></td></tr><tr style=\"{border: 1px solid white;}\"><td style=\"border-bottom: 1px solid #DDD;font-size:1.02em;background-color:#214579;color:white\"><b>0</b></td><td style=\"border: 1px solid white;\">2.0000000000000</td><td style=\"border: 1px solid white;\">0</td><td style=\"border: 1px solid white;\">0</td><td style=\"border: 1px solid white;\">1</td><td style=\"border: 1px solid white;\">151.5500000000000</td><td style=\"border: 1px solid white;\">4</td></tr><tr style=\"{border: 1px solid white;}\"><td style=\"border-bottom: 1px solid #DDD;font-size:1.02em;background-color:#214579;color:white\"><b>1</b></td><td style=\"border: 1px solid white;\">30.0000000000000</td><td style=\"border: 1px solid white;\">0</td><td style=\"border: 1px solid white;\">1</td><td style=\"border: 1px solid white;\">1</td><td style=\"border: 1px solid white;\">151.5500000000000</td><td style=\"border: 1px solid white;\">4</td></tr><tr style=\"{border: 1px solid white;}\"><td style=\"border-bottom: 1px solid #DDD;font-size:1.02em;background-color:#214579;color:white\"><b>2</b></td><td style=\"border: 1px solid white;\">25.0000000000000</td><td style=\"border: 1px solid white;\">0</td><td style=\"border: 1px solid white;\">0</td><td style=\"border: 1px solid white;\">1</td><td style=\"border: 1px solid white;\">151.5500000000000</td><td style=\"border: 1px solid white;\">4</td></tr><tr style=\"{border: 1px solid white;}\"><td style=\"border-bottom: 1px solid #DDD;font-size:1.02em;background-color:#214579;color:white\"><b>3</b></td><td style=\"border: 1px solid white;\">39.0000000000000</td><td style=\"border: 1px solid white;\">0</td><td style=\"border: 1px solid white;\">1</td><td style=\"border: 1px solid white;\">1</td><td style=\"border: 1px solid white;\">0E-13</td><td style=\"border: 1px solid white;\">1</td></tr><tr style=\"{border: 1px solid white;}\"><td style=\"border-bottom: 1px solid #DDD;font-size:1.02em;background-color:#214579;color:white\"><b>4</b></td><td style=\"border: 1px solid white;\">71.0000000000000</td><td style=\"border: 1px solid white;\">0</td><td style=\"border: 1px solid white;\">1</td><td style=\"border: 1px solid white;\">1</td><td style=\"border: 1px solid white;\">49.5042000000000</td><td style=\"border: 1px solid white;\">1</td></tr><tr><td style=\"border-top: 1px solid white;background-color:#214579;color:white\"></td><td style=\"border: 1px solid white;\">...</td><td style=\"border: 1px solid white;\">...</td><td style=\"border: 1px solid white;\">...</td><td style=\"border: 1px solid white;\">...</td><td style=\"border: 1px solid white;\">...</td><td style=\"border: 1px solid white;\">...</td></tr></table>"
      ],
      "text/plain": [
       "<IPython.core.display.HTML object>"
      ]
     },
     "metadata": {},
     "output_type": "display_data"
    },
    {
     "data": {
      "text/plain": [
       "<object>  Name: titanic, Number of rows: 1234, Number of columns: 6"
      ]
     },
     "execution_count": 19,
     "metadata": {},
     "output_type": "execute_result"
    }
   ],
   "source": [
    "from vertica_ml_python.utilities import drop_view\n",
    "drop_view(\"titanic_clean\", cur)\n",
    "\n",
    "titanic[\"sex\"].label_encode().eval(\"family_size\", expr = \"parch + sibsp + 1\").drop(\n",
    "    columns = [\"cabin\", \"body\", \"ticket\", \"home.dest\", \"name\", \"embarked\", \"sibsp\", \"parch\", \"boat\"])[\"fare\"].fill_outliers(\n",
    "    ).fillna().to_db(\"titanic_clean\") "
   ]
  },
  {
   "cell_type": "markdown",
   "metadata": {},
   "source": [
    "We created the following features:\n",
    "<ul>\n",
    "    <li><b>age:</b> Age in years</li>\n",
    "    <li><b>survived:</b> 1 if the passenger survived, 0 otherwise</li>\n",
    "    <li><b>sex:</b> 1 = male, 0 = female</li>\n",
    "    <li><b>pclass:</b> Passenger class (1,2 or 3)</li>\n",
    "    <li><b>fare:</b> The ticket fare </li>\n",
    "    <li><b>family_size:</b> The size of the passenger family</li>\n",
    "</ul>"
   ]
  },
  {
   "cell_type": "markdown",
   "metadata": {},
   "source": [
    "The purpose is to predict the passengers survival using the previous features."
   ]
  },
  {
   "cell_type": "markdown",
   "metadata": {},
   "source": [
    "## Classification\n",
    "\n",
    "Let's explore the dataset by displaying descriptive statistics of all the columns."
   ]
  },
  {
   "cell_type": "code",
   "execution_count": 20,
   "metadata": {},
   "outputs": [
    {
     "data": {
      "text/html": [
       "<table style=\"border-collapse: collapse; border: 2px solid white\"><tr style=\"{border: 1px solid white;}\"><td style=\"border-bottom: 1px solid #DDD;font-size:1.02em;background-color:#214579;color:white\"><b></b></td><td style=\"font-size:1.02em;background-color:#214579;color:white\"><b>count</b></td><td style=\"font-size:1.02em;background-color:#214579;color:white\"><b>mean</b></td><td style=\"font-size:1.02em;background-color:#214579;color:white\"><b>std</b></td><td style=\"font-size:1.02em;background-color:#214579;color:white\"><b>min</b></td><td style=\"font-size:1.02em;background-color:#214579;color:white\"><b>25%</b></td><td style=\"font-size:1.02em;background-color:#214579;color:white\"><b>50%</b></td><td style=\"font-size:1.02em;background-color:#214579;color:white\"><b>75%</b></td><td style=\"font-size:1.02em;background-color:#214579;color:white\"><b>max</b></td><td style=\"font-size:1.02em;background-color:#214579;color:white\"><b>unique</b></td></tr><tr style=\"{border: 1px solid white;}\"><td style=\"border-bottom: 1px solid #DDD;font-size:1.02em;background-color:#214579;color:white\"><b>age</b></td><td style=\"border: 1px solid white;\">1234</td><td style=\"border: 1px solid white;\">30.1524573721163</td><td style=\"border: 1px solid white;\">12.9740056939445</td><td style=\"border: 1px solid white;\">0.33</td><td style=\"border: 1px solid white;\">23.0</td><td style=\"border: 1px solid white;\">30.1524573721163</td><td style=\"border: 1px solid white;\">35.75</td><td style=\"border: 1px solid white;\">80.0</td><td style=\"border: 1px solid white;\">97</td></tr><tr style=\"{border: 1px solid white;}\"><td style=\"border-bottom: 1px solid #DDD;font-size:1.02em;background-color:#214579;color:white\"><b>family_size</b></td><td style=\"border: 1px solid white;\">1234</td><td style=\"border: 1px solid white;\">1.88249594813614</td><td style=\"border: 1px solid white;\">1.58407574155133</td><td style=\"border: 1px solid white;\">1.0</td><td style=\"border: 1px solid white;\">1.0</td><td style=\"border: 1px solid white;\">1.0</td><td style=\"border: 1px solid white;\">2.0</td><td style=\"border: 1px solid white;\">11.0</td><td style=\"border: 1px solid white;\">9</td></tr><tr style=\"{border: 1px solid white;}\"><td style=\"border-bottom: 1px solid #DDD;font-size:1.02em;background-color:#214579;color:white\"><b>fare</b></td><td style=\"border: 1px solid white;\">1234</td><td style=\"border: 1px solid white;\">32.9113074018842</td><td style=\"border: 1px solid white;\">45.7069936348505</td><td style=\"border: 1px solid white;\">0.0</td><td style=\"border: 1px solid white;\">7.8958</td><td style=\"border: 1px solid white;\">14.4542</td><td style=\"border: 1px solid white;\">31.3875</td><td style=\"border: 1px solid white;\">244.548085606483</td><td style=\"border: 1px solid white;\">275</td></tr><tr style=\"{border: 1px solid white;}\"><td style=\"border-bottom: 1px solid #DDD;font-size:1.02em;background-color:#214579;color:white\"><b>pclass</b></td><td style=\"border: 1px solid white;\">1234</td><td style=\"border: 1px solid white;\">2.28444084278768</td><td style=\"border: 1px solid white;\">0.842485636190292</td><td style=\"border: 1px solid white;\">1.0</td><td style=\"border: 1px solid white;\">1.0</td><td style=\"border: 1px solid white;\">3.0</td><td style=\"border: 1px solid white;\">3.0</td><td style=\"border: 1px solid white;\">3.0</td><td style=\"border: 1px solid white;\">3</td></tr><tr style=\"{border: 1px solid white;}\"><td style=\"border-bottom: 1px solid #DDD;font-size:1.02em;background-color:#214579;color:white\"><b>sex</b></td><td style=\"border: 1px solid white;\">1234</td><td style=\"border: 1px solid white;\">0.659643435980551</td><td style=\"border: 1px solid white;\">0.474021160833511</td><td style=\"border: 1px solid white;\">0.0</td><td style=\"border: 1px solid white;\">0.0</td><td style=\"border: 1px solid white;\">1.0</td><td style=\"border: 1px solid white;\">1.0</td><td style=\"border: 1px solid white;\">1.0</td><td style=\"border: 1px solid white;\">2</td></tr><tr style=\"{border: 1px solid white;}\"><td style=\"border-bottom: 1px solid #DDD;font-size:1.02em;background-color:#214579;color:white\"><b>survived</b></td><td style=\"border: 1px solid white;\">1234</td><td style=\"border: 1px solid white;\">0.364667747163696</td><td style=\"border: 1px solid white;\">0.481532018641288</td><td style=\"border: 1px solid white;\">0.0</td><td style=\"border: 1px solid white;\">0.0</td><td style=\"border: 1px solid white;\">0.0</td><td style=\"border: 1px solid white;\">1.0</td><td style=\"border: 1px solid white;\">1.0</td><td style=\"border: 1px solid white;\">2</td></tr></table>"
      ],
      "text/plain": [
       "<IPython.core.display.HTML object>"
      ]
     },
     "metadata": {},
     "output_type": "display_data"
    },
    {
     "data": {
      "text/plain": [
       "<object>"
      ]
     },
     "execution_count": 20,
     "metadata": {},
     "output_type": "execute_result"
    }
   ],
   "source": [
    "titanic.describe()"
   ]
  },
  {
   "cell_type": "markdown",
   "metadata": {},
   "source": [
    "<b>Question 1: </b>Split the dataset into a training and a testing."
   ]
  },
  {
   "cell_type": "markdown",
   "metadata": {},
   "source": [
    "<b>Question 2: </b>Create a Logistic Regression model."
   ]
  },
  {
   "cell_type": "markdown",
   "metadata": {},
   "source": [
    "<b>Question 3: </b>Look at the model coef attribute and see what features you should eliminate if you decide to build another Logistic Regression model. "
   ]
  },
  {
   "cell_type": "markdown",
   "metadata": {},
   "source": [
    "<b>Question 4: </b>Look at the features importance and confirm the hypothesis."
   ]
  },
  {
   "cell_type": "markdown",
   "metadata": {},
   "source": [
    "<b>Question 5: </b>Draw the ROC Curve, PRC Curve and compute a classification report. What can you say about your model ? How can you solve this problem using the same features ?"
   ]
  }
 ],
 "metadata": {
  "kernelspec": {
   "display_name": "Python 3",
   "language": "python",
   "name": "python3"
  },
  "language_info": {
   "codemirror_mode": {
    "name": "ipython",
    "version": 3
   },
   "file_extension": ".py",
   "mimetype": "text/x-python",
   "name": "python",
   "nbconvert_exporter": "python",
   "pygments_lexer": "ipython3",
   "version": "3.6.3"
  }
 },
 "nbformat": 4,
 "nbformat_minor": 2
}
