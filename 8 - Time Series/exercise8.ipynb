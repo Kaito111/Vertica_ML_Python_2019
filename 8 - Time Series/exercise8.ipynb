{
 "cells": [
  {
   "cell_type": "markdown",
   "metadata": {},
   "source": [
    "<p align=\"center\">\n",
    "<img src='../../img/VerticaMLPython.png' width=\"180px\">\n",
    "</p>\n",
    "\n",
    "# Vertica ML Python Exercise 8\n",
    "\n",
    "During this exercice, we will:\n",
    "<ul>\n",
    "    <li> Compute frequencies\n",
    "    <li> Use moving windows\n",
    "    <li> Extract information on timestamps\n",
    "    <li> Compute a cumulative sum\n",
    "</ul>\n",
    "## Initialization\n",
    "\n",
    "Let's create a cursor using the vertica_cursor function."
   ]
  },
  {
   "cell_type": "code",
   "execution_count": 1,
   "metadata": {},
   "outputs": [],
   "source": [
    "from vertica_ml_python.utilities import vertica_cursor\n",
    "cur = vertica_cursor(\"VerticaDSN\")"
   ]
  },
  {
   "cell_type": "markdown",
   "metadata": {},
   "source": [
    "During this study, we will work with a new dataset which is composed of all the US flights in 2015. "
   ]
  },
  {
   "cell_type": "code",
   "execution_count": 24,
   "metadata": {},
   "outputs": [
    {
     "name": "stdout",
     "output_type": "stream",
     "text": [
      "The table flights was successfully dropped.\n",
      "The table public.flights has been successfully created.\n"
     ]
    }
   ],
   "source": [
    "from vertica_ml_python.utilities import drop_table\n",
    "drop_table(\"flights\", cur)\n",
    "from vertica_ml_python.utilities import read_csv\n",
    "flights = read_csv(\"flights/flights.csv\", cur, parse_n_lines = 1000)"
   ]
  },
  {
   "cell_type": "markdown",
   "metadata": {},
   "source": [
    "We have access to different information like:\n",
    "<ul>\n",
    "    <li><b>scheduled_departure:</b> The flight scheduled departure</li>\n",
    "    <li><b>origin_airport:</b> The origin airport</li>\n",
    "    <li><b>destination_airport:</b> The destination airport</li>\n",
    "    <li><b>airline:</b> The airline</li>\n",
    "    <li><b>departure_delay:</b> The departure delay</li>\n",
    "    <li><b>arrival_delay:</b> The arrival delay</li>\n",
    "</ul>\n",
    "The main purpose is to find which flights are more subject to delays."
   ]
  },
  {
   "cell_type": "code",
   "execution_count": 3,
   "metadata": {},
   "outputs": [
    {
     "data": {
      "text/html": [
       "<table style=\"border-collapse: collapse; border: 2px solid white\"><tr style=\"{border: 1px solid white;}\"><td style=\"border-bottom: 1px solid #DDD;font-size:1.02em;background-color:#214579;color:white\"><b></b></td><td style=\"font-size:1.02em;background-color:#214579;color:white\"><b>destination_airport</b></td><td style=\"font-size:1.02em;background-color:#214579;color:white\"><b>scheduled_departure</b></td><td style=\"font-size:1.02em;background-color:#214579;color:white\"><b>departure_delay</b></td><td style=\"font-size:1.02em;background-color:#214579;color:white\"><b>arrival_delay</b></td><td style=\"font-size:1.02em;background-color:#214579;color:white\"><b>origin_airport</b></td><td style=\"font-size:1.02em;background-color:#214579;color:white\"><b>airline</b></td></tr><tr style=\"{border: 1px solid white;}\"><td style=\"border-bottom: 1px solid #DDD;font-size:1.02em;background-color:#214579;color:white\"><b>0</b></td><td style=\"border: 1px solid white;\">ABE</td><td style=\"border: 1px solid white;\">2015-02-05 20:10:00</td><td style=\"border: 1px solid white;\">0</td><td style=\"border: 1px solid white;\">-18</td><td style=\"border: 1px solid white;\">DTW</td><td style=\"border: 1px solid white;\">EV</td></tr><tr style=\"{border: 1px solid white;}\"><td style=\"border-bottom: 1px solid #DDD;font-size:1.02em;background-color:#214579;color:white\"><b>1</b></td><td style=\"border: 1px solid white;\">ABE</td><td style=\"border: 1px solid white;\">2015-02-05 20:34:00</td><td style=\"border: 1px solid white;\">-1</td><td style=\"border: 1px solid white;\">2</td><td style=\"border: 1px solid white;\">ATL</td><td style=\"border: 1px solid white;\">DL</td></tr><tr style=\"{border: 1px solid white;}\"><td style=\"border-bottom: 1px solid #DDD;font-size:1.02em;background-color:#214579;color:white\"><b>2</b></td><td style=\"border: 1px solid white;\">ABE</td><td style=\"border: 1px solid white;\">2015-02-06 10:01:00</td><td style=\"border: 1px solid white;\">16</td><td style=\"border: 1px solid white;\">7</td><td style=\"border: 1px solid white;\">DTW</td><td style=\"border: 1px solid white;\">EV</td></tr><tr style=\"{border: 1px solid white;}\"><td style=\"border-bottom: 1px solid #DDD;font-size:1.02em;background-color:#214579;color:white\"><b>3</b></td><td style=\"border: 1px solid white;\">ABE</td><td style=\"border: 1px solid white;\">2015-02-06 10:31:00</td><td style=\"border: 1px solid white;\">58</td><td style=\"border: 1px solid white;\">57</td><td style=\"border: 1px solid white;\">ATL</td><td style=\"border: 1px solid white;\">EV</td></tr><tr style=\"{border: 1px solid white;}\"><td style=\"border-bottom: 1px solid #DDD;font-size:1.02em;background-color:#214579;color:white\"><b>4</b></td><td style=\"border: 1px solid white;\">ABE</td><td style=\"border: 1px solid white;\">2015-02-06 13:45:00</td><td style=\"border: 1px solid white;\">-6</td><td style=\"border: 1px solid white;\">3</td><td style=\"border: 1px solid white;\">ATL</td><td style=\"border: 1px solid white;\">EV</td></tr><tr><td style=\"border-top: 1px solid white;background-color:#214579;color:white\"></td><td style=\"border: 1px solid white;\">...</td><td style=\"border: 1px solid white;\">...</td><td style=\"border: 1px solid white;\">...</td><td style=\"border: 1px solid white;\">...</td><td style=\"border: 1px solid white;\">...</td><td style=\"border: 1px solid white;\">...</td></tr></table>"
      ],
      "text/plain": [
       "<IPython.core.display.HTML object>"
      ]
     },
     "metadata": {},
     "output_type": "display_data"
    },
    {
     "name": "stdout",
     "output_type": "stream",
     "text": [
      "<object>  Name: flights, Number of rows: 4068736, Number of columns: 6\n"
     ]
    }
   ],
   "source": [
    "print(flights)"
   ]
  },
  {
   "cell_type": "markdown",
   "metadata": {},
   "source": [
    "## Time Series\n",
    "\n",
    "Let's explore the data by displaying descriptive statistics of all the columns."
   ]
  },
  {
   "cell_type": "code",
   "execution_count": 4,
   "metadata": {},
   "outputs": [
    {
     "data": {
      "text/html": [
       "<table style=\"border-collapse: collapse; border: 2px solid white\"><tr style=\"{border: 1px solid white;}\"><td style=\"border-bottom: 1px solid #DDD;font-size:1.02em;background-color:#214579;color:white\"><b></b></td><td style=\"font-size:1.02em;background-color:#214579;color:white\"><b>dtype</b></td><td style=\"font-size:1.02em;background-color:#214579;color:white\"><b>unique</b></td><td style=\"font-size:1.02em;background-color:#214579;color:white\"><b>count</b></td><td style=\"font-size:1.02em;background-color:#214579;color:white\"><b>top</b></td><td style=\"font-size:1.02em;background-color:#214579;color:white\"><b>top_percent</b></td></tr><tr style=\"{border: 1px solid white;}\"><td style=\"border-bottom: 1px solid #DDD;font-size:1.02em;background-color:#214579;color:white\"><b>\"destination_airport\"</b></td><td style=\"border: 1px solid white;\">varchar(20)</td><td style=\"border: 1px solid white;\">629</td><td style=\"border: 1px solid white;\">4068736</td><td style=\"border: 1px solid white;\">ATL</td><td style=\"border: 1px solid white;\">5.46</td></tr><tr style=\"{border: 1px solid white;}\"><td style=\"border-bottom: 1px solid #DDD;font-size:1.02em;background-color:#214579;color:white\"><b>\"scheduled_departure\"</b></td><td style=\"border: 1px solid white;\">timestamp</td><td style=\"border: 1px solid white;\">286101</td><td style=\"border: 1px solid white;\">4068736</td><td style=\"border: 1px solid white;\">2015-04-06 13:45:00</td><td style=\"border: 1px solid white;\">0.003</td></tr><tr style=\"{border: 1px solid white;}\"><td style=\"border-bottom: 1px solid #DDD;font-size:1.02em;background-color:#214579;color:white\"><b>\"departure_delay\"</b></td><td style=\"border: 1px solid white;\">int</td><td style=\"border: 1px solid white;\">1108</td><td style=\"border: 1px solid white;\">4068736</td><td style=\"border: 1px solid white;\">-3</td><td style=\"border: 1px solid white;\">7.178</td></tr><tr style=\"{border: 1px solid white;}\"><td style=\"border-bottom: 1px solid #DDD;font-size:1.02em;background-color:#214579;color:white\"><b>\"arrival_delay\"</b></td><td style=\"border: 1px solid white;\">int</td><td style=\"border: 1px solid white;\">1135</td><td style=\"border: 1px solid white;\">4068736</td><td style=\"border: 1px solid white;\">-8</td><td style=\"border: 1px solid white;\">2.926</td></tr><tr style=\"{border: 1px solid white;}\"><td style=\"border-bottom: 1px solid #DDD;font-size:1.02em;background-color:#214579;color:white\"><b>\"origin_airport\"</b></td><td style=\"border: 1px solid white;\">varchar(20)</td><td style=\"border: 1px solid white;\">621</td><td style=\"border: 1px solid white;\">4068736</td><td style=\"border: 1px solid white;\">ATL</td><td style=\"border: 1px solid white;\">6.744</td></tr><tr style=\"{border: 1px solid white;}\"><td style=\"border-bottom: 1px solid #DDD;font-size:1.02em;background-color:#214579;color:white\"><b>\"airline\"</b></td><td style=\"border: 1px solid white;\">varchar(20)</td><td style=\"border: 1px solid white;\">14</td><td style=\"border: 1px solid white;\">4068736</td><td style=\"border: 1px solid white;\">WN</td><td style=\"border: 1px solid white;\">21.818</td></tr></table>"
      ],
      "text/plain": [
       "<IPython.core.display.HTML object>"
      ]
     },
     "metadata": {},
     "output_type": "display_data"
    },
    {
     "data": {
      "text/plain": [
       "<object>"
      ]
     },
     "execution_count": 4,
     "metadata": {},
     "output_type": "execute_result"
    }
   ],
   "source": [
    "flights.describe(method = \"categorical\")"
   ]
  },
  {
   "cell_type": "markdown",
   "metadata": {},
   "source": [
    "<b>Question 1: </b>Find the average number of flights (departure) per day and per month in the US (You should probably create new features: day/month)"
   ]
  },
  {
   "cell_type": "markdown",
   "metadata": {},
   "source": [
    "<b>Question 2: </b>A flight delay could be the result of a company mishandling. Compute the number of flights the company has to manage 1 hour preceding each flight and two hours following."
   ]
  },
  {
   "cell_type": "markdown",
   "metadata": {},
   "source": [
    "<b>Question 3: </b>Create a new variable is_dep_delay which is equal to 1 if the departure_delay is greater than 10 minutes. Compute the correlation between is_dep_delay and the previously created feature. What do you notice ? Which information is missing to create a more relevant feature ?"
   ]
  },
  {
   "cell_type": "markdown",
   "metadata": {},
   "source": [
    "<b>Question 4: </b>Compute the cumulative number of delay per company. What do you notice ? How can we solve this problem ?"
   ]
  }
 ],
 "metadata": {
  "kernelspec": {
   "display_name": "Python 3",
   "language": "python",
   "name": "python3"
  },
  "language_info": {
   "codemirror_mode": {
    "name": "ipython",
    "version": 3
   },
   "file_extension": ".py",
   "mimetype": "text/x-python",
   "name": "python",
   "nbconvert_exporter": "python",
   "pygments_lexer": "ipython3",
   "version": "3.6.3"
  }
 },
 "nbformat": 4,
 "nbformat_minor": 2
}
