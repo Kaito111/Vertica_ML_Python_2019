{
 "cells": [
  {
   "cell_type": "markdown",
   "metadata": {},
   "source": [
    "<p align=\"center\">\n",
    "<img src='../../img/VerticaMLPython.png' width=\"180px\">\n",
    "</p>\n",
    "\n",
    "# Vertica ML Python Exercise 2\n",
    "\n",
    "During this exercice, we will see:\n",
    "<ul>\n",
    "    <li> How to detect outliers using 4 different techniques (DBSCAN, KMeans, LOF and Normal Distribution)\n",
    "    <li> How to fill outliers\n",
    "    <li> How to drop outliers\n",
    "    <li> Find the KMeans K\n",
    "    <li> How to realize different scatter plots\n",
    "</ul>\n",
    "## Initialization\n",
    "\n",
    "Let's create a cursor using the vertica_cursor function"
   ]
  },
  {
   "cell_type": "code",
   "execution_count": 1,
   "metadata": {
    "scrolled": true
   },
   "outputs": [],
   "source": [
    "from vertica_ml_python.utilities import vertica_cursor\n",
    "cur = vertica_cursor(\"VerticaDSN\")"
   ]
  },
  {
   "cell_type": "markdown",
   "metadata": {},
   "source": [
    "During this study, we will work with the heart disease dataset. You'll need to read the 'heart.csv' file."
   ]
  },
  {
   "cell_type": "code",
   "execution_count": 7,
   "metadata": {},
   "outputs": [
    {
     "name": "stdout",
     "output_type": "stream",
     "text": [
      "The table heart was successfully dropped.\n",
      "The table public.heart has been successfully created.\n"
     ]
    },
    {
     "data": {
      "text/html": [
       "<table style=\"border-collapse: collapse; border: 2px solid white\"><tr style=\"{border: 1px solid white;}\"><td style=\"border-bottom: 1px solid #DDD;font-size:1.02em;background-color:#214579;color:white\"><b></b></td><td style=\"font-size:1.02em;background-color:#214579;color:white\"><b>age</b></td><td style=\"font-size:1.02em;background-color:#214579;color:white\"><b>thalach</b></td><td style=\"font-size:1.02em;background-color:#214579;color:white\"><b>trestbps</b></td><td style=\"font-size:1.02em;background-color:#214579;color:white\"><b>fbs</b></td><td style=\"font-size:1.02em;background-color:#214579;color:white\"><b>slope</b></td><td style=\"font-size:1.02em;background-color:#214579;color:white\"><b>ca</b></td><td style=\"font-size:1.02em;background-color:#214579;color:white\"><b>num</b></td><td style=\"font-size:1.02em;background-color:#214579;color:white\"><b>sex</b></td><td style=\"font-size:1.02em;background-color:#214579;color:white\"><b>cp</b></td><td style=\"font-size:1.02em;background-color:#214579;color:white\"><b>exang</b></td><td style=\"font-size:1.02em;background-color:#214579;color:white\"><b>restecg</b></td><td style=\"font-size:1.02em;background-color:#214579;color:white\"><b>chol</b></td><td style=\"font-size:1.02em;background-color:#214579;color:white\"><b>oldpeak</b></td><td style=\"font-size:1.02em;background-color:#214579;color:white\"><b>thal</b></td></tr><tr style=\"{border: 1px solid white;}\"><td style=\"border-bottom: 1px solid #DDD;font-size:1.02em;background-color:#214579;color:white\"><b>0</b></td><td style=\"border: 1px solid white;\">70.00</td><td style=\"border: 1px solid white;\">109.00</td><td style=\"border: 1px solid white;\">130.00</td><td style=\"border: 1px solid white;\">0.00</td><td style=\"border: 1px solid white;\">2.00</td><td style=\"border: 1px solid white;\">3.00</td><td style=\"border: 1px solid white;\">2</td><td style=\"border: 1px solid white;\">1.00</td><td style=\"border: 1px solid white;\">4.00</td><td style=\"border: 1px solid white;\">0.00</td><td style=\"border: 1px solid white;\">2.00</td><td style=\"border: 1px solid white;\">322.00</td><td style=\"border: 1px solid white;\">2.40</td><td style=\"border: 1px solid white;\">3.00</td></tr><tr style=\"{border: 1px solid white;}\"><td style=\"border-bottom: 1px solid #DDD;font-size:1.02em;background-color:#214579;color:white\"><b>1</b></td><td style=\"border: 1px solid white;\">67.00</td><td style=\"border: 1px solid white;\">160.00</td><td style=\"border: 1px solid white;\">115.00</td><td style=\"border: 1px solid white;\">0.00</td><td style=\"border: 1px solid white;\">2.00</td><td style=\"border: 1px solid white;\">0.00</td><td style=\"border: 1px solid white;\">1</td><td style=\"border: 1px solid white;\">0.00</td><td style=\"border: 1px solid white;\">3.00</td><td style=\"border: 1px solid white;\">0.00</td><td style=\"border: 1px solid white;\">2.00</td><td style=\"border: 1px solid white;\">564.00</td><td style=\"border: 1px solid white;\">1.60</td><td style=\"border: 1px solid white;\">7.00</td></tr><tr style=\"{border: 1px solid white;}\"><td style=\"border-bottom: 1px solid #DDD;font-size:1.02em;background-color:#214579;color:white\"><b>2</b></td><td style=\"border: 1px solid white;\">57.00</td><td style=\"border: 1px solid white;\">141.00</td><td style=\"border: 1px solid white;\">124.00</td><td style=\"border: 1px solid white;\">0.00</td><td style=\"border: 1px solid white;\">1.00</td><td style=\"border: 1px solid white;\">0.00</td><td style=\"border: 1px solid white;\">2</td><td style=\"border: 1px solid white;\">1.00</td><td style=\"border: 1px solid white;\">2.00</td><td style=\"border: 1px solid white;\">0.00</td><td style=\"border: 1px solid white;\">0.00</td><td style=\"border: 1px solid white;\">261.00</td><td style=\"border: 1px solid white;\">0.30</td><td style=\"border: 1px solid white;\">7.00</td></tr><tr style=\"{border: 1px solid white;}\"><td style=\"border-bottom: 1px solid #DDD;font-size:1.02em;background-color:#214579;color:white\"><b>3</b></td><td style=\"border: 1px solid white;\">64.00</td><td style=\"border: 1px solid white;\">105.00</td><td style=\"border: 1px solid white;\">128.00</td><td style=\"border: 1px solid white;\">0.00</td><td style=\"border: 1px solid white;\">2.00</td><td style=\"border: 1px solid white;\">1.00</td><td style=\"border: 1px solid white;\">1</td><td style=\"border: 1px solid white;\">1.00</td><td style=\"border: 1px solid white;\">4.00</td><td style=\"border: 1px solid white;\">1.00</td><td style=\"border: 1px solid white;\">0.00</td><td style=\"border: 1px solid white;\">263.00</td><td style=\"border: 1px solid white;\">0.20</td><td style=\"border: 1px solid white;\">7.00</td></tr><tr style=\"{border: 1px solid white;}\"><td style=\"border-bottom: 1px solid #DDD;font-size:1.02em;background-color:#214579;color:white\"><b>4</b></td><td style=\"border: 1px solid white;\">74.00</td><td style=\"border: 1px solid white;\">121.00</td><td style=\"border: 1px solid white;\">120.00</td><td style=\"border: 1px solid white;\">0.00</td><td style=\"border: 1px solid white;\">1.00</td><td style=\"border: 1px solid white;\">1.00</td><td style=\"border: 1px solid white;\">1</td><td style=\"border: 1px solid white;\">0.00</td><td style=\"border: 1px solid white;\">2.00</td><td style=\"border: 1px solid white;\">1.00</td><td style=\"border: 1px solid white;\">2.00</td><td style=\"border: 1px solid white;\">269.00</td><td style=\"border: 1px solid white;\">0.20</td><td style=\"border: 1px solid white;\">3.00</td></tr><tr><td style=\"border-top: 1px solid white;background-color:#214579;color:white\"></td><td style=\"border: 1px solid white;\">...</td><td style=\"border: 1px solid white;\">...</td><td style=\"border: 1px solid white;\">...</td><td style=\"border: 1px solid white;\">...</td><td style=\"border: 1px solid white;\">...</td><td style=\"border: 1px solid white;\">...</td><td style=\"border: 1px solid white;\">...</td><td style=\"border: 1px solid white;\">...</td><td style=\"border: 1px solid white;\">...</td><td style=\"border: 1px solid white;\">...</td><td style=\"border: 1px solid white;\">...</td><td style=\"border: 1px solid white;\">...</td><td style=\"border: 1px solid white;\">...</td><td style=\"border: 1px solid white;\">...</td></tr></table>"
      ],
      "text/plain": [
       "<IPython.core.display.HTML object>"
      ]
     },
     "metadata": {},
     "output_type": "display_data"
    },
    {
     "name": "stdout",
     "output_type": "stream",
     "text": [
      "<object>  Name: heart, Number of rows: 270, Number of columns: 14\n"
     ]
    }
   ],
   "source": [
    "from vertica_ml_python.utilities import read_csv\n",
    "from vertica_ml_python.utilities import drop_table\n",
    "drop_table('heart', cur)\n",
    "heart = read_csv('heart.csv', cur)\n",
    "print(heart)"
   ]
  },
  {
   "cell_type": "markdown",
   "metadata": {},
   "source": [
    "This dataset contains many information of 270 patients including:\n",
    "<ul>\n",
    "    <li><b>age:</b> age in years</li>\n",
    "    <li><b>thalach:</b> maximum heart rate achieved</li>\n",
    "    <li><b>trestbps:</b> resting blood pressure (in mm Hg on admission to the hospital) </li>\n",
    "    <li><b>fbs:</b> (fasting blood sugar > 120 mg/dl) (1 = true; 0 = false) </li>\n",
    "    <li><b>slope:</b> the slope of the peak exercise ST segment (Value 1: upsloping; Value 2: flat; Value 3: downsloping) </li>\n",
    "    <li><b>ca:</b> number of major vessels (0-3) colored by flourosopy </li>\n",
    "    <li><b>num:</b> diagnosis of heart disease (angiographic disease status) (Value 1: < 50% diameter narrowing; Value 2: > 50% diameter narrowing)</li>\n",
    "    <li><b>sex:</b> sex (1 = male; 0 = female) </li>\n",
    "    <li><b>cp:</b> hest pain type (Value 1: typical angina; Value 2: atypical angina; Value 3: non-anginal pain; Value 4: asymptomatic) </li>\n",
    "    <li><b>exang:</b> exercise induced angina (1 = yes; 0 = no) </li>\n",
    "    <li><b>restecg:</b> resting electrocardiographic results (Value 0: normal; Value 1: having ST-T wave abnormality (T wave inversions and/or ST elevation or depression of > 0.05 mV); Value 2: showing probable or definite left ventricular hypertrophy by Estes' criteria) </li>\n",
    "    <li><b>chol:</b> serum cholestoral in mg/dl </li>\n",
    "    <li><b>oldpeak:</b> ST depression induced by exercise relative to rest </li>\n",
    "    <li><b>thal:</b> 3 = normal; 6 = fixed defect; 7 = reversable defect </li>\n",
    "</ul>\n",
    "\n",
    "The purpose is to find people having heart complications compare to the rest. "
   ]
  },
  {
   "cell_type": "markdown",
   "metadata": {},
   "source": [
    "## Outliers Detection\n",
    "\n",
    "Let's explore the data by displaying descriptive statistics of all the columns."
   ]
  },
  {
   "cell_type": "code",
   "execution_count": 9,
   "metadata": {},
   "outputs": [
    {
     "data": {
      "text/html": [
       "<table style=\"border-collapse: collapse; border: 2px solid white\"><tr style=\"{border: 1px solid white;}\"><td style=\"border-bottom: 1px solid #DDD;font-size:1.02em;background-color:#214579;color:white\"><b></b></td><td style=\"font-size:1.02em;background-color:#214579;color:white\"><b>count</b></td><td style=\"font-size:1.02em;background-color:#214579;color:white\"><b>mean</b></td><td style=\"font-size:1.02em;background-color:#214579;color:white\"><b>std</b></td><td style=\"font-size:1.02em;background-color:#214579;color:white\"><b>min</b></td><td style=\"font-size:1.02em;background-color:#214579;color:white\"><b>25%</b></td><td style=\"font-size:1.02em;background-color:#214579;color:white\"><b>50%</b></td><td style=\"font-size:1.02em;background-color:#214579;color:white\"><b>75%</b></td><td style=\"font-size:1.02em;background-color:#214579;color:white\"><b>max</b></td><td style=\"font-size:1.02em;background-color:#214579;color:white\"><b>unique</b></td></tr><tr style=\"{border: 1px solid white;}\"><td style=\"border-bottom: 1px solid #DDD;font-size:1.02em;background-color:#214579;color:white\"><b>age</b></td><td style=\"border: 1px solid white;\">270</td><td style=\"border: 1px solid white;\">54.4333333333334</td><td style=\"border: 1px solid white;\">9.10906652389821</td><td style=\"border: 1px solid white;\">29.0</td><td style=\"border: 1px solid white;\">48.0</td><td style=\"border: 1px solid white;\">55.0</td><td style=\"border: 1px solid white;\">61.0</td><td style=\"border: 1px solid white;\">77.0</td><td style=\"border: 1px solid white;\">41</td></tr><tr style=\"{border: 1px solid white;}\"><td style=\"border-bottom: 1px solid #DDD;font-size:1.02em;background-color:#214579;color:white\"><b>ca</b></td><td style=\"border: 1px solid white;\">270</td><td style=\"border: 1px solid white;\">0.67037037037037</td><td style=\"border: 1px solid white;\">0.943896383488116</td><td style=\"border: 1px solid white;\">0.0</td><td style=\"border: 1px solid white;\">0.0</td><td style=\"border: 1px solid white;\">0.0</td><td style=\"border: 1px solid white;\">1.0</td><td style=\"border: 1px solid white;\">3.0</td><td style=\"border: 1px solid white;\">4</td></tr><tr style=\"{border: 1px solid white;}\"><td style=\"border-bottom: 1px solid #DDD;font-size:1.02em;background-color:#214579;color:white\"><b>chol</b></td><td style=\"border: 1px solid white;\">270</td><td style=\"border: 1px solid white;\">249.659259259259</td><td style=\"border: 1px solid white;\">51.6862371164313</td><td style=\"border: 1px solid white;\">126.0</td><td style=\"border: 1px solid white;\">213.0</td><td style=\"border: 1px solid white;\">245.0</td><td style=\"border: 1px solid white;\">280.0</td><td style=\"border: 1px solid white;\">564.0</td><td style=\"border: 1px solid white;\">144</td></tr><tr style=\"{border: 1px solid white;}\"><td style=\"border-bottom: 1px solid #DDD;font-size:1.02em;background-color:#214579;color:white\"><b>cp</b></td><td style=\"border: 1px solid white;\">270</td><td style=\"border: 1px solid white;\">3.17407407407408</td><td style=\"border: 1px solid white;\">0.950090033922864</td><td style=\"border: 1px solid white;\">1.0</td><td style=\"border: 1px solid white;\">3.0</td><td style=\"border: 1px solid white;\">3.0</td><td style=\"border: 1px solid white;\">4.0</td><td style=\"border: 1px solid white;\">4.0</td><td style=\"border: 1px solid white;\">4</td></tr><tr style=\"{border: 1px solid white;}\"><td style=\"border-bottom: 1px solid #DDD;font-size:1.02em;background-color:#214579;color:white\"><b>exang</b></td><td style=\"border: 1px solid white;\">270</td><td style=\"border: 1px solid white;\">0.32962962962963</td><td style=\"border: 1px solid white;\">0.470951591301383</td><td style=\"border: 1px solid white;\">0.0</td><td style=\"border: 1px solid white;\">0.0</td><td style=\"border: 1px solid white;\">0.0</td><td style=\"border: 1px solid white;\">1.0</td><td style=\"border: 1px solid white;\">1.0</td><td style=\"border: 1px solid white;\">2</td></tr><tr style=\"{border: 1px solid white;}\"><td style=\"border-bottom: 1px solid #DDD;font-size:1.02em;background-color:#214579;color:white\"><b>fbs</b></td><td style=\"border: 1px solid white;\">270</td><td style=\"border: 1px solid white;\">0.148148148148148</td><td style=\"border: 1px solid white;\">0.355906476970731</td><td style=\"border: 1px solid white;\">0.0</td><td style=\"border: 1px solid white;\">0.0</td><td style=\"border: 1px solid white;\">0.0</td><td style=\"border: 1px solid white;\">0.0</td><td style=\"border: 1px solid white;\">1.0</td><td style=\"border: 1px solid white;\">2</td></tr><tr style=\"{border: 1px solid white;}\"><td style=\"border-bottom: 1px solid #DDD;font-size:1.02em;background-color:#214579;color:white\"><b>num</b></td><td style=\"border: 1px solid white;\">270</td><td style=\"border: 1px solid white;\">1.44444444444445</td><td style=\"border: 1px solid white;\">0.497826751588616</td><td style=\"border: 1px solid white;\">1.0</td><td style=\"border: 1px solid white;\">1.0</td><td style=\"border: 1px solid white;\">1.0</td><td style=\"border: 1px solid white;\">2.0</td><td style=\"border: 1px solid white;\">2.0</td><td style=\"border: 1px solid white;\">2</td></tr><tr style=\"{border: 1px solid white;}\"><td style=\"border-bottom: 1px solid #DDD;font-size:1.02em;background-color:#214579;color:white\"><b>oldpeak</b></td><td style=\"border: 1px solid white;\">270</td><td style=\"border: 1px solid white;\">1.05</td><td style=\"border: 1px solid white;\">1.145209839378</td><td style=\"border: 1px solid white;\">0.0</td><td style=\"border: 1px solid white;\">0.0</td><td style=\"border: 1px solid white;\">0.8</td><td style=\"border: 1px solid white;\">1.6</td><td style=\"border: 1px solid white;\">6.2</td><td style=\"border: 1px solid white;\">39</td></tr><tr style=\"{border: 1px solid white;}\"><td style=\"border-bottom: 1px solid #DDD;font-size:1.02em;background-color:#214579;color:white\"><b>restecg</b></td><td style=\"border: 1px solid white;\">270</td><td style=\"border: 1px solid white;\">1.02222222222222</td><td style=\"border: 1px solid white;\">0.997891208966111</td><td style=\"border: 1px solid white;\">0.0</td><td style=\"border: 1px solid white;\">0.0</td><td style=\"border: 1px solid white;\">2.0</td><td style=\"border: 1px solid white;\">2.0</td><td style=\"border: 1px solid white;\">2.0</td><td style=\"border: 1px solid white;\">3</td></tr><tr style=\"{border: 1px solid white;}\"><td style=\"border-bottom: 1px solid #DDD;font-size:1.02em;background-color:#214579;color:white\"><b>sex</b></td><td style=\"border: 1px solid white;\">270</td><td style=\"border: 1px solid white;\">0.677777777777778</td><td style=\"border: 1px solid white;\">0.468195407155269</td><td style=\"border: 1px solid white;\">0.0</td><td style=\"border: 1px solid white;\">0.0</td><td style=\"border: 1px solid white;\">1.0</td><td style=\"border: 1px solid white;\">1.0</td><td style=\"border: 1px solid white;\">1.0</td><td style=\"border: 1px solid white;\">2</td></tr><tr style=\"{border: 1px solid white;}\"><td style=\"border-bottom: 1px solid #DDD;font-size:1.02em;background-color:#214579;color:white\"><b>slope</b></td><td style=\"border: 1px solid white;\">270</td><td style=\"border: 1px solid white;\">1.58518518518519</td><td style=\"border: 1px solid white;\">0.61438983767813</td><td style=\"border: 1px solid white;\">1.0</td><td style=\"border: 1px solid white;\">1.0</td><td style=\"border: 1px solid white;\">2.0</td><td style=\"border: 1px solid white;\">2.0</td><td style=\"border: 1px solid white;\">3.0</td><td style=\"border: 1px solid white;\">3</td></tr><tr style=\"{border: 1px solid white;}\"><td style=\"border-bottom: 1px solid #DDD;font-size:1.02em;background-color:#214579;color:white\"><b>thal</b></td><td style=\"border: 1px solid white;\">270</td><td style=\"border: 1px solid white;\">4.6962962962963</td><td style=\"border: 1px solid white;\">1.94065896934578</td><td style=\"border: 1px solid white;\">3.0</td><td style=\"border: 1px solid white;\">3.0</td><td style=\"border: 1px solid white;\">3.0</td><td style=\"border: 1px solid white;\">7.0</td><td style=\"border: 1px solid white;\">7.0</td><td style=\"border: 1px solid white;\">3</td></tr><tr style=\"{border: 1px solid white;}\"><td style=\"border-bottom: 1px solid #DDD;font-size:1.02em;background-color:#214579;color:white\"><b>thalach</b></td><td style=\"border: 1px solid white;\">270</td><td style=\"border: 1px solid white;\">149.677777777778</td><td style=\"border: 1px solid white;\">23.1657167751201</td><td style=\"border: 1px solid white;\">71.0</td><td style=\"border: 1px solid white;\">133.0</td><td style=\"border: 1px solid white;\">153.5</td><td style=\"border: 1px solid white;\">166.0</td><td style=\"border: 1px solid white;\">202.0</td><td style=\"border: 1px solid white;\">90</td></tr><tr style=\"{border: 1px solid white;}\"><td style=\"border-bottom: 1px solid #DDD;font-size:1.02em;background-color:#214579;color:white\"><b>trestbps</b></td><td style=\"border: 1px solid white;\">270</td><td style=\"border: 1px solid white;\">131.344444444444</td><td style=\"border: 1px solid white;\">17.8616082928008</td><td style=\"border: 1px solid white;\">94.0</td><td style=\"border: 1px solid white;\">120.0</td><td style=\"border: 1px solid white;\">130.0</td><td style=\"border: 1px solid white;\">140.0</td><td style=\"border: 1px solid white;\">200.0</td><td style=\"border: 1px solid white;\">47</td></tr></table>"
      ],
      "text/plain": [
       "<IPython.core.display.HTML object>"
      ]
     },
     "metadata": {},
     "output_type": "display_data"
    },
    {
     "data": {
      "text/plain": [
       "<object>"
      ]
     },
     "execution_count": 9,
     "metadata": {},
     "output_type": "execute_result"
    }
   ],
   "source": [
    "heart.describe()"
   ]
  },
  {
   "cell_type": "markdown",
   "metadata": {},
   "source": [
    "We will only work with the maximum heart rate achieved (thalach) and the serum cholestoral (chol). We will be able to identify outliers with different techniques and visualize the results."
   ]
  },
  {
   "cell_type": "markdown",
   "metadata": {},
   "source": [
    "<b>Question 1: </b>Draw the Scatter Plot of the two variables. What do you notice ?"
   ]
  },
  {
   "cell_type": "markdown",
   "metadata": {},
   "source": [
    "<b>Question 2: </b>Add the Global Outliers of the distribution using the 'outliers' method. Draw again the Scatter Plot with this time marking the outliers. Find visually the number of outliers and explain the result. "
   ]
  },
  {
   "cell_type": "markdown",
   "metadata": {},
   "source": [
    "You can drop or fill these outliers by using respectively the 'drop_outliers' and 'fill_outliers' methods. It will only consider global outliers of the distribution. Otherwise you can use the 'filter' method to do it."
   ]
  },
  {
   "cell_type": "markdown",
   "metadata": {},
   "source": [
    "<b>Question 3: </b>Use the DBSCAN with epsilon = 20 and min_samples = 10. The outliers will be labeled with the class -1. What do you notice ?"
   ]
  },
  {
   "cell_type": "markdown",
   "metadata": {},
   "source": [
    "<b>Question 4: </b>Now, use the Local Outlier Factor Algorithm and draw the LOF graph. Build a Virtual Dataframe using the created table and create a new label based on the LOF (>1.5 = outliers)"
   ]
  },
  {
   "cell_type": "markdown",
   "metadata": {},
   "source": [
    "<b>Question 5: </b>The last technique to find outliers is using the KMeans algorithm. However, we never know the number of clusters in advance. Use the elbow curve to find it. Create a KMeans model with this number. Draw the model prediction and identify the outliers."
   ]
  },
  {
   "cell_type": "markdown",
   "metadata": {},
   "source": [
    "<b>Question 6: </b>Use your favourite technique to identify the outliers and draw histograms to see what part of the population is affected by huge complications."
   ]
  }
 ],
 "metadata": {
  "kernelspec": {
   "display_name": "Python 3",
   "language": "python",
   "name": "python3"
  },
  "language_info": {
   "codemirror_mode": {
    "name": "ipython",
    "version": 3
   },
   "file_extension": ".py",
   "mimetype": "text/x-python",
   "name": "python",
   "nbconvert_exporter": "python",
   "pygments_lexer": "ipython3",
   "version": "3.6.3"
  }
 },
 "nbformat": 4,
 "nbformat_minor": 2
}
