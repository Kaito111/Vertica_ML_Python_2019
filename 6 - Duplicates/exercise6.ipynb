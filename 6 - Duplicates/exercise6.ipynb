{
 "cells": [
  {
   "attachments": {},
   "cell_type": "markdown",
   "metadata": {},
   "source": [
    "<p align=\"center\">\n",
    "<img src='../../img/VerticaMLPython.png' width=\"180px\">\n",
    "</p>\n",
    "\n",
    "# Vertica ML Python Exercise 6\n",
    "\n",
    "During this exercice, we will:\n",
    "<ul>\n",
    "    <li> Find duplicates\n",
    "    <li> Drop duplicates\n",
    "</ul>\n",
    "## Initialization\n",
    "\n",
    "Let's create a cursor using the vertica_cursor function."
   ]
  },
  {
   "cell_type": "code",
   "execution_count": 2,
   "metadata": {
    "scrolled": true
   },
   "outputs": [],
   "source": [
    "from vertica_ml_python.utilities import vertica_cursor\n",
    "cur = vertica_cursor(\"VerticaDSN\")"
   ]
  },
  {
   "cell_type": "markdown",
   "metadata": {},
   "source": [
    "During this study, we will work with the Iris dataset which is already available in VERTICA ML PYTHON. "
   ]
  },
  {
   "cell_type": "code",
   "execution_count": 7,
   "metadata": {},
   "outputs": [
    {
     "data": {
      "text/html": [
       "<table style=\"border-collapse: collapse; border: 2px solid white\"><tr style=\"{border: 1px solid white;}\"><td style=\"border-bottom: 1px solid #DDD;font-size:1.02em;background-color:#214579;color:white\"><b></b></td><td style=\"font-size:1.02em;background-color:#214579;color:white\"><b>PetalLengthCm</b></td><td style=\"font-size:1.02em;background-color:#214579;color:white\"><b>SepalLengthCm</b></td><td style=\"font-size:1.02em;background-color:#214579;color:white\"><b>SepalWidthCm</b></td><td style=\"font-size:1.02em;background-color:#214579;color:white\"><b>PetalWidthCm</b></td><td style=\"font-size:1.02em;background-color:#214579;color:white\"><b>Species</b></td></tr><tr style=\"{border: 1px solid white;}\"><td style=\"border-bottom: 1px solid #DDD;font-size:1.02em;background-color:#214579;color:white\"><b>0</b></td><td style=\"border: 1px solid white;\">1.10</td><td style=\"border: 1px solid white;\">4.30</td><td style=\"border: 1px solid white;\">3.00</td><td style=\"border: 1px solid white;\">0.10</td><td style=\"border: 1px solid white;\">Iris-setosa</td></tr><tr style=\"{border: 1px solid white;}\"><td style=\"border-bottom: 1px solid #DDD;font-size:1.02em;background-color:#214579;color:white\"><b>1</b></td><td style=\"border: 1px solid white;\">1.40</td><td style=\"border: 1px solid white;\">4.40</td><td style=\"border: 1px solid white;\">2.90</td><td style=\"border: 1px solid white;\">0.20</td><td style=\"border: 1px solid white;\">Iris-setosa</td></tr><tr style=\"{border: 1px solid white;}\"><td style=\"border-bottom: 1px solid #DDD;font-size:1.02em;background-color:#214579;color:white\"><b>2</b></td><td style=\"border: 1px solid white;\">1.30</td><td style=\"border: 1px solid white;\">4.40</td><td style=\"border: 1px solid white;\">3.00</td><td style=\"border: 1px solid white;\">0.20</td><td style=\"border: 1px solid white;\">Iris-setosa</td></tr><tr style=\"{border: 1px solid white;}\"><td style=\"border-bottom: 1px solid #DDD;font-size:1.02em;background-color:#214579;color:white\"><b>3</b></td><td style=\"border: 1px solid white;\">1.30</td><td style=\"border: 1px solid white;\">4.40</td><td style=\"border: 1px solid white;\">3.20</td><td style=\"border: 1px solid white;\">0.20</td><td style=\"border: 1px solid white;\">Iris-setosa</td></tr><tr style=\"{border: 1px solid white;}\"><td style=\"border-bottom: 1px solid #DDD;font-size:1.02em;background-color:#214579;color:white\"><b>4</b></td><td style=\"border: 1px solid white;\">1.30</td><td style=\"border: 1px solid white;\">4.50</td><td style=\"border: 1px solid white;\">2.30</td><td style=\"border: 1px solid white;\">0.30</td><td style=\"border: 1px solid white;\">Iris-setosa</td></tr><tr><td style=\"border-top: 1px solid white;background-color:#214579;color:white\"></td><td style=\"border: 1px solid white;\">...</td><td style=\"border: 1px solid white;\">...</td><td style=\"border: 1px solid white;\">...</td><td style=\"border: 1px solid white;\">...</td><td style=\"border: 1px solid white;\">...</td></tr></table>"
      ],
      "text/plain": [
       "<IPython.core.display.HTML object>"
      ]
     },
     "metadata": {},
     "output_type": "display_data"
    },
    {
     "name": "stdout",
     "output_type": "stream",
     "text": [
      "<object>  Name: iris, Number of rows: 150, Number of columns: 5\n"
     ]
    }
   ],
   "source": [
    "from vertica_ml_python.learn.datasets import load_iris\n",
    "iris = load_iris(cur)\n",
    "print(iris)"
   ]
  },
  {
   "cell_type": "markdown",
   "metadata": {},
   "source": [
    "This dataset is composed of 4 metrics on 3 flower species. The people who saved the data may have done some mistakes by entering many times the same flowers. We will try to find if this dataset has some duplicates. "
   ]
  },
  {
   "cell_type": "markdown",
   "metadata": {},
   "source": [
    "## Duplicates\n",
    "\n",
    "Let's explore the data by displaying descriptive statistics of all the columns."
   ]
  },
  {
   "cell_type": "code",
   "execution_count": 8,
   "metadata": {},
   "outputs": [
    {
     "data": {
      "text/html": [
       "<table style=\"border-collapse: collapse; border: 2px solid white\"><tr style=\"{border: 1px solid white;}\"><td style=\"border-bottom: 1px solid #DDD;font-size:1.02em;background-color:#214579;color:white\"><b></b></td><td style=\"font-size:1.02em;background-color:#214579;color:white\"><b>dtype</b></td><td style=\"font-size:1.02em;background-color:#214579;color:white\"><b>unique</b></td><td style=\"font-size:1.02em;background-color:#214579;color:white\"><b>count</b></td><td style=\"font-size:1.02em;background-color:#214579;color:white\"><b>top</b></td><td style=\"font-size:1.02em;background-color:#214579;color:white\"><b>top_percent</b></td></tr><tr style=\"{border: 1px solid white;}\"><td style=\"border-bottom: 1px solid #DDD;font-size:1.02em;background-color:#214579;color:white\"><b>\"PetalLengthCm\"</b></td><td style=\"border: 1px solid white;\">numeric(5,2)</td><td style=\"border: 1px solid white;\">43</td><td style=\"border: 1px solid white;\">150</td><td style=\"border: 1px solid white;\">1.50</td><td style=\"border: 1px solid white;\">9.333</td></tr><tr style=\"{border: 1px solid white;}\"><td style=\"border-bottom: 1px solid #DDD;font-size:1.02em;background-color:#214579;color:white\"><b>\"SepalLengthCm\"</b></td><td style=\"border: 1px solid white;\">numeric(5,2)</td><td style=\"border: 1px solid white;\">35</td><td style=\"border: 1px solid white;\">150</td><td style=\"border: 1px solid white;\">5.00</td><td style=\"border: 1px solid white;\">6.667</td></tr><tr style=\"{border: 1px solid white;}\"><td style=\"border-bottom: 1px solid #DDD;font-size:1.02em;background-color:#214579;color:white\"><b>\"SepalWidthCm\"</b></td><td style=\"border: 1px solid white;\">numeric(5,2)</td><td style=\"border: 1px solid white;\">23</td><td style=\"border: 1px solid white;\">150</td><td style=\"border: 1px solid white;\">3.00</td><td style=\"border: 1px solid white;\">17.333</td></tr><tr style=\"{border: 1px solid white;}\"><td style=\"border-bottom: 1px solid #DDD;font-size:1.02em;background-color:#214579;color:white\"><b>\"PetalWidthCm\"</b></td><td style=\"border: 1px solid white;\">numeric(5,2)</td><td style=\"border: 1px solid white;\">22</td><td style=\"border: 1px solid white;\">150</td><td style=\"border: 1px solid white;\">0.20</td><td style=\"border: 1px solid white;\">18.667</td></tr><tr style=\"{border: 1px solid white;}\"><td style=\"border-bottom: 1px solid #DDD;font-size:1.02em;background-color:#214579;color:white\"><b>\"Species\"</b></td><td style=\"border: 1px solid white;\">varchar(30)</td><td style=\"border: 1px solid white;\">3</td><td style=\"border: 1px solid white;\">150</td><td style=\"border: 1px solid white;\">Iris-setosa</td><td style=\"border: 1px solid white;\">33.333</td></tr></table>"
      ],
      "text/plain": [
       "<IPython.core.display.HTML object>"
      ]
     },
     "metadata": {},
     "output_type": "display_data"
    },
    {
     "data": {
      "text/plain": [
       "<object>"
      ]
     },
     "execution_count": 8,
     "metadata": {},
     "output_type": "execute_result"
    }
   ],
   "source": [
    "iris.describe(method = \"categorical\")"
   ]
  },
  {
   "cell_type": "markdown",
   "metadata": {},
   "source": [
    "<b>Question 1: </b>Find the data duplicates."
   ]
  },
  {
   "cell_type": "markdown",
   "metadata": {},
   "source": [
    "<b>Question 2: </b>Drop the duplicates."
   ]
  },
  {
   "cell_type": "markdown",
   "metadata": {},
   "source": [
    "<b>Question 3: </b>Why is it important to find and drop the duplicates ?"
   ]
  }
 ],
 "metadata": {
  "kernelspec": {
   "display_name": "Python 3",
   "language": "python",
   "name": "python3"
  },
  "language_info": {
   "codemirror_mode": {
    "name": "ipython",
    "version": 3
   },
   "file_extension": ".py",
   "mimetype": "text/x-python",
   "name": "python",
   "nbconvert_exporter": "python",
   "pygments_lexer": "ipython3",
   "version": "3.6.3"
  }
 },
 "nbformat": 4,
 "nbformat_minor": 2
}
